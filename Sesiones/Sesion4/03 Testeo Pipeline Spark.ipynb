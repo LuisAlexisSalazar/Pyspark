{
 "cells": [
  {
   "cell_type": "code",
   "execution_count": 2,
   "metadata": {},
   "outputs": [
    {
     "data": {
      "text/plain": [
       "'E:\\\\LibreriasPython\\\\spark-3.1.2-bin-hadoop2.7\\\\python\\\\pyspark'"
      ]
     },
     "execution_count": 2,
     "metadata": {},
     "output_type": "execute_result"
    }
   ],
   "source": [
    "# Only when is Local\n",
    "import findspark\n",
    "\n",
    "findspark.init()\n",
    "findspark.find()"
   ]
  },
  {
   "cell_type": "code",
   "execution_count": 6,
   "metadata": {},
   "outputs": [
    {
     "data": {
      "text/html": [
       "<style>pre { white-space: pre !important; }</style>"
      ],
      "text/plain": [
       "<IPython.core.display.HTML object>"
      ]
     },
     "metadata": {},
     "output_type": "display_data"
    }
   ],
   "source": [
    "from IPython.core.display import HTML\n",
    "display(HTML(\"<style>pre { white-space: pre !important; }</style>\"))"
   ]
  },
  {
   "cell_type": "markdown",
   "metadata": {
    "id": "aHTMpMs8gpHa"
   },
   "source": [
    "# **03 Testeo Pipeline Spark**\n",
    "--------------------------------\n",
    "\n",
    "**Agenda**\n",
    "\n",
    "- Importancia de Testeo de Software\n",
    "- Testeo Pipeline\n",
    "-FrameWork para los test: PyDque\n"
   ]
  },
  {
   "cell_type": "code",
   "execution_count": null,
   "metadata": {
    "colab": {
     "base_uri": "https://localhost:8080/"
    },
    "executionInfo": {
     "elapsed": 60456,
     "status": "ok",
     "timestamp": 1644690843372,
     "user": {
      "displayName": "GONZALO ANTONIO DELGADO RUBIO",
      "photoUrl": "https://lh3.googleusercontent.com/a/default-user=s64",
      "userId": "00000985560413717597"
     },
     "user_tz": 300
    },
    "id": "ztnBcTmr22ZX",
    "outputId": "c365c8b9-03d7-469c-c0e1-70e503383929"
   },
   "outputs": [
    {
     "name": "stdout",
     "output_type": "stream",
     "text": [
      "Collecting pyspark\n",
      "  Downloading pyspark-3.2.1.tar.gz (281.4 MB)\n",
      "\u001b[K     |████████████████████████████████| 281.4 MB 31 kB/s \n",
      "\u001b[?25hCollecting py4j\n",
      "  Downloading py4j-0.10.9.3-py2.py3-none-any.whl (198 kB)\n",
      "\u001b[K     |████████████████████████████████| 198 kB 52.5 MB/s \n",
      "\u001b[?25hBuilding wheels for collected packages: pyspark\n",
      "  Building wheel for pyspark (setup.py) ... \u001b[?25l\u001b[?25hdone\n",
      "  Created wheel for pyspark: filename=pyspark-3.2.1-py2.py3-none-any.whl size=281853642 sha256=5645da0114605d7ac70c04ab690f6f571af8fff10b535b75e20a999810555756\n",
      "  Stored in directory: /root/.cache/pip/wheels/9f/f5/07/7cd8017084dce4e93e84e92efd1e1d5334db05f2e83bcef74f\n",
      "Successfully built pyspark\n",
      "Installing collected packages: py4j, pyspark\n",
      "Successfully installed py4j-0.10.9.3 pyspark-3.2.1\n",
      "Collecting pydeequ\n",
      "  Downloading pydeequ-1.0.1-py3-none-any.whl (36 kB)\n",
      "Requirement already satisfied: numpy>=1.14.1 in /usr/local/lib/python3.7/dist-packages (from pydeequ) (1.19.5)\n",
      "Requirement already satisfied: pandas>=0.23.0 in /usr/local/lib/python3.7/dist-packages (from pydeequ) (1.3.5)\n",
      "Requirement already satisfied: pytz>=2017.3 in /usr/local/lib/python3.7/dist-packages (from pandas>=0.23.0->pydeequ) (2018.9)\n",
      "Requirement already satisfied: python-dateutil>=2.7.3 in /usr/local/lib/python3.7/dist-packages (from pandas>=0.23.0->pydeequ) (2.8.2)\n",
      "Requirement already satisfied: six>=1.5 in /usr/local/lib/python3.7/dist-packages (from python-dateutil>=2.7.3->pandas>=0.23.0->pydeequ) (1.15.0)\n",
      "Installing collected packages: pydeequ\n",
      "Successfully installed pydeequ-1.0.1\n"
     ]
    }
   ],
   "source": [
    "# Instalamos Spark  \n",
    "!pip install pyspark py4j\n",
    "!pip install pydeequ"
   ]
  },
  {
   "cell_type": "markdown",
   "metadata": {
    "id": "sKJFnZt3qLZP"
   },
   "source": [
    "## **1.Importancia del Testeo de Software**\n",
    "\n",
    "\n",
    "\n",
    "\n",
    "\n",
    "\n",
    "La importancia del testing de software y de la automatización de pruebas. El testing de software es una de las actividades más importantes y fundamentales en el desarrollo de un proyecto, ya que posibilita los procesos, métodos de trabajo y herramientas necesarias para garantizar la calidad de cualquier desarrollo.\n",
    "\n",
    "\n",
    "<img src=\"data:image/png;base64,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\">\n"
   ]
  },
  {
   "cell_type": "markdown",
   "metadata": {
    "id": "Xp3jMCoPq91U"
   },
   "source": [
    "## **2.Prueba Unitaria**\n",
    "\n",
    "\n",
    "Las pruebas unitarias consisten en verificar el comportamiento de las unidades más pequeñas de su aplicación. Técnicamente, eso sería una clase o incluso un método de clase en los lenguajes orientados a objetos, y un procedimiento o función en los lenguajes procedimentales y funcionales."
   ]
  },
  {
   "cell_type": "markdown",
   "metadata": {
    "id": "AdXjdftXrbUw"
   },
   "source": [
    "### Pruebas Unitarias PySpark"
   ]
  },
  {
   "cell_type": "code",
   "execution_count": null,
   "metadata": {
    "id": "60Jzr3gdgXIu"
   },
   "outputs": [],
   "source": [
    "# Supongamos que tenemos un archivo que queremos probar\n",
    "\n",
    "def link_with_exchange_rates(prices, rates):\n",
    "  return prices.join(rates, [\"currency\",\"date\"])\n",
    "\n",
    "def calculate_unit_price_in_euro(df):\n",
    "  return df.withColumn(\"unit_price_in_euro\",\n",
    "                       col(\"price\") / col(\"quantity\") * col(\"exchange_rate_to_euro\")\n",
    "                       )\n",
    "  \n",
    "\n",
    "# Programa Principal\n",
    "unit_prices_with_ratings = (calculate_unit_price_in_euro(\n",
    "                                  link_with_exchange_rates(prices, exchange_rates)\n",
    "                                  )\n",
    "                            )"
   ]
  },
  {
   "cell_type": "code",
   "execution_count": null,
   "metadata": {
    "id": "LUT1Yqd_sNPz"
   },
   "outputs": [],
   "source": [
    "# Prueba Unitaria \n",
    "import unittest\n",
    "\n",
    "\n",
    "\n",
    "def are_dfs_equal(df1, df2):\n",
    "    if df1.schema != df2.schema:\n",
    "        return False\n",
    "    if df1.collect() != df2.collect():\n",
    "        return False\n",
    "    return True\n",
    "\n",
    "def test_calculate_unit_price_in_euro():\n",
    "  \n",
    "  # Generando registro prueba\n",
    "  record = dict(price=10,\n",
    "                quantity=5,\n",
    "                exchange_rate_to_euro=2.)\n",
    "  \n",
    "  # Aplicando funcion\n",
    "  df = spark.createDataFrame([Row(**record)])\n",
    "  result = calculate_unit_price_in_euro(df)\n",
    "  \n",
    "  # resultado Esperado\n",
    "  expected_record = Row(**record, unit_price_in_euro=4.)\n",
    "  expected = spark.createDataFrame([expected_record])\n",
    "  \n",
    "  assert are_dfs_equal(result, expected)\n",
    "\n",
    "\n",
    "\n",
    "# aplicando prueba unitaria\n",
    "test_calculate_unit_price_in_euro()\n",
    "\n",
    "\n"
   ]
  },
  {
   "cell_type": "markdown",
   "metadata": {
    "id": "Sq6RymQqriHv"
   },
   "source": [
    "## **3.Pruebas de Calidad**"
   ]
  },
  {
   "cell_type": "code",
   "execution_count": null,
   "metadata": {
    "id": "Iv1oULSdrlq1"
   },
   "outputs": [],
   "source": []
  },
  {
   "cell_type": "markdown",
   "metadata": {
    "id": "T8C_cdIQ3DaZ"
   },
   "source": [
    "## **4. FrameWork para los test: PyDque**\n",
    "\n",
    "\n",
    "PyDeequ es una API de Python para Deequ, una biblioteca construida sobre Apache Spark para definir \"pruebas unitarias para datos\", que miden la calidad de los datos en grandes conjuntos de datos. PyDeequ está escrito para admitir el uso de Deequ en Python.\n",
    "\n",
    "\n",
    "<img src=\"https://github.com/awslabs/python-deequ/raw/master/imgs/pydeequ_architecture.jpg\">\n"
   ]
  },
  {
   "cell_type": "code",
   "execution_count": 3,
   "metadata": {
    "colab": {
     "base_uri": "https://localhost:8080/"
    },
    "executionInfo": {
     "elapsed": 24665,
     "status": "ok",
     "timestamp": 1644691254885,
     "user": {
      "displayName": "GONZALO ANTONIO DELGADO RUBIO",
      "photoUrl": "https://lh3.googleusercontent.com/a/default-user=s64",
      "userId": "00000985560413717597"
     },
     "user_tz": 300
    },
    "id": "HwkW4Tv63JDp",
    "outputId": "da6af8ea-0727-4813-f63c-faf40630d381"
   },
   "outputs": [
    {
     "name": "stderr",
     "output_type": "stream",
     "text": [
      "Please set env variable SPARK_VERSION\n"
     ]
    }
   ],
   "source": [
    "from pyspark.sql import SparkSession, Row\n",
    "import pydeequ\n",
    "\n",
    "# Generamos Spark\n",
    "spark = (SparkSession\n",
    "    .builder\n",
    "    .config(\"spark.jars.packages\", pydeequ.deequ_maven_coord)\n",
    "    .config(\"spark.jars.excludes\", pydeequ.f2j_maven_coord)\n",
    "    .getOrCreate())\n",
    "\n",
    "# Lectura Df Test\n",
    "df = spark.sparkContext.parallelize([\n",
    "            Row(a=\"foo\", b=1, c=5),\n",
    "            Row(a=\"bar\", b=2, c=6),\n",
    "            Row(a=\"baz\", b=3, c=None)]).toDF()"
   ]
  },
  {
   "cell_type": "code",
   "execution_count": 4,
   "metadata": {
    "colab": {
     "base_uri": "https://localhost:8080/"
    },
    "executionInfo": {
     "elapsed": 1833,
     "status": "ok",
     "timestamp": 1644685000730,
     "user": {
      "displayName": "GONZALO ANTONIO DELGADO RUBIO",
      "photoUrl": "https://lh3.googleusercontent.com/a/default-user=s64",
      "userId": "00000985560413717597"
     },
     "user_tz": 300
    },
    "id": "do5JUlyh3QR7",
    "outputId": "2cc3d058-5648-4798-b688-68d6c4d0894a",
    "scrolled": true
   },
   "outputs": [
    {
     "name": "stdout",
     "output_type": "stream",
     "text": [
      "+---+---+----+\n",
      "|  a|  b|   c|\n",
      "+---+---+----+\n",
      "|foo|  1|   5|\n",
      "|bar|  2|   6|\n",
      "|baz|  3|null|\n",
      "+---+---+----+\n",
      "\n"
     ]
    }
   ],
   "source": [
    "df.show()"
   ]
  },
  {
   "cell_type": "code",
   "execution_count": null,
   "metadata": {
    "colab": {
     "base_uri": "https://localhost:8080/"
    },
    "executionInfo": {
     "elapsed": 3927,
     "status": "ok",
     "timestamp": 1644691593770,
     "user": {
      "displayName": "GONZALO ANTONIO DELGADO RUBIO",
      "photoUrl": "https://lh3.googleusercontent.com/a/default-user=s64",
      "userId": "00000985560413717597"
     },
     "user_tz": 300
    },
    "id": "ZXwTP08j3XYm",
    "outputId": "1fe31b95-28b4-4db1-deeb-7d369d13df8f"
   },
   "outputs": [
    {
     "name": "stdout",
     "output_type": "stream",
     "text": [
      "+-------+--------+------------+-----+\n",
      "| entity|instance|        name|value|\n",
      "+-------+--------+------------+-----+\n",
      "|Dataset|       *|        Size|  3.0|\n",
      "| Column|       b|Completeness|  1.0|\n",
      "+-------+--------+------------+-----+\n",
      "\n"
     ]
    }
   ],
   "source": [
    "from pydeequ.analyzers import *\n",
    "\n",
    "# Estableciendo análisis \n",
    "analysisResult = (AnalysisRunner(spark)\n",
    "                    # Df analizar\n",
    "                    .onData(df)\n",
    "                    # Cantidad Registros\n",
    "                    .addAnalyzer(Size())\n",
    "                    # Prueba completitud sobre columna 'b'\n",
    "                    .addAnalyzer(Completeness(\"b\"))\n",
    "                    .run()\n",
    ")\n",
    "\n",
    "# Mostrando resultados\n",
    "analysisResult_df = AnalyzerContext.successMetricsAsDataFrame(spark, analysisResult)\n",
    "analysisResult_df.show()"
   ]
  },
  {
   "cell_type": "markdown",
   "metadata": {
    "id": "n9Y0ck6JNPpm"
   },
   "source": [
    "- **Verificación de restricciones**\n",
    "\n",
    "Colocando resultados\n"
   ]
  },
  {
   "cell_type": "code",
   "execution_count": null,
   "metadata": {
    "colab": {
     "base_uri": "https://localhost:8080/"
    },
    "executionInfo": {
     "elapsed": 3544,
     "status": "ok",
     "timestamp": 1644691600861,
     "user": {
      "displayName": "GONZALO ANTONIO DELGADO RUBIO",
      "photoUrl": "https://lh3.googleusercontent.com/a/default-user=s64",
      "userId": "00000985560413717597"
     },
     "user_tz": 300
    },
    "id": "DPm4uEXx4xbP",
    "outputId": "0d36c342-9493-4028-af6c-c542447c6607"
   },
   "outputs": [],
   "source": [
    "from pydeequ.checks import *\n",
    "from pydeequ.verification import *\n",
    "\n",
    "check = Check(spark, CheckLevel.Warning, \"Review Check\")\n",
    "\n",
    "checkResult = (VerificationSuite(spark)\n",
    "    .onData(df)\n",
    "    .addCheck(\n",
    "        # listado pruebas\n",
    "        check.hasSize(lambda x: x >= 3) #cantidad de registros\n",
    "        .hasMin(\"b\", lambda x: x == 0) #en la column \"b\" el valor minimo sea 0\n",
    "        .isComplete(\"c\")\n",
    "        .isUnique(\"a\") #test de llaves unicas  \n",
    "        .isContainedIn(\"a\", [\"foo\", \"bar\", \"baz\"])\n",
    "        .isNonNegative(\"b\")) #test de valores no negativos\n",
    "    .run()\n",
    ")\n",
    "\n",
    "checkResult_df = VerificationResult.checkResultsAsDataFrame(spark, checkResult)\n",
    "checkResult_df.show(truncate=False)"
   ]
  },
  {
   "cell_type": "code",
   "execution_count": 7,
   "metadata": {
    "id": "WaakunO03cEu"
   },
   "outputs": [],
   "source": [
    "# Finalizando spark context\n",
    "spark.sparkContext._gateway.shutdown_callback_server()\n",
    "spark.stop()"
   ]
  },
  {
   "cell_type": "markdown",
   "metadata": {
    "id": "qGVALq303jYP"
   },
   "source": [
    "# Referencias\n",
    "\n",
    "\n",
    "\n",
    "- [Pydeequ](https://github.com/awslabs/python-deequ)\n",
    "\n",
    "- [Guia Pydeequ AWS](https://aws.amazon.com/es/blogs/big-data/testing-data-quality-at-scale-with-pydeequ/)\n",
    "\n",
    "- [Pydeequ Documentation](https://pydeequ.readthedocs.io/en/latest/)\n",
    "\n",
    "- [Unit Test Spark](https://towardsdatascience.com/testing-pyspark-dataframe-transformations-d3d16c798a84)"
   ]
  }
 ],
 "metadata": {
  "colab": {
   "authorship_tag": "ABX9TyN3W05us+BQXShYdwmo3ct0",
   "name": "03 Testeo Pipeline Spark.ipynb",
   "provenance": []
  },
  "kernelspec": {
   "display_name": "Python 3 (ipykernel)",
   "language": "python",
   "name": "python3"
  },
  "language_info": {
   "codemirror_mode": {
    "name": "ipython",
    "version": 3
   },
   "file_extension": ".py",
   "mimetype": "text/x-python",
   "name": "python",
   "nbconvert_exporter": "python",
   "pygments_lexer": "ipython3",
   "version": "3.8.1"
  }
 },
 "nbformat": 4,
 "nbformat_minor": 1
}
