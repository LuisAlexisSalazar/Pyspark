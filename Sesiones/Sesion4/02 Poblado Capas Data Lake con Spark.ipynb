{
 "cells": [
  {
   "cell_type": "code",
   "execution_count": 1,
   "metadata": {},
   "outputs": [
    {
     "data": {
      "text/plain": [
       "'E:\\\\LibreriasPython\\\\spark-3.1.2-bin-hadoop2.7\\\\python\\\\pyspark'"
      ]
     },
     "execution_count": 1,
     "metadata": {},
     "output_type": "execute_result"
    }
   ],
   "source": [
    "# Only when is Local\n",
    "import findspark\n",
    "\n",
    "findspark.init()\n",
    "findspark.find()"
   ]
  },
  {
   "cell_type": "code",
   "execution_count": 10,
   "metadata": {},
   "outputs": [
    {
     "data": {
      "text/html": [
       "<style>pre { white-space: pre !important; }</style>"
      ],
      "text/plain": [
       "<IPython.core.display.HTML object>"
      ]
     },
     "metadata": {},
     "output_type": "display_data"
    }
   ],
   "source": [
    "from IPython.core.display import HTML\n",
    "display(HTML(\"<style>pre { white-space: pre !important; }</style>\"))"
   ]
  },
  {
   "cell_type": "markdown",
   "metadata": {
    "id": "8gEX_FQxfW34"
   },
   "source": [
    "# **02 Poblado de Capas DataLake con Spark**\n",
    "---------------------------------------\n",
    "\n",
    "**Agenda**\n",
    "- Poblado Capa Landing\n",
    "- Poblado Capa Raw\n",
    "- Poblado Capa Master o Silver\n",
    "- Poblado Capa Business\n"
   ]
  },
  {
   "cell_type": "markdown",
   "metadata": {
    "id": "94fii6Iys_zb"
   },
   "source": [
    "## **Poblado Data Lake: Caso Data Coronavirus**\n",
    "----------------------------------------\n",
    "\n",
    "Lo han contratado como ingeniero de datos para realizar el poblado del datalake con información de coranavirus con el fin de que el negocio pueda tener la información disponible para sus modelos análiticos de datos.\n",
    "\n",
    "\n",
    "Con este fin se le solicita poblar el datalake:\n",
    "- Generar [ingesta de los Datos](https://docs.google.com/drawings/d/1oguRlE-4iIpcwtyPVBKvKUOSoAkm_HxHe4aYF5vNe-4/edit) (Poblado landing, raw y master)\n",
    "- Realizar la lógica de negocio solicitada (Capa business)\n"
   ]
  },
  {
   "cell_type": "code",
   "execution_count": null,
   "metadata": {
    "colab": {
     "base_uri": "https://localhost:8080/"
    },
    "executionInfo": {
     "elapsed": 55192,
     "status": "ok",
     "timestamp": 1644380337411,
     "user": {
      "displayName": "GONZALO ANTONIO DELGADO RUBIO",
      "photoUrl": "https://lh3.googleusercontent.com/a/default-user=s64",
      "userId": "00000985560413717597"
     },
     "user_tz": 300
    },
    "id": "dNnVuEkymOrP",
    "outputId": "68ed6211-d1b4-4205-a9a8-b51b64ff9460"
   },
   "outputs": [
    {
     "name": "stdout",
     "output_type": "stream",
     "text": [
      "Collecting pyspark\n",
      "  Downloading pyspark-3.2.1.tar.gz (281.4 MB)\n",
      "\u001b[K     |████████████████████████████████| 281.4 MB 28 kB/s \n",
      "\u001b[?25hCollecting py4j\n",
      "  Downloading py4j-0.10.9.3-py2.py3-none-any.whl (198 kB)\n",
      "\u001b[K     |████████████████████████████████| 198 kB 45.4 MB/s \n",
      "\u001b[?25hBuilding wheels for collected packages: pyspark\n",
      "  Building wheel for pyspark (setup.py) ... \u001b[?25l\u001b[?25hdone\n",
      "  Created wheel for pyspark: filename=pyspark-3.2.1-py2.py3-none-any.whl size=281853642 sha256=68ff0f82469bd99e9489d85659845ec8e7fd5cf50383aa8ac494b7b602700536\n",
      "  Stored in directory: /root/.cache/pip/wheels/9f/f5/07/7cd8017084dce4e93e84e92efd1e1d5334db05f2e83bcef74f\n",
      "Successfully built pyspark\n",
      "Installing collected packages: py4j, pyspark\n",
      "Successfully installed py4j-0.10.9.3 pyspark-3.2.1\n"
     ]
    }
   ],
   "source": [
    "# Instalamos Spark\n",
    "# !pip install pyspark py4j"
   ]
  },
  {
   "cell_type": "code",
   "execution_count": 2,
   "metadata": {
    "id": "Ryd9gIBXmOnx"
   },
   "outputs": [],
   "source": [
    "# Inicializamos Spark Session\n",
    "import pyspark\n",
    "from pyspark.sql import SparkSession\n",
    "from pyspark.sql import functions as F\n",
    "import os\n",
    "import shutil\n",
    "\n",
    "\n",
    "# inicializamos datos\n",
    "spark = SparkSession.builder.appName('spark_test').getOrCreate()"
   ]
  },
  {
   "cell_type": "code",
   "execution_count": 4,
   "metadata": {
    "colab": {
     "base_uri": "https://localhost:8080/"
    },
    "executionInfo": {
     "elapsed": 67,
     "status": "ok",
     "timestamp": 1644380415576,
     "user": {
      "displayName": "GONZALO ANTONIO DELGADO RUBIO",
      "photoUrl": "https://lh3.googleusercontent.com/a/default-user=s64",
      "userId": "00000985560413717597"
     },
     "user_tz": 300
    },
    "id": "HVcQhGzSmOkm",
    "outputId": "b5c3828e-e859-4200-b0d5-73d3a04de476"
   },
   "outputs": [
    {
     "name": "stdout",
     "output_type": "stream",
     "text": [
      "E:\\Repositorio\\Pyspark\\Sesiones\\Sesion4\n",
      "['.ipynb_checkpoints', '01 Arquitecturas Procesamiento Big Data.ipynb', '02 Poblado Capas Data Lake con Spark.ipynb', '03 Testeo Pipeline Spark.ipynb', 'business', 'Case.csv', 'Excel Procesamiento.xlsx', 'FLUJO INGESTA DE DATO.pdf', 'Flujo Procesamiento.pdf', 'Laboratorio.ipynb', 'landing', 'master', 'PatientInfo.csv', 'Policy.csv', 'raw', 'Region.csv', 'SearchTrend.csv', 'SeoulFloating.csv', 'test_demo', 'Time.csv', 'TimeAge.csv', 'TimeGender.csv', 'TimeProvince.csv', 'Weather.csv']\n"
     ]
    }
   ],
   "source": [
    "# Creamos zonas data lake\n",
    "folders = ['landing', 'raw', 'master', 'business']\n",
    "for folder in folders:\n",
    "    #     path_temp = path + folder\n",
    "    #     if not os.path.isdir(folder):\n",
    "    os.mkdir(folder)\n",
    "\n",
    "\n",
    "print(os.getcwd())\n",
    "print(os.listdir())"
   ]
  },
  {
   "cell_type": "markdown",
   "metadata": {
    "id": "o737Orchfyl6"
   },
   "source": [
    "## 1. **Poblado Capa Landing**\n",
    "-------------------------\n",
    "\n",
    "- Cargue los Archivos `.csv` pertenecientes a Coronavirus Dataset\n",
    "- Genere un pipeline de datos para cargar los archivos en la zona corresponfiente a landing\n",
    "\n"
   ]
  },
  {
   "cell_type": "code",
   "execution_count": 34,
   "metadata": {},
   "outputs": [],
   "source": [
    "# Herramientas para mover información de un lugar a otro como sqoop o apache kafka\n",
    "new_path = \"E:\\\\Repositorio\\\\Pyspark\\\\Sesiones\\\\data\\\\\""
   ]
  },
  {
   "cell_type": "code",
   "execution_count": null,
   "metadata": {
    "id": "lVeo2yjHfyH3"
   },
   "outputs": [],
   "source": [
    "# Cargando data Google Colab\n",
    "uploaded = files.upload()"
   ]
  },
  {
   "cell_type": "code",
   "execution_count": 37,
   "metadata": {
    "id": "YoAqv0TImciD"
   },
   "outputs": [],
   "source": [
    "os.chdir(new_path)"
   ]
  },
  {
   "cell_type": "code",
   "execution_count": 19,
   "metadata": {},
   "outputs": [
    {
     "name": "stdout",
     "output_type": "stream",
     "text": [
      "E:\\Repositorio\\Pyspark\\Sesiones\\Sesion4\n"
     ]
    }
   ],
   "source": [
    "print(os.getcwd())"
   ]
  },
  {
   "cell_type": "code",
   "execution_count": 6,
   "metadata": {},
   "outputs": [],
   "source": [
    "for file in os.listdir():\n",
    "  if '.csv' in file:\n",
    "    shutil.move(file, f'./landing/{file}')"
   ]
  },
  {
   "cell_type": "markdown",
   "metadata": {
    "id": "i0h0INjdf6Nc"
   },
   "source": [
    "## **2. Poblado Capa Raw**\n",
    "-----------------------\n",
    "\n",
    "- **Genere los esquemas pertinentes** para cada uno de los archivos.\n",
    "- **Renombre las columnas para cada archivo a fin de estandarizar los nombres** en caso lo considere\n",
    "- Guarde cada tabla en la capa Raw usando el formato `avro`\n",
    "- Nombre de tabla  `csv_file_name + table + raw` Ejemplo: case_table_raw\n",
    "- Agregue un campo a manera de auditoria `AuditDate -> timestamp`\n",
    "\n"
   ]
  },
  {
   "cell_type": "code",
   "execution_count": 12,
   "metadata": {
    "id": "Abuix99ef_gy"
   },
   "outputs": [],
   "source": [
    "# lectura de archivo en landing\n",
    "\n",
    "from pyspark.sql.types import StructField, StructType, StringType, TimestampType\n",
    "from pyspark.sql import functions as F\n",
    "from datetime import datetime\n",
    "\n",
    "\n",
    "path = './landing/Case.csv'\n",
    "\n",
    "options = {\n",
    "    'header': True,\n",
    "    'sep': ','\n",
    "}\n",
    "schema = StructType([\n",
    "    StructField(\"case_id\", StringType()),\n",
    "    StructField(\"province\", StringType()),\n",
    "    StructField(\"city\", StringType()),\n",
    "    StructField(\"group\", StringType()),\n",
    "    StructField(\"infection_case\", StringType()),\n",
    "    StructField(\"confirmed\", StringType()),\n",
    "    StructField(\"latitude\", StringType()),\n",
    "    StructField(\"longitude\", StringType()),\n",
    "])\n",
    "\n",
    "\n",
    "df = spark.read.options(**options).schema(schema).csv(path)\n",
    "\n",
    "# renombrar columnas"
   ]
  },
  {
   "cell_type": "code",
   "execution_count": 13,
   "metadata": {},
   "outputs": [
    {
     "name": "stdout",
     "output_type": "stream",
     "text": [
      "root\n",
      " |-- case_id: string (nullable = true)\n",
      " |-- province: string (nullable = true)\n",
      " |-- city: string (nullable = true)\n",
      " |-- group: string (nullable = true)\n",
      " |-- infection_case: string (nullable = true)\n",
      " |-- confirmed: string (nullable = true)\n",
      " |-- latitude: string (nullable = true)\n",
      " |-- longitude: string (nullable = true)\n",
      "\n"
     ]
    }
   ],
   "source": [
    "df.printSchema()"
   ]
  },
  {
   "cell_type": "code",
   "execution_count": 16,
   "metadata": {},
   "outputs": [],
   "source": [
    "# Columnas de auditoria\n",
    "\n",
    "df = df.withColumn('auditDate', F.to_timestamp( F.lit(datetime.now())) )"
   ]
  },
  {
   "cell_type": "code",
   "execution_count": 17,
   "metadata": {},
   "outputs": [
    {
     "name": "stdout",
     "output_type": "stream",
     "text": [
      "-RECORD 0-------------------------------------------------------\n",
      " case_id        | 1000001                                       \n",
      " province       | Seoul                                         \n",
      " city           | Yongsan-gu                                    \n",
      " group          | TRUE                                          \n",
      " infection_case | Itaewon Clubs                                 \n",
      " confirmed      | 139                                           \n",
      " latitude       | 37.538621                                     \n",
      " longitude      | 126.992652                                    \n",
      " auditDate      | 2022-02-13 17:17:20.150681                    \n",
      "-RECORD 1-------------------------------------------------------\n",
      " case_id        | 1000002                                       \n",
      " province       | Seoul                                         \n",
      " city           | Gwanak-gu                                     \n",
      " group          | TRUE                                          \n",
      " infection_case | Richway                                       \n",
      " confirmed      | 119                                           \n",
      " latitude       | 37.48208                                      \n",
      " longitude      | 126.901384                                    \n",
      " auditDate      | 2022-02-13 17:17:20.150681                    \n",
      "-RECORD 2-------------------------------------------------------\n",
      " case_id        | 1000003                                       \n",
      " province       | Seoul                                         \n",
      " city           | Guro-gu                                       \n",
      " group          | TRUE                                          \n",
      " infection_case | Guro-gu Call Center                           \n",
      " confirmed      | 95                                            \n",
      " latitude       | 37.508163                                     \n",
      " longitude      | 126.884387                                    \n",
      " auditDate      | 2022-02-13 17:17:20.150681                    \n",
      "-RECORD 3-------------------------------------------------------\n",
      " case_id        | 1000004                                       \n",
      " province       | Seoul                                         \n",
      " city           | Yangcheon-gu                                  \n",
      " group          | TRUE                                          \n",
      " infection_case | Yangcheon Table Tennis Club                   \n",
      " confirmed      | 43                                            \n",
      " latitude       | 37.546061                                     \n",
      " longitude      | 126.874209                                    \n",
      " auditDate      | 2022-02-13 17:17:20.150681                    \n",
      "-RECORD 4-------------------------------------------------------\n",
      " case_id        | 1000005                                       \n",
      " province       | Seoul                                         \n",
      " city           | Dobong-gu                                     \n",
      " group          | TRUE                                          \n",
      " infection_case | Day Care Center                               \n",
      " confirmed      | 43                                            \n",
      " latitude       | 37.679422                                     \n",
      " longitude      | 127.044374                                    \n",
      " auditDate      | 2022-02-13 17:17:20.150681                    \n",
      "-RECORD 5-------------------------------------------------------\n",
      " case_id        | 1000006                                       \n",
      " province       | Seoul                                         \n",
      " city           | Guro-gu                                       \n",
      " group          | TRUE                                          \n",
      " infection_case | Manmin Central Church                         \n",
      " confirmed      | 41                                            \n",
      " latitude       | 37.481059                                     \n",
      " longitude      | 126.894343                                    \n",
      " auditDate      | 2022-02-13 17:17:20.150681                    \n",
      "-RECORD 6-------------------------------------------------------\n",
      " case_id        | 1000007                                       \n",
      " province       | Seoul                                         \n",
      " city           | from other city                               \n",
      " group          | TRUE                                          \n",
      " infection_case | SMR Newly Planted Churches Group              \n",
      " confirmed      | 36                                            \n",
      " latitude       | -                                             \n",
      " longitude      | -                                             \n",
      " auditDate      | 2022-02-13 17:17:20.150681                    \n",
      "-RECORD 7-------------------------------------------------------\n",
      " case_id        | 1000008                                       \n",
      " province       | Seoul                                         \n",
      " city           | Dongdaemun-gu                                 \n",
      " group          | TRUE                                          \n",
      " infection_case | Dongan Church                                 \n",
      " confirmed      | 17                                            \n",
      " latitude       | 37.592888                                     \n",
      " longitude      | 127.056766                                    \n",
      " auditDate      | 2022-02-13 17:17:20.150681                    \n",
      "-RECORD 8-------------------------------------------------------\n",
      " case_id        | 1000009                                       \n",
      " province       | Seoul                                         \n",
      " city           | from other city                               \n",
      " group          | TRUE                                          \n",
      " infection_case | Coupang Logistics Center                      \n",
      " confirmed      | 25                                            \n",
      " latitude       | -                                             \n",
      " longitude      | -                                             \n",
      " auditDate      | 2022-02-13 17:17:20.150681                    \n",
      "-RECORD 9-------------------------------------------------------\n",
      " case_id        | 1000010                                       \n",
      " province       | Seoul                                         \n",
      " city           | Gwanak-gu                                     \n",
      " group          | TRUE                                          \n",
      " infection_case | Wangsung Church                               \n",
      " confirmed      | 30                                            \n",
      " latitude       | 37.481735                                     \n",
      " longitude      | 126.930121                                    \n",
      " auditDate      | 2022-02-13 17:17:20.150681                    \n",
      "-RECORD 10------------------------------------------------------\n",
      " case_id        | 1000011                                       \n",
      " province       | Seoul                                         \n",
      " city           | Eunpyeong-gu                                  \n",
      " group          | TRUE                                          \n",
      " infection_case | Eunpyeong St. Mary's Hospital                 \n",
      " confirmed      | 14                                            \n",
      " latitude       | 37.63369                                      \n",
      " longitude      | 126.9165                                      \n",
      " auditDate      | 2022-02-13 17:17:20.150681                    \n",
      "-RECORD 11------------------------------------------------------\n",
      " case_id        | 1000012                                       \n",
      " province       | Seoul                                         \n",
      " city           | Seongdong-gu                                  \n",
      " group          | TRUE                                          \n",
      " infection_case | Seongdong-gu APT                              \n",
      " confirmed      | 13                                            \n",
      " latitude       | 37.55713                                      \n",
      " longitude      | 127.0403                                      \n",
      " auditDate      | 2022-02-13 17:17:20.150681                    \n",
      "-RECORD 12------------------------------------------------------\n",
      " case_id        | 1000013                                       \n",
      " province       | Seoul                                         \n",
      " city           | Jongno-gu                                     \n",
      " group          | TRUE                                          \n",
      " infection_case | Jongno Community Center                       \n",
      " confirmed      | 10                                            \n",
      " latitude       | 37.57681                                      \n",
      " longitude      | 127.006                                       \n",
      " auditDate      | 2022-02-13 17:17:20.150681                    \n",
      "-RECORD 13------------------------------------------------------\n",
      " case_id        | 1000014                                       \n",
      " province       | Seoul                                         \n",
      " city           | Gangnam-gu                                    \n",
      " group          | TRUE                                          \n",
      " infection_case | Samsung Medical Center                        \n",
      " confirmed      | 7                                             \n",
      " latitude       | 37.48825                                      \n",
      " longitude      | 127.08559                                     \n",
      " auditDate      | 2022-02-13 17:17:20.150681                    \n",
      "-RECORD 14------------------------------------------------------\n",
      " case_id        | 1000015                                       \n",
      " province       | Seoul                                         \n",
      " city           | Jung-gu                                       \n",
      " group          | TRUE                                          \n",
      " infection_case | Jung-gu Fashion Company                       \n",
      " confirmed      | 7                                             \n",
      " latitude       | 37.562405                                     \n",
      " longitude      | 126.984377                                    \n",
      " auditDate      | 2022-02-13 17:17:20.150681                    \n",
      "-RECORD 15------------------------------------------------------\n",
      " case_id        | 1000016                                       \n",
      " province       | Seoul                                         \n",
      " city           | Seodaemun-gu                                  \n",
      " group          | TRUE                                          \n",
      " infection_case | Yeonana News Class                            \n",
      " confirmed      | 5                                             \n",
      " latitude       | 37.558147                                     \n",
      " longitude      | 126.943799                                    \n",
      " auditDate      | 2022-02-13 17:17:20.150681                    \n",
      "-RECORD 16------------------------------------------------------\n",
      " case_id        | 1000017                                       \n",
      " province       | Seoul                                         \n",
      " city           | Jongno-gu                                     \n",
      " group          | TRUE                                          \n",
      " infection_case | Korea Campus Crusade of Christ                \n",
      " confirmed      | 7                                             \n",
      " latitude       | 37.594782                                     \n",
      " longitude      | 126.968022                                    \n",
      " auditDate      | 2022-02-13 17:17:20.150681                    \n",
      "-RECORD 17------------------------------------------------------\n",
      " case_id        | 1000018                                       \n",
      " province       | Seoul                                         \n",
      " city           | Gangnam-gu                                    \n",
      " group          | TRUE                                          \n",
      " infection_case | Gangnam Yeoksam-dong gathering                \n",
      " confirmed      | 6                                             \n",
      " latitude       | -                                             \n",
      " longitude      | -                                             \n",
      " auditDate      | 2022-02-13 17:17:20.150681                    \n",
      "-RECORD 18------------------------------------------------------\n",
      " case_id        | 1000019                                       \n",
      " province       | Seoul                                         \n",
      " city           | from other city                               \n",
      " group          | TRUE                                          \n",
      " infection_case | Daejeon door-to-door sales                    \n",
      " confirmed      | 1                                             \n",
      " latitude       | -                                             \n",
      " longitude      | -                                             \n",
      " auditDate      | 2022-02-13 17:17:20.150681                    \n",
      "-RECORD 19------------------------------------------------------\n",
      " case_id        | 1000020                                       \n",
      " province       | Seoul                                         \n",
      " city           | Geumcheon-gu                                  \n",
      " group          | TRUE                                          \n",
      " infection_case | Geumcheon-gu rice milling machine manufacture \n",
      " confirmed      | 6                                             \n",
      " latitude       | -                                             \n",
      " longitude      | -                                             \n",
      " auditDate      | 2022-02-13 17:17:20.150681                    \n",
      "only showing top 20 rows\n",
      "\n"
     ]
    }
   ],
   "source": [
    "df.show(truncate = False,vertical=True)"
   ]
  },
  {
   "cell_type": "code",
   "execution_count": 20,
   "metadata": {},
   "outputs": [],
   "source": [
    "# guardar en zona raw\n",
    "df.write.mode('overwrite').parquet('./raw/case_table_raw')"
   ]
  },
  {
   "cell_type": "code",
   "execution_count": 21,
   "metadata": {},
   "outputs": [
    {
     "name": "stdout",
     "output_type": "stream",
     "text": [
      "['case_table_raw']\n"
     ]
    }
   ],
   "source": [
    "print(os.listdir('raw'))"
   ]
  },
  {
   "cell_type": "code",
   "execution_count": 22,
   "metadata": {},
   "outputs": [
    {
     "name": "stdout",
     "output_type": "stream",
     "text": [
      "['.part-00000-d8476ea2-7a7c-4391-adb6-567ff75b813e-c000.snappy.parquet.crc', '._SUCCESS.crc', 'part-00000-d8476ea2-7a7c-4391-adb6-567ff75b813e-c000.snappy.parquet', '_SUCCESS']\n"
     ]
    }
   ],
   "source": [
    "print(os.listdir('raw/case_table_raw'))"
   ]
  },
  {
   "cell_type": "code",
   "execution_count": 23,
   "metadata": {},
   "outputs": [],
   "source": [
    "class LoadRawData:\n",
    "  def __init__(self, path: str):\n",
    "    self.input_path = path\n",
    "    pass\n",
    "  \n",
    "  def extract_df(self, schema, options):\n",
    "    \"\"\"\n",
    "    Extract DataFrame\n",
    "    \"\"\"\n",
    "    df = spark.read.options(**options).schema(schema).csv(self.input_path)\n",
    "    self.extractDf = df\n",
    "    pass\n",
    "\n",
    "  def transform_df(self):\n",
    "    \"\"\"\n",
    "    Transform Df\n",
    "    \"\"\"\n",
    "\n",
    "    # transformando Df\n",
    "    transformDF = (self.extractDf\n",
    "                        .withColumn( 'auditDate', \n",
    "                                    F.to_timestamp( F.lit(datetime.now())) \n",
    "                                    )\n",
    "                        )\n",
    "    \n",
    "    self.transformDf = transformDF\n",
    "    pass\n",
    "\n",
    "  \n",
    "  def load_df(self, out_path):\n",
    "    df =  self.transformDf\n",
    "    df.write.mode('overwrite').parquet(out_path)\n",
    "    pass\n",
    "  pass\n"
   ]
  },
  {
   "cell_type": "code",
   "execution_count": 24,
   "metadata": {},
   "outputs": [],
   "source": [
    "# case.csv\n",
    "\n",
    "\n",
    "\n",
    "options = {\n",
    "    'header': True,\n",
    "    'sep': ','\n",
    "}\n",
    "schema = StructType([\n",
    "    StructField(\"case_id\", StringType()),\n",
    "    StructField(\"province\", StringType()),\n",
    "    StructField(\"city\", StringType()),\n",
    "    StructField(\"group\", StringType()),\n",
    "    StructField(\"infection_case\", StringType()),\n",
    "    StructField(\"confirmed\", StringType()),\n",
    "    StructField(\"latitude\", StringType()),\n",
    "    StructField(\"longitude\", StringType()),\n",
    "])\n",
    "\n",
    "# ETL\n",
    "loadCase = LoadRawData('./landing/Case.csv')\n",
    "loadCase.extract_df(schema, options)\n",
    "loadCase.transform_df()\n",
    "loadCase.load_df('./raw/case_table_raw')\n",
    "\n",
    "\n",
    "\n"
   ]
  },
  {
   "cell_type": "code",
   "execution_count": 25,
   "metadata": {},
   "outputs": [],
   "source": [
    "# Region.csv\n",
    "\n",
    "\n",
    "\n",
    "options = {\n",
    "    'header': True,\n",
    "    'sep': ','\n",
    "}\n",
    "schema = StructType([\n",
    "    StructField('code', StringType()),\n",
    "    StructField('province', StringType()),\n",
    "    StructField('city', StringType()),\n",
    "    StructField('latitude', StringType()),\n",
    "    StructField('longitude', StringType()),\n",
    "    StructField('elementary_school_count', StringType()),\n",
    "    StructField('kindergarten_count', StringType()),\n",
    "    StructField('university_count', StringType()),\n",
    "    StructField('academy_ratio', StringType()),\n",
    "    StructField('elderly_population_ratio', StringType()),\n",
    "    StructField('elderly_alone_ratio', StringType()),\n",
    "    StructField('nursing_home_count', StringType())\n",
    "])\n",
    "# ETL\n",
    "loadCase = LoadRawData('./landing/Region.csv')\n",
    "loadCase.extract_df(schema, options)\n",
    "loadCase.transform_df()\n",
    "loadCase.load_df('./raw/region_table_raw')"
   ]
  },
  {
   "cell_type": "code",
   "execution_count": 26,
   "metadata": {},
   "outputs": [],
   "source": [
    "# TimeProvince.csv\n",
    "\n",
    "\n",
    "\n",
    "options = {\n",
    "    'header': True,\n",
    "    'sep': ','\n",
    "}\n",
    "schema = StructType([\n",
    "    StructField('date', StringType()),\n",
    "    StructField('time', StringType()),\n",
    "    StructField('province', StringType()),\n",
    "    StructField('confirmed', StringType()),\n",
    "    StructField('released', StringType()),\n",
    "    StructField('deceased', StringType())\n",
    "])\n",
    "\n",
    "\n",
    "# ETL\n",
    "loadCase = LoadRawData('./landing/TimeProvince.csv')\n",
    "loadCase.extract_df(schema, options)\n",
    "loadCase.transform_df()\n",
    "loadCase.load_df('./raw/time_province_table_raw')\n",
    "\n",
    "\n",
    "\n"
   ]
  },
  {
   "cell_type": "code",
   "execution_count": 27,
   "metadata": {},
   "outputs": [
    {
     "name": "stdout",
     "output_type": "stream",
     "text": [
      "E:\\Repositorio\\Pyspark\\Sesiones\\Sesion4\n",
      "['case_table_raw', 'region_table_raw', 'time_province_table_raw']\n"
     ]
    }
   ],
   "source": [
    "print(os.getcwd())\n",
    "print(os.listdir('./raw/'))"
   ]
  },
  {
   "cell_type": "markdown",
   "metadata": {
    "id": "Y_cZzrF7gCvE"
   },
   "source": [
    "## **3. Poblado Capa Master**\n",
    "-----------------------------\n",
    "Para cada tabla en la capa raw: \n",
    "\n",
    "- **Establesca su esquema** correspondiente (tipo de dato apropiado)\n",
    "- **Genere columnas de auditoria** \n",
    "- Nombre de tabla  `csv_file_name + table + master` \n",
    "  \n",
    "  **Ejemplo:**\n",
    "  \n",
    "    case_table_master\n",
    "\n",
    "- Almanece los datos en formato `parquet`"
   ]
  },
  {
   "cell_type": "code",
   "execution_count": 28,
   "metadata": {
    "id": "ywLsM8sEgBX9"
   },
   "outputs": [],
   "source": [
    "# case_table_raw\n",
    "\n",
    "from pyspark.sql.types import StructField, StructType, StringType, TimestampType, IntegerType, BooleanType, FloatType\n",
    "from pyspark.sql import functions as F\n",
    "from datetime import datetime\n",
    "\n",
    "\n",
    "\n",
    "schema = StructType([\n",
    "    StructField(\"case_id\", StringType()),\n",
    "    StructField(\"province\", StringType()),\n",
    "    StructField(\"city\", StringType()),\n",
    "    StructField(\"group\", StringType()),\n",
    "    StructField(\"infection_case\", StringType()),\n",
    "    StructField(\"confirmed\", StringType()),\n",
    "    StructField(\"latitude\", StringType()),\n",
    "    StructField(\"longitude\", StringType()),\n",
    "])\n",
    "\n",
    "# leer schema anterio - > cast a las columnas segun corresponda\n",
    "\n",
    "casosTableDf = spark.read.schema(schema).parquet('./raw/case_table_raw')\n",
    "\n",
    "\n",
    "# Nuevo schema con la definición correcta de los datos\n",
    "dicx_case_cast ={\n",
    "    'case_id': IntegerType(),\n",
    "    'province': StringType(),\n",
    "    'city': StringType(),\n",
    "    'group': BooleanType(),\n",
    "    'infection_case': StringType(),\n",
    "    'confirmed': IntegerType(),\n",
    "    'latitude': FloatType(),\n",
    "    'longitude': FloatType()\n",
    "} \n",
    "\n",
    "\n",
    "transformDf = casosTableDf\n",
    "for key, value in dicx_case_cast.items():\n",
    "  transformDf = transformDf.withColumn(key, F.col(key).cast(value))\n",
    "\n",
    "# logica -> \n",
    "# auditoria\n",
    "transformDf.withColumn('auditDate', \n",
    "                                    F.to_timestamp( F.lit(datetime.now())) \n",
    "                                    )\n",
    "\n",
    "\n",
    "# guardamos en ruta\n",
    "transformDf.write.mode('overwrite').parquet('./master/case_table_master')"
   ]
  },
  {
   "cell_type": "code",
   "execution_count": 29,
   "metadata": {},
   "outputs": [
    {
     "name": "stdout",
     "output_type": "stream",
     "text": [
      "root\n",
      " |-- case_id: string (nullable = true)\n",
      " |-- province: string (nullable = true)\n",
      " |-- city: string (nullable = true)\n",
      " |-- group: string (nullable = true)\n",
      " |-- infection_case: string (nullable = true)\n",
      " |-- confirmed: string (nullable = true)\n",
      " |-- latitude: string (nullable = true)\n",
      " |-- longitude: string (nullable = true)\n",
      "\n"
     ]
    }
   ],
   "source": [
    "casosTableDf.printSchema()"
   ]
  },
  {
   "cell_type": "code",
   "execution_count": 30,
   "metadata": {},
   "outputs": [
    {
     "data": {
      "text/plain": [
       "['.part-00000-7528bffc-a023-48bb-93fa-c1c6c6a7b81f-c000.snappy.parquet.crc',\n",
       " '._SUCCESS.crc',\n",
       " 'part-00000-7528bffc-a023-48bb-93fa-c1c6c6a7b81f-c000.snappy.parquet',\n",
       " '_SUCCESS']"
      ]
     },
     "execution_count": 30,
     "metadata": {},
     "output_type": "execute_result"
    }
   ],
   "source": [
    "os.listdir('master/case_table_master')"
   ]
  },
  {
   "cell_type": "code",
   "execution_count": 31,
   "metadata": {},
   "outputs": [],
   "source": [
    "\n",
    "# region_table_raw\n",
    "\n",
    "from pyspark.sql.types import StructField, StructType, StringType, TimestampType, IntegerType, BooleanType, FloatType\n",
    "from pyspark.sql import functions as F\n",
    "from datetime import datetime\n",
    "\n",
    "\n",
    "\n",
    "schema = StructType([\n",
    "    StructField('code', StringType()),\n",
    "    StructField('province', StringType()),\n",
    "    StructField('city', StringType()),\n",
    "    StructField('latitude', StringType()),\n",
    "    StructField('longitude', StringType()),\n",
    "    StructField('elementary_school_count', StringType()),\n",
    "    StructField('kindergarten_count', StringType()),\n",
    "    StructField('university_count', StringType()),\n",
    "    StructField('academy_ratio', StringType()),\n",
    "    StructField('elderly_population_ratio', StringType()),\n",
    "    StructField('elderly_alone_ratio', StringType()),\n",
    "    StructField('nursing_home_count', StringType())\n",
    "])\n",
    "\n",
    "dicx_region_cast ={\n",
    "    \"code\": IntegerType() ,\n",
    "    \"province\": StringType(),\n",
    "    \"city\": StringType(),\n",
    "    \"latitude\": FloatType(),\n",
    "    \"longitude\": FloatType(),\n",
    "    \"elementary_school_count\": IntegerType(),\n",
    "    \"kindergarten_count\": IntegerType(),\n",
    "    \"university_count\": IntegerType(),\n",
    "    \"academy_ratio\": FloatType(),\n",
    "    \"elderly_population_ratio\": FloatType(),\n",
    "    \"elderly_alone_ratio\": FloatType(),\n",
    "    \"nursing_home_count\": IntegerType()\n",
    "} \n",
    "\n",
    "\n",
    "# leer schema anterio - > cast a las columnas segun corresponda\n",
    "\n",
    "regionTableDf = spark.read.schema(schema).parquet('./raw/region_table_raw')\n",
    "\n",
    "transformDf = regionTableDf\n",
    "for key, value in dicx_region_cast.items():\n",
    "  transformDf = transformDf.withColumn(key, F.col(key).cast(value))\n",
    "\n",
    "# logica -> \n",
    "# auditoria\n",
    "transformDf.withColumn('auditDate', \n",
    "                                    F.to_timestamp( F.lit(datetime.now())) \n",
    "                                    )\n",
    "\n",
    "\n",
    "# guardamos en ruta\n",
    "transformDf.write.mode('overwrite').parquet('./master/region_table_master')"
   ]
  },
  {
   "cell_type": "markdown",
   "metadata": {
    "id": "cpzNSERtgHZk"
   },
   "source": [
    "## **4. Poblado Capa Business**\n",
    "-----------------------------------\n",
    "\n",
    "COVID-19 ha infectado a más de 10,000 personas en Corea del Sur.\n",
    "KCDC (Centros de Corea para el Control y la Prevención de Enfermedades) anuncia la información de COVID-19 de forma rápida y transparente.\n",
    "\n",
    "Se le solicita generar un tablon siguiendo ciertas lógicas de negocio\n",
    "\n",
    "- El cliente le ha brindado el siguiente [esquema de relación de los datos](https://docs.google.com/drawings/d/1ryklgBvchXfmPgh4YkLq8-cn_OuyTohanugkqv5KzDs/edit)\n",
    "- Se le brinda la [lógica de la solución](https://docs.google.com/spreadsheets/d/1KAWJn1rzQPdmC-A6m9wy_Vx9Bkon81676NxNyhFIMk0/edit#gid=0)\n",
    "- Genere el pipeline correspondiente a fin de obtener la tabla final solicitada\n",
    "- Almacene en formato `parquet`\n",
    "\n",
    "\n",
    "\n",
    "Se le brinda la siguiente imagen que relaciona los datasets a manera de contextualizar la solicitud\n",
    "\n",
    "<img src='https://miro.medium.com/max/1400/0*RVqtYcbfYPdKuU2L.PNG' width=700>\n"
   ]
  },
  {
   "cell_type": "code",
   "execution_count": null,
   "metadata": {
    "id": "QmWN5hNBgL1y"
   },
   "outputs": [],
   "source": [
    "# TODO"
   ]
  },
  {
   "cell_type": "code",
   "execution_count": 4,
   "metadata": {
    "id": "nOP6DqJA4pIF"
   },
   "outputs": [],
   "source": [
    "from pyspark.sql.types import StructField, StructType, StringType, TimestampType, IntegerType, BooleanType, FloatType\n",
    "from pyspark.sql import functions as F\n",
    "from datetime import datetime\n",
    "\n",
    "region_schema = StructType([\n",
    "    StructField('code', IntegerType()),\n",
    "    StructField('province', StringType()),\n",
    "    StructField('city', StringType()),\n",
    "    StructField('latitude', FloatType()),\n",
    "    StructField('longitude', FloatType()),\n",
    "    StructField('elementary_school_count', IntegerType()),\n",
    "    StructField('kindergarten_count', IntegerType()),\n",
    "    StructField('university_count', IntegerType()),\n",
    "    StructField('academy_ratio', FloatType()),\n",
    "    StructField('elderly_population_ratio', FloatType()),\n",
    "    StructField('elderly_alone_ratio', FloatType()),\n",
    "    StructField('nursing_home_count', IntegerType())\n",
    "])\n",
    "\n",
    "\n",
    "\n",
    "case_schema = StructType([\n",
    "    StructField(\"case_id\", IntegerType()),\n",
    "    StructField(\"province\", StringType()),\n",
    "    StructField(\"city\", StringType()),\n",
    "    StructField(\"group\", BooleanType()),\n",
    "    StructField(\"infection_case\", StringType()),\n",
    "    StructField(\"confirmed\", IntegerType()),\n",
    "    StructField(\"latitude\", FloatType()),\n",
    "    StructField(\"longitude\", FloatType()),\n",
    "])\n",
    "\n",
    "def readParquet(path,schema):\n",
    "    return spark.read.schema(schema).parquet(path)\n",
    "\n",
    "# Lectura de inputs\n",
    "case_colums = [\"case_id\",\"province\",\"city\",\"group\",\"infection_case\",\"confirmed\",\"latitude\",\"longitude\"]\n",
    "region_columns = [\"province\",\"city\",\"elementary_school_count\",\"kindergarten_count\",\"university_count\",\"academy_ratio\",\"elderly_population_ratio\",\"elderly_alone_ratio\",\"nursing_home_count\"]\n",
    "\n",
    "caseDF = readParquet(\"master/case_table_master\",case_schema).select(*case_colums)\n",
    "regionDF = readParquet(\"master/region_table_master\",region_schema).select(*region_columns)"
   ]
  },
  {
   "cell_type": "code",
   "execution_count": 5,
   "metadata": {},
   "outputs": [
    {
     "name": "stdout",
     "output_type": "stream",
     "text": [
      "root\n",
      " |-- province: string (nullable = true)\n",
      " |-- city: string (nullable = true)\n",
      " |-- case_id: integer (nullable = true)\n",
      " |-- group: boolean (nullable = true)\n",
      " |-- infection_case: string (nullable = true)\n",
      " |-- confirmed: integer (nullable = true)\n",
      " |-- latitude: float (nullable = true)\n",
      " |-- longitude: float (nullable = true)\n",
      " |-- elementary_school_count: integer (nullable = true)\n",
      " |-- kindergarten_count: integer (nullable = true)\n",
      " |-- university_count: integer (nullable = true)\n",
      " |-- academy_ratio: float (nullable = true)\n",
      " |-- elderly_population_ratio: float (nullable = true)\n",
      " |-- elderly_alone_ratio: float (nullable = true)\n",
      " |-- nursing_home_count: integer (nullable = true)\n",
      "\n"
     ]
    }
   ],
   "source": [
    "# Transformaciones\n",
    "joinDF = caseDF.join(regionDF,['province','city'],'inner')\n",
    "joinDF.printSchema()"
   ]
  },
  {
   "cell_type": "code",
   "execution_count": 9,
   "metadata": {},
   "outputs": [
    {
     "name": "stdout",
     "output_type": "stream",
     "text": [
      "+--------+----------+-------+-----+-------------------------------+---------+---------+----------+-----------------------+------------------+----------------+-------------+------------------------+-------------------+------------------+\n",
      "|province|city      |case_id|group|infection_case                 |confirmed|latitude |longitude |elementary_school_count|kindergarten_count|university_count|academy_ratio|elderly_population_ratio|elderly_alone_ratio|nursing_home_count|\n",
      "+--------+----------+-------+-----+-------------------------------+---------+---------+----------+-----------------------+------------------+----------------+-------------+------------------------+-------------------+------------------+\n",
      "|Seoul   |Gangnam-gu|1000029|true |Samsung Fire & Marine Insurance|4        |37.49828 |127.030136|33                     |38                |0               |4.18         |13.17                   |4.3                |3088              |\n",
      "|Seoul   |Gangnam-gu|1000025|true |Gangnam Dongin Church          |1        |37.52233 |127.05739 |33                     |38                |0               |4.18         |13.17                   |4.3                |3088              |\n",
      "|Seoul   |Gangnam-gu|1000014|true |Samsung Medical Center         |7        |37.48825 |127.08559 |33                     |38                |0               |4.18         |13.17                   |4.3                |3088              |\n",
      "|Seoul   |Gangseo-gu|1000030|true |SJ Investment Call Center      |0        |37.55965 |126.8351  |36                     |56                |1               |1.17         |14.39                   |5.7                |1080              |\n",
      "|Seoul   |Gwanak-gu |1000010|true |Wangsung Church                |30       |37.481735|126.93012 |22                     |33                |1               |0.89         |15.12                   |4.9                |909               |\n",
      "|Seoul   |Gwanak-gu |1000002|true |Richway                        |119      |37.48208 |126.90138 |22                     |33                |1               |0.89         |15.12                   |4.9                |909               |\n",
      "|Seoul   |Guro-gu   |1000035|true |Daezayeon Korea                |3        |37.486835|126.893166|26                     |34                |3               |1.0          |16.21                   |5.7                |741               |\n",
      "|Seoul   |Guro-gu   |1000006|true |Manmin Central Church          |41       |37.48106 |126.89434 |26                     |34                |3               |1.0          |16.21                   |5.7                |741               |\n",
      "|Seoul   |Guro-gu   |1000003|true |Guro-gu Call Center            |95       |37.508163|126.884384|26                     |34                |3               |1.0          |16.21                   |5.7                |741               |\n",
      "|Seoul   |Dobong-gu |1000005|true |Day Care Center                |43       |37.67942 |127.04437 |23                     |26                |1               |0.95         |17.89                   |7.2                |485               |\n",
      "+--------+----------+-------+-----+-------------------------------+---------+---------+----------+-----------------------+------------------+----------------+-------------+------------------------+-------------------+------------------+\n",
      "only showing top 10 rows\n",
      "\n"
     ]
    }
   ],
   "source": [
    "# Filtrado parte 1\n",
    "cond = (joinDF.latitude.isNotNull() | joinDF.longitude.isNotNull())\n",
    "filterDF = joinDF.filter(cond)\n",
    "filterDF.show(10,False)"
   ]
  },
  {
   "cell_type": "code",
   "execution_count": 11,
   "metadata": {},
   "outputs": [
    {
     "name": "stdout",
     "output_type": "stream",
     "text": [
      "68\n",
      "63\n"
     ]
    }
   ],
   "source": [
    "print(joinDF.count())\n",
    "print(filterDF.count())"
   ]
  },
  {
   "cell_type": "code",
   "execution_count": 12,
   "metadata": {},
   "outputs": [
    {
     "name": "stdout",
     "output_type": "stream",
     "text": [
      "+--------+----------+-------+---------+-------------------------------+---------+---------+----------+-----------------------+------------------+----------------+-------------+------------------------+-------------------+------------------+\n",
      "|province|city      |case_id|group    |infection_case                 |confirmed|latitude |longitude |elementary_school_count|kindergarten_count|university_count|academy_ratio|elderly_population_ratio|elderly_alone_ratio|nursing_home_count|\n",
      "+--------+----------+-------+---------+-------------------------------+---------+---------+----------+-----------------------+------------------+----------------+-------------+------------------------+-------------------+------------------+\n",
      "|Seoul   |Gangnam-gu|1000029|Infectado|Samsung Fire & Marine Insurance|4        |37.49828 |127.030136|33                     |38                |0               |4.18         |13.17                   |4.3                |3088              |\n",
      "|Seoul   |Gangnam-gu|1000025|Infectado|Gangnam Dongin Church          |1        |37.52233 |127.05739 |33                     |38                |0               |4.18         |13.17                   |4.3                |3088              |\n",
      "|Seoul   |Gangnam-gu|1000014|Infectado|Samsung Medical Center         |7        |37.48825 |127.08559 |33                     |38                |0               |4.18         |13.17                   |4.3                |3088              |\n",
      "|Seoul   |Gangseo-gu|1000030|Infectado|SJ Investment Call Center      |0        |37.55965 |126.8351  |36                     |56                |1               |1.17         |14.39                   |5.7                |1080              |\n",
      "|Seoul   |Gwanak-gu |1000010|Infectado|Wangsung Church                |30       |37.481735|126.93012 |22                     |33                |1               |0.89         |15.12                   |4.9                |909               |\n",
      "|Seoul   |Gwanak-gu |1000002|Infectado|Richway                        |119      |37.48208 |126.90138 |22                     |33                |1               |0.89         |15.12                   |4.9                |909               |\n",
      "|Seoul   |Guro-gu   |1000035|Infectado|Daezayeon Korea                |3        |37.486835|126.893166|26                     |34                |3               |1.0          |16.21                   |5.7                |741               |\n",
      "|Seoul   |Guro-gu   |1000006|Infectado|Manmin Central Church          |41       |37.48106 |126.89434 |26                     |34                |3               |1.0          |16.21                   |5.7                |741               |\n",
      "|Seoul   |Guro-gu   |1000003|Infectado|Guro-gu Call Center            |95       |37.508163|126.884384|26                     |34                |3               |1.0          |16.21                   |5.7                |741               |\n",
      "|Seoul   |Dobong-gu |1000005|Infectado|Day Care Center                |43       |37.67942 |127.04437 |23                     |26                |1               |0.95         |17.89                   |7.2                |485               |\n",
      "+--------+----------+-------+---------+-------------------------------+---------+---------+----------+-----------------------+------------------+----------------+-------------+------------------------+-------------------+------------------+\n",
      "only showing top 10 rows\n",
      "\n"
     ]
    }
   ],
   "source": [
    "# Filtrado parte 2\n",
    "trasformDF = filterDF.withColumn('group',F.when(F.col('group')== F.lit(\"true\"),F.lit('Infectado')).otherwise(F.lit('NoInfectado')))\n",
    "trasformDF.show(10,False)"
   ]
  },
  {
   "cell_type": "code",
   "execution_count": 19,
   "metadata": {},
   "outputs": [
    {
     "name": "stdout",
     "output_type": "stream",
     "text": [
      "+-------+----------+---------+-------------------------------+---------+---------+----------+--------+-----------------------+------------------+----------------+-------------+------------------------+-------------------+------------------+--------------------------+\n",
      "|case_id|city      |group    |infection_case                 |confirmed|latitude |longitude |province|elementary_school_count|kindergarten_count|university_count|academy_ratio|elderly_population_ratio|elderly_alone_ratio|nursing_home_count|AuditDate                 |\n",
      "+-------+----------+---------+-------------------------------+---------+---------+----------+--------+-----------------------+------------------+----------------+-------------+------------------------+-------------------+------------------+--------------------------+\n",
      "|1000029|Gangnam-gu|Infectado|Samsung Fire & Marine Insurance|4        |37.49828 |127.030136|Seoul   |33                     |38                |0               |4.18         |13.17                   |4.3                |3088              |2022-02-19 12:52:01.676998|\n",
      "|1000025|Gangnam-gu|Infectado|Gangnam Dongin Church          |1        |37.52233 |127.05739 |Seoul   |33                     |38                |0               |4.18         |13.17                   |4.3                |3088              |2022-02-19 12:52:01.676998|\n",
      "|1000014|Gangnam-gu|Infectado|Samsung Medical Center         |7        |37.48825 |127.08559 |Seoul   |33                     |38                |0               |4.18         |13.17                   |4.3                |3088              |2022-02-19 12:52:01.676998|\n",
      "|1000030|Gangseo-gu|Infectado|SJ Investment Call Center      |0        |37.55965 |126.8351  |Seoul   |36                     |56                |1               |1.17         |14.39                   |5.7                |1080              |2022-02-19 12:52:01.676998|\n",
      "|1000010|Gwanak-gu |Infectado|Wangsung Church                |30       |37.481735|126.93012 |Seoul   |22                     |33                |1               |0.89         |15.12                   |4.9                |909               |2022-02-19 12:52:01.676998|\n",
      "|1000002|Gwanak-gu |Infectado|Richway                        |119      |37.48208 |126.90138 |Seoul   |22                     |33                |1               |0.89         |15.12                   |4.9                |909               |2022-02-19 12:52:01.676998|\n",
      "|1000035|Guro-gu   |Infectado|Daezayeon Korea                |3        |37.486835|126.893166|Seoul   |26                     |34                |3               |1.0          |16.21                   |5.7                |741               |2022-02-19 12:52:01.676998|\n",
      "|1000006|Guro-gu   |Infectado|Manmin Central Church          |41       |37.48106 |126.89434 |Seoul   |26                     |34                |3               |1.0          |16.21                   |5.7                |741               |2022-02-19 12:52:01.676998|\n",
      "|1000003|Guro-gu   |Infectado|Guro-gu Call Center            |95       |37.508163|126.884384|Seoul   |26                     |34                |3               |1.0          |16.21                   |5.7                |741               |2022-02-19 12:52:01.676998|\n",
      "|1000005|Dobong-gu |Infectado|Day Care Center                |43       |37.67942 |127.04437 |Seoul   |23                     |26                |1               |0.95         |17.89                   |7.2                |485               |2022-02-19 12:52:01.676998|\n",
      "+-------+----------+---------+-------------------------------+---------+---------+----------+--------+-----------------------+------------------+----------------+-------------+------------------------+-------------------+------------------+--------------------------+\n",
      "only showing top 10 rows\n",
      "\n"
     ]
    }
   ],
   "source": [
    "# Auditoria\n",
    "trasformDF = trasformDF.withColumn('AuditDate', \n",
    "                                    F.to_timestamp( F.lit(datetime.now())) \n",
    "                                    )\n",
    "# Selección\n",
    "columns_table = [\"case_id\",\"city\",\"group\",\"infection_case\",\"confirmed\",\"latitude\",\"longitude\",\n",
    "                 \"province\",\"elementary_school_count\",\"kindergarten_count\",\"university_count\",\n",
    "                 \"academy_ratio\",\"elderly_population_ratio\",\"elderly_alone_ratio\",\"nursing_home_count\",\"AuditDate\"]\n",
    "selectionDF = trasformDF.select(*columns_table) \n",
    "selectionDF.show(10,False)"
   ]
  },
  {
   "cell_type": "code",
   "execution_count": 20,
   "metadata": {},
   "outputs": [],
   "source": [
    "# Cargar en business zone\n",
    "selectionDF.write.mode('overwrite').parquet('business/coronavirusTable')"
   ]
  },
  {
   "cell_type": "markdown",
   "metadata": {
    "id": "VFEqIDhZ4hql"
   },
   "source": [
    "## Relacionado\n",
    "\n",
    "- Descargar la data en el siguiente [link](https://www.kaggle.com/kimjihoo/coronavirusdataset) \n",
    "\n",
    "\n"
   ]
  }
 ],
 "metadata": {
  "colab": {
   "authorship_tag": "ABX9TyN/18bXTgBd3HBuJQJbUYKx",
   "name": "02 Poblado Capas Data Lake con Spark.ipynb",
   "provenance": []
  },
  "kernelspec": {
   "display_name": "Python 3 (ipykernel)",
   "language": "python",
   "name": "python3"
  },
  "language_info": {
   "codemirror_mode": {
    "name": "ipython",
    "version": 3
   },
   "file_extension": ".py",
   "mimetype": "text/x-python",
   "name": "python",
   "nbconvert_exporter": "python",
   "pygments_lexer": "ipython3",
   "version": "3.8.1"
  }
 },
 "nbformat": 4,
 "nbformat_minor": 1
}
