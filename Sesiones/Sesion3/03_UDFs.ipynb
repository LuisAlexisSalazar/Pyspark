{
 "cells": [
  {
   "cell_type": "markdown",
   "metadata": {
    "application/vnd.databricks.v1+cell": {
     "inputWidgets": {},
     "nuid": "ff1a1cfe-155f-4920-bcfa-113274442ad6",
     "showTitle": false,
     "title": ""
    },
    "id": "nB2R34EJXDYu"
   },
   "source": [
    "# Funciones de Usuario\n",
    "1. Definiendo una funcion\n",
    "1. Crear y aplicar UDF\n",
    "1. Registrar UDF para usar en SQL\n",
    "1. Usar la sintaxis Decorator (solo Python)"
   ]
  },
  {
   "cell_type": "code",
   "execution_count": null,
   "metadata": {
    "colab": {
     "base_uri": "https://localhost:8080/"
    },
    "id": "rACar9kxXGw2",
    "outputId": "5cb067ad-8aec-4718-b974-13958df34764"
   },
   "outputs": [
    {
     "name": "stdout",
     "output_type": "stream",
     "text": [
      "Collecting pyspark\n",
      "  Downloading pyspark-3.2.1.tar.gz (281.4 MB)\n",
      "\u001b[K     |████████████████████████████████| 281.4 MB 40 kB/s \n",
      "\u001b[?25hCollecting py4j\n",
      "  Downloading py4j-0.10.9.3-py2.py3-none-any.whl (198 kB)\n",
      "\u001b[K     |████████████████████████████████| 198 kB 66.4 MB/s \n",
      "\u001b[?25hBuilding wheels for collected packages: pyspark\n",
      "  Building wheel for pyspark (setup.py) ... \u001b[?25l\u001b[?25hdone\n",
      "  Created wheel for pyspark: filename=pyspark-3.2.1-py2.py3-none-any.whl size=281853642 sha256=fb1558489820958d8e4c0a5b42fd0faaa0cfa329391b48c2bdb12dbfa7b2c21e\n",
      "  Stored in directory: /root/.cache/pip/wheels/9f/f5/07/7cd8017084dce4e93e84e92efd1e1d5334db05f2e83bcef74f\n",
      "Successfully built pyspark\n",
      "Installing collected packages: py4j, pyspark\n",
      "Successfully installed py4j-0.10.9.3 pyspark-3.2.1\n"
     ]
    }
   ],
   "source": [
    "!pip install pyspark py4j"
   ]
  },
  {
   "cell_type": "code",
   "execution_count": null,
   "metadata": {
    "id": "DXsAdVd9XGic"
   },
   "outputs": [],
   "source": [
    "#Google Colab\n",
    "\n",
    "import pyspark\n",
    "from pyspark.sql import SparkSession\n",
    "from pyspark.sql import functions as F\n",
    "import os\n",
    "import shutil\n",
    "\n",
    "# solo google colab\n",
    "import io\n",
    "from google.colab import files\n",
    "\n",
    "# inicializamos datos\n",
    "spark = SparkSession.builder.getOrCreate()"
   ]
  },
  {
   "cell_type": "code",
   "execution_count": null,
   "metadata": {
    "colab": {
     "base_uri": "https://localhost:8080/",
     "height": 73,
     "resources": {
      "http://localhost:8080/nbextensions/google.colab/files.js": {
       "data": "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",
       "headers": [
        [
         "content-type",
         "application/javascript"
        ]
       ],
       "ok": true,
       "status": 200,
       "status_text": ""
      }
     }
    },
    "id": "orrfTqruXRqp",
    "outputId": "a6dcbd10-6d32-495c-8f21-811a320d5281"
   },
   "outputs": [
    {
     "data": {
      "text/html": [
       "\n",
       "     <input type=\"file\" id=\"files-82aec676-75e3-4bdc-ad70-bde9096b2e3b\" name=\"files[]\" multiple disabled\n",
       "        style=\"border:none\" />\n",
       "     <output id=\"result-82aec676-75e3-4bdc-ad70-bde9096b2e3b\">\n",
       "      Upload widget is only available when the cell has been executed in the\n",
       "      current browser session. Please rerun this cell to enable.\n",
       "      </output>\n",
       "      <script src=\"/nbextensions/google.colab/files.js\"></script> "
      ],
      "text/plain": [
       "<IPython.core.display.HTML object>"
      ]
     },
     "metadata": {},
     "output_type": "display_data"
    },
    {
     "name": "stdout",
     "output_type": "stream",
     "text": [
      "Saving events.parquet to events.parquet\n"
     ]
    }
   ],
   "source": [
    "# Cargando data Google Colab\n",
    "uploaded = files.upload()"
   ]
  },
  {
   "cell_type": "code",
   "execution_count": null,
   "metadata": {
    "colab": {
     "base_uri": "https://localhost:8080/"
    },
    "id": "-U9Rodi4XUtw",
    "outputId": "8b2d37a3-01b7-44e1-a920-97600dffba05"
   },
   "outputs": [
    {
     "data": {
      "text/plain": [
       "['.config', 'sales.parquet', 'sample_data']"
      ]
     },
     "execution_count": 4,
     "metadata": {},
     "output_type": "execute_result"
    }
   ],
   "source": [
    "os.listdir()"
   ]
  },
  {
   "cell_type": "code",
   "execution_count": null,
   "metadata": {
    "application/vnd.databricks.v1+cell": {
     "inputWidgets": {},
     "nuid": "890bd56d-0c55-4d1f-9152-c31263d72820",
     "showTitle": false,
     "title": ""
    },
    "colab": {
     "base_uri": "https://localhost:8080/"
    },
    "id": "DxfL5HluXDZa",
    "outputId": "8050bb11-20c8-442e-e84a-de94889b0f2b"
   },
   "outputs": [
    {
     "name": "stdout",
     "output_type": "stream",
     "text": [
      "+--------+-------------------------------+---------------------+-------------------+-----------------------+------------+-----------------------------------------------------------------+\n",
      "|order_id|email                          |transaction_timestamp|total_item_quantity|purchase_revenue_in_usd|unique_items|items                                                            |\n",
      "+--------+-------------------------------+---------------------+-------------------+-----------------------+------------+-----------------------------------------------------------------+\n",
      "|257437  |kmunoz@powell-duran.com        |1592194221828900     |1                  |1995.0                 |1           |[{null, M_PREM_K, Premium King Mattress, 1995.0, 1995.0, 1}]     |\n",
      "|282611  |bmurillo@hotmail.com           |1592504237604072     |1                  |940.5                  |1           |[{NEWBED10, M_STAN_Q, Standard Queen Mattress, 940.5, 1045.0, 1}]|\n",
      "|257448  |bradley74@gmail.com            |1592200438030141     |1                  |945.0                  |1           |[{null, M_STAN_F, Standard Full Mattress, 945.0, 945.0, 1}]      |\n",
      "|257440  |jameshardin@campbell-morris.biz|1592197217716495     |1                  |1045.0                 |1           |[{null, M_STAN_Q, Standard Queen Mattress, 1045.0, 1045.0, 1}]   |\n",
      "|283949  |whardin@hotmail.com            |1592510720760323     |1                  |535.5                  |1           |[{NEWBED10, M_STAN_T, Standard Twin Mattress, 535.5, 595.0, 1}]  |\n",
      "+--------+-------------------------------+---------------------+-------------------+-----------------------+------------+-----------------------------------------------------------------+\n",
      "only showing top 5 rows\n",
      "\n"
     ]
    }
   ],
   "source": [
    "salesPath = './sales.parquet'\n",
    "\n",
    "salesDF = spark.read.parquet(salesPath)\n",
    "\n",
    "salesDF.show(5, False)"
   ]
  },
  {
   "cell_type": "markdown",
   "metadata": {
    "application/vnd.databricks.v1+cell": {
     "inputWidgets": {},
     "nuid": "b88ff625-ffb6-4341-88dd-504db85e561e",
     "showTitle": false,
     "title": ""
    },
    "id": "1e9ZOaLEXDZi"
   },
   "source": [
    "### ![Spark Logo Tiny](https://files.training.databricks.com/images/105/logo_spark_tiny.png) Definiendo Funcion\n",
    "\n",
    "\n",
    "Defina una función en Python/Scala local para obtener la primera letra de una cadena del campo `email`."
   ]
  },
  {
   "cell_type": "code",
   "execution_count": null,
   "metadata": {
    "application/vnd.databricks.v1+cell": {
     "inputWidgets": {},
     "nuid": "9ccc8220-3dd5-4fc0-acc2-07a86d11d93b",
     "showTitle": false,
     "title": ""
    },
    "colab": {
     "base_uri": "https://localhost:8080/",
     "height": 35
    },
    "id": "ceNnK-WmXDZl",
    "outputId": "bf49a22c-419a-4f1f-dad4-d6d42d398766"
   },
   "outputs": [
    {
     "data": {
      "application/vnd.google.colaboratory.intrinsic+json": {
       "type": "string"
      },
      "text/plain": [
       "'a'"
      ]
     },
     "execution_count": 6,
     "metadata": {},
     "output_type": "execute_result"
    }
   ],
   "source": [
    "def firstLetterFunction(email):\n",
    "  return email[0]\n",
    "\n",
    "firstLetterFunction(\"annagray@kaufman.com\")"
   ]
  },
  {
   "cell_type": "code",
   "execution_count": null,
   "metadata": {
    "colab": {
     "base_uri": "https://localhost:8080/"
    },
    "id": "MV9l9LSYYMSy",
    "outputId": "641ab39c-2f2e-43db-c569-94035cd8754a"
   },
   "outputs": [
    {
     "name": "stdout",
     "output_type": "stream",
     "text": [
      "+--------+-------------------------------+---------------------+-------------------+-----------------------+------------+-----------------------------------------------------------------+-----------+\n",
      "|order_id|email                          |transaction_timestamp|total_item_quantity|purchase_revenue_in_usd|unique_items|items                                                            |FirstLetter|\n",
      "+--------+-------------------------------+---------------------+-------------------+-----------------------+------------+-----------------------------------------------------------------+-----------+\n",
      "|257437  |kmunoz@powell-duran.com        |1592194221828900     |1                  |1995.0                 |1           |[{null, M_PREM_K, Premium King Mattress, 1995.0, 1995.0, 1}]     |k          |\n",
      "|282611  |bmurillo@hotmail.com           |1592504237604072     |1                  |940.5                  |1           |[{NEWBED10, M_STAN_Q, Standard Queen Mattress, 940.5, 1045.0, 1}]|b          |\n",
      "|257448  |bradley74@gmail.com            |1592200438030141     |1                  |945.0                  |1           |[{null, M_STAN_F, Standard Full Mattress, 945.0, 945.0, 1}]      |b          |\n",
      "|257440  |jameshardin@campbell-morris.biz|1592197217716495     |1                  |1045.0                 |1           |[{null, M_STAN_Q, Standard Queen Mattress, 1045.0, 1045.0, 1}]   |j          |\n",
      "|283949  |whardin@hotmail.com            |1592510720760323     |1                  |535.5                  |1           |[{NEWBED10, M_STAN_T, Standard Twin Mattress, 535.5, 595.0, 1}]  |w          |\n",
      "+--------+-------------------------------+---------------------+-------------------+-----------------------+------------+-----------------------------------------------------------------+-----------+\n",
      "only showing top 5 rows\n",
      "\n"
     ]
    }
   ],
   "source": [
    "# En spark Obteniendo primera letra\n",
    "\n",
    "from pyspark.sql import functions as F\n",
    "\n",
    "salesDF.withColumn('FirstLetter', F.substring(F.col('email'),1, 1)).show(5, False)"
   ]
  },
  {
   "cell_type": "markdown",
   "metadata": {
    "application/vnd.databricks.v1+cell": {
     "inputWidgets": {},
     "nuid": "71b74a4c-1a97-4d9f-b555-d9efac2ad829",
     "showTitle": false,
     "title": ""
    },
    "id": "HoUMGSUIXDZ8"
   },
   "source": [
    "### ![Spark Logo Tiny](https://files.training.databricks.com/images/105/logo_spark_tiny.png) Crear y aplicar UDF\n",
    "Defina una UDF que envuelva la función. Esto serializa la función y la envía a los ejecutores para poder usarla en nuestro DataFrame."
   ]
  },
  {
   "cell_type": "code",
   "execution_count": null,
   "metadata": {
    "application/vnd.databricks.v1+cell": {
     "inputWidgets": {},
     "nuid": "51ef0b40-4802-4ca3-8b38-83e98c4fc6b5",
     "showTitle": false,
     "title": ""
    },
    "id": "7lFTowdVXDZ-"
   },
   "outputs": [],
   "source": [
    "from pyspark.sql.functions import udf\n",
    "\n",
    "firstLetterUDF = udf(firstLetterFunction)"
   ]
  },
  {
   "cell_type": "markdown",
   "metadata": {
    "application/vnd.databricks.v1+cell": {
     "inputWidgets": {},
     "nuid": "5b3555b1-69e8-40e2-97ea-4f07bded4b36",
     "showTitle": false,
     "title": ""
    },
    "id": "NkpJZ1-EXDZ-"
   },
   "source": [
    "Apply UDF on the `email` column."
   ]
  },
  {
   "cell_type": "code",
   "execution_count": null,
   "metadata": {
    "application/vnd.databricks.v1+cell": {
     "inputWidgets": {},
     "nuid": "ca3468c0-9b5c-4006-8a79-40260a756444",
     "showTitle": false,
     "title": ""
    },
    "colab": {
     "base_uri": "https://localhost:8080/"
    },
    "id": "ruFBJvqJXDaA",
    "outputId": "d9b46a49-04a4-4c7e-f24e-5788adcb134a"
   },
   "outputs": [
    {
     "name": "stdout",
     "output_type": "stream",
     "text": [
      "+--------------------------+\n",
      "|firstLetterFunction(email)|\n",
      "+--------------------------+\n",
      "|                         k|\n",
      "|                         b|\n",
      "|                         b|\n",
      "|                         j|\n",
      "|                         w|\n",
      "+--------------------------+\n",
      "only showing top 5 rows\n",
      "\n"
     ]
    }
   ],
   "source": [
    "from pyspark.sql.functions import col\n",
    "salesDF.select( firstLetterUDF(col(\"email\"))).show(5)"
   ]
  },
  {
   "cell_type": "markdown",
   "metadata": {
    "application/vnd.databricks.v1+cell": {
     "inputWidgets": {},
     "nuid": "8aca131b-0cfc-48f4-8f54-328bd909298e",
     "showTitle": false,
     "title": ""
    },
    "id": "1DYm0KzdXDaD"
   },
   "source": [
    "### ![Spark Logo Tiny](https://files.training.databricks.com/images/105/logo_spark_tiny.png)Registrar UDF para usar en SQL\n",
    "Registre UDF usando spark.udf.register para crear UDF en el espacio de nombres SQL."
   ]
  },
  {
   "cell_type": "code",
   "execution_count": null,
   "metadata": {
    "application/vnd.databricks.v1+cell": {
     "inputWidgets": {},
     "nuid": "a559e695-0da4-4553-b726-05300edf488c",
     "showTitle": false,
     "title": ""
    },
    "colab": {
     "base_uri": "https://localhost:8080/"
    },
    "id": "qRgc24iXXDaJ",
    "outputId": "5fd0f9d5-bd7f-4151-d81f-7ff83c3e741e"
   },
   "outputs": [
    {
     "data": {
      "text/plain": [
       "<function __main__.firstLetterFunction>"
      ]
     },
     "execution_count": 14,
     "metadata": {},
     "output_type": "execute_result"
    }
   ],
   "source": [
    "salesDF.createOrReplaceTempView(\"sales\")\n",
    "\n",
    "spark.udf.register(\"sql_udf\", firstLetterFunction)"
   ]
  },
  {
   "cell_type": "code",
   "execution_count": null,
   "metadata": {
    "application/vnd.databricks.v1+cell": {
     "inputWidgets": {},
     "nuid": "257c9603-fd46-4205-8356-5bc10ab457bc",
     "showTitle": false,
     "title": ""
    },
    "colab": {
     "base_uri": "https://localhost:8080/"
    },
    "id": "KTKbjkOwXDaK",
    "outputId": "b34b3bf6-95c6-469d-8ea1-385574d30629"
   },
   "outputs": [
    {
     "name": "stdout",
     "output_type": "stream",
     "text": [
      "+-----------+\n",
      "|firstLetter|\n",
      "+-----------+\n",
      "|          k|\n",
      "|          b|\n",
      "|          b|\n",
      "|          j|\n",
      "|          w|\n",
      "|          e|\n",
      "|          c|\n",
      "+-----------+\n",
      "only showing top 7 rows\n",
      "\n"
     ]
    }
   ],
   "source": [
    "query = 'SELECT sql_udf(email) AS firstLetter FROM sales'\n",
    "\n",
    "\n",
    "df = spark.sql(query)\n",
    "\n",
    "\n",
    "df.show(7)"
   ]
  },
  {
   "cell_type": "markdown",
   "metadata": {
    "application/vnd.databricks.v1+cell": {
     "inputWidgets": {},
     "nuid": "6ec90fa3-7799-472e-a458-c5c3733608d3",
     "showTitle": false,
     "title": ""
    },
    "id": "HkJaJFcQXDaM"
   },
   "source": [
    "### ![Spark Logo Tiny](https://files.training.databricks.com/images/105/logo_spark_tiny.png) Usar la sintaxis Decorator (solo Python)\n",
    "Alternativamente, defina UDF usando la sintaxis de decorador en Python con el tipo de datos que devuelve la función.\n",
    "\n",
    "Ya no podrá llamar a la función Python local (por ejemplo, `decoratorUDF(\"annagray@kaufman.com\")` no funcionará)"
   ]
  },
  {
   "cell_type": "code",
   "execution_count": null,
   "metadata": {
    "application/vnd.databricks.v1+cell": {
     "inputWidgets": {},
     "nuid": "11f2c04b-8a11-4cb4-843b-32bc189091db",
     "showTitle": false,
     "title": ""
    },
    "id": "4S6yyJUkXDaN"
   },
   "outputs": [],
   "source": [
    "# Our input/output is a string\n",
    "@udf(\"string\") # spark\n",
    "def decoratorUDF(email: str) -> str:\n",
    "  return email[0]"
   ]
  },
  {
   "cell_type": "code",
   "execution_count": null,
   "metadata": {
    "application/vnd.databricks.v1+cell": {
     "inputWidgets": {},
     "nuid": "5100aae1-b21c-4b84-be10-3650fded3d1f",
     "showTitle": false,
     "title": ""
    },
    "colab": {
     "base_uri": "https://localhost:8080/"
    },
    "id": "vHOvZLmuXDaO",
    "outputId": "cb3d970e-1863-45c8-ced9-9b0e69f3f785"
   },
   "outputs": [
    {
     "name": "stdout",
     "output_type": "stream",
     "text": [
      "+-------------------+\n",
      "|decoratorUDF(email)|\n",
      "+-------------------+\n",
      "|                  k|\n",
      "|                  b|\n",
      "|                  b|\n",
      "|                  j|\n",
      "|                  w|\n",
      "|                  e|\n",
      "|                  c|\n",
      "|                  j|\n",
      "|                  m|\n",
      "|                  r|\n",
      "|                  m|\n",
      "|                  n|\n",
      "|                  x|\n",
      "|                  c|\n",
      "|                  j|\n",
      "|                  c|\n",
      "|                  e|\n",
      "|                  g|\n",
      "|                  a|\n",
      "|                  w|\n",
      "+-------------------+\n",
      "only showing top 20 rows\n",
      "\n"
     ]
    }
   ],
   "source": [
    "from pyspark.sql.functions import col\n",
    "\n",
    "salesPath = './sales.parquet'\n",
    "\n",
    "salesDF = spark.read.parquet(salesPath)\n",
    "salesDF.select(decoratorUDF(col(\"email\"))).show()"
   ]
  },
  {
   "cell_type": "code",
   "execution_count": null,
   "metadata": {
    "application/vnd.databricks.v1+cell": {
     "inputWidgets": {},
     "nuid": "cbfe81be-30fc-450c-945f-4296df10ef6f",
     "showTitle": false,
     "title": ""
    },
    "colab": {
     "base_uri": "https://localhost:8080/"
    },
    "id": "ZO4ukSuEXDaU",
    "outputId": "14e88763-79cf-44b8-beb8-610bfbf20f13"
   },
   "outputs": [
    {
     "data": {
      "text/plain": [
       "Column<'decoratorUDF(annagray@kaufman.com)'>"
      ]
     },
     "execution_count": 18,
     "metadata": {},
     "output_type": "execute_result"
    }
   ],
   "source": [
    "decoratorUDF(\"annagray@kaufman.com\") # no funciona"
   ]
  },
  {
   "cell_type": "markdown",
   "metadata": {
    "application/vnd.databricks.v1+cell": {
     "inputWidgets": {},
     "nuid": "c7a029bc-d8c6-47a3-8f4e-3082872ca516",
     "showTitle": false,
     "title": ""
    },
    "id": "BFz703gnXDaX"
   },
   "source": [
    "Podemos construir una clase de python para que nos permita usar nuestra función tanto para una operación simple como para Spark"
   ]
  },
  {
   "cell_type": "code",
   "execution_count": 5,
   "metadata": {
    "application/vnd.databricks.v1+cell": {
     "inputWidgets": {},
     "nuid": "6a0aa690-922e-43af-956a-b833a7628890",
     "showTitle": false,
     "title": ""
    },
    "id": "VAiRziv9XDaZ"
   },
   "outputs": [],
   "source": [
    "from typing import Callable\n",
    "from pyspark.sql import Column\n",
    "from pyspark.sql.functions import udf, col\n",
    "from pyspark.sql.types import StringType, IntegerType, ArrayType, DataType\n",
    "class py_or_udf:\n",
    "    def __init__(self, returnType : DataType=StringType()):\n",
    "        self.spark_udf_type = returnType\n",
    "        \n",
    "    def __call__(self, func : Callable):\n",
    "        def wrapped_func(*args, **kwargs):\n",
    "            if any([isinstance(arg, Column) for arg in args]) or \\\n",
    "                any([isinstance(vv, Column) for vv in kwargs.values()]):\n",
    "                return udf(func, self.spark_udf_type)(*args, **kwargs)\n",
    "            else:\n",
    "                return func(*args, **kwargs)\n",
    "            \n",
    "        return wrapped_func"
   ]
  },
  {
   "cell_type": "code",
   "execution_count": null,
   "metadata": {
    "application/vnd.databricks.v1+cell": {
     "inputWidgets": {},
     "nuid": "3360aec4-0f75-4a08-89fa-e8ceb92a612a",
     "showTitle": false,
     "title": ""
    },
    "colab": {
     "base_uri": "https://localhost:8080/",
     "height": 35
    },
    "id": "YPsmM0SUXDaa",
    "outputId": "2e452a32-b059-444c-f4a7-734790453196"
   },
   "outputs": [
    {
     "data": {
      "application/vnd.google.colaboratory.intrinsic+json": {
       "type": "string"
      },
      "text/plain": [
       "'a'"
      ]
     },
     "execution_count": 20,
     "metadata": {},
     "output_type": "execute_result"
    }
   ],
   "source": [
    "@py_or_udf(returnType=StringType())\n",
    "def decoratorUDF(email: str) -> str:\n",
    "  return email[0]\n",
    "\n",
    "# This works\n",
    "# assert decoratorUDF(\"annagray@kaufman.com\") == \"a\"\n",
    "\n",
    "decoratorUDF(\"annagray@kaufman.com\")"
   ]
  },
  {
   "cell_type": "code",
   "execution_count": null,
   "metadata": {
    "application/vnd.databricks.v1+cell": {
     "inputWidgets": {},
     "nuid": "6a70058e-dd5d-4592-b0a8-65b8b45466ca",
     "showTitle": false,
     "title": ""
    },
    "colab": {
     "base_uri": "https://localhost:8080/"
    },
    "id": "phuepD0TXDac",
    "outputId": "280bf127-d464-4b2a-c608-c818e975b06d"
   },
   "outputs": [
    {
     "name": "stdout",
     "output_type": "stream",
     "text": [
      "+-------------------+\n",
      "|decoratorUDF(email)|\n",
      "+-------------------+\n",
      "|                  k|\n",
      "|                  b|\n",
      "|                  b|\n",
      "|                  j|\n",
      "|                  w|\n",
      "|                  e|\n",
      "|                  c|\n",
      "|                  j|\n",
      "|                  m|\n",
      "|                  r|\n",
      "|                  m|\n",
      "|                  n|\n",
      "|                  x|\n",
      "|                  c|\n",
      "|                  j|\n",
      "|                  c|\n",
      "|                  e|\n",
      "|                  g|\n",
      "|                  a|\n",
      "|                  w|\n",
      "+-------------------+\n",
      "only showing top 20 rows\n",
      "\n"
     ]
    }
   ],
   "source": [
    "# This also works\n",
    "salesDF.select(decoratorUDF(col(\"email\"))).show()"
   ]
  },
  {
   "cell_type": "markdown",
   "metadata": {
    "application/vnd.databricks.v1+cell": {
     "inputWidgets": {},
     "nuid": "f5fc41ab-0c7c-4f30-8f7c-b7285e2700c9",
     "showTitle": false,
     "title": ""
    },
    "id": "tsgnUMbnXDae"
   },
   "source": [
    "## ![Spark Logo Tiny](https://files.training.databricks.com/images/105/logo_spark_tiny.png) Sort Day Lab\n",
    "1. Define UDF to label day of week\n",
    "1. Apply UDF to label and sort by day of week\n",
    "1. Plot active users by day of week as bar graph"
   ]
  },
  {
   "cell_type": "markdown",
   "metadata": {
    "application/vnd.databricks.v1+cell": {
     "inputWidgets": {},
     "nuid": "d58d9657-9dc1-4c79-af6d-057429232dc7",
     "showTitle": false,
     "title": ""
    },
    "id": "oJ7_GnoFXDag"
   },
   "source": [
    "Start with a DataFrame of the average number of active users by day of week.\n",
    "\n",
    "This was the resulting `df` in a previous lab."
   ]
  },
  {
   "cell_type": "code",
   "execution_count": 2,
   "metadata": {},
   "outputs": [
    {
     "data": {
      "text/plain": [
       "'E:\\\\LibreriasPython\\\\spark-3.1.2-bin-hadoop2.7\\\\python\\\\pyspark'"
      ]
     },
     "execution_count": 2,
     "metadata": {},
     "output_type": "execute_result"
    }
   ],
   "source": [
    "# Only when is Local\n",
    "import findspark\n",
    "\n",
    "findspark.init()\n",
    "findspark.find()"
   ]
  },
  {
   "cell_type": "code",
   "execution_count": 3,
   "metadata": {},
   "outputs": [],
   "source": [
    "import pyspark\n",
    "from pyspark.sql import SparkSession\n",
    "\n",
    "spark = SparkSession.builder.appName('ManagementURFs').getOrCreate()"
   ]
  },
  {
   "cell_type": "code",
   "execution_count": 4,
   "metadata": {
    "application/vnd.databricks.v1+cell": {
     "inputWidgets": {},
     "nuid": "1722889a-6435-48f5-97a7-d931ea07c77b",
     "showTitle": false,
     "title": ""
    },
    "colab": {
     "base_uri": "https://localhost:8080/",
     "height": 380
    },
    "id": "Jd-7mfSWXDah",
    "outputId": "a7aba3c8-e16b-4f40-f833-97acfb7d5f8c"
   },
   "outputs": [
    {
     "name": "stdout",
     "output_type": "stream",
     "text": [
      "+---+------------------+\n",
      "|day|avg_users         |\n",
      "+---+------------------+\n",
      "|Sun|281307.5          |\n",
      "|Mon|237582.5          |\n",
      "|Thu|179814.66666666666|\n",
      "|Sat|273175.3333333333 |\n",
      "|Wed|225910.5          |\n",
      "|Fri|251063.66666666666|\n",
      "|Tue|254316.5          |\n",
      "+---+------------------+\n",
      "\n"
     ]
    }
   ],
   "source": [
    "from pyspark.sql.functions import approx_count_distinct, avg, col, date_format, to_date\n",
    "\n",
    "eventsPath = '../data/events.parquet'\n",
    "\n",
    "df = (spark.read.parquet(eventsPath)\n",
    "  .withColumn(\"ts\", (col(\"event_timestamp\") / 1e6).cast(\"timestamp\"))\n",
    "  .withColumn(\"date\", to_date(\"ts\"))\n",
    "  .groupBy(\"date\").agg(approx_count_distinct(\"user_id\").alias(\"active_users\"))\n",
    "  .withColumn(\"day\", date_format(col(\"date\"), \"E\"))\n",
    "  .groupBy(\"day\").agg(avg(col(\"active_users\")).alias(\"avg_users\")))\n",
    "\n",
    "df.show(10, False)"
   ]
  },
  {
   "cell_type": "markdown",
   "metadata": {
    "application/vnd.databricks.v1+cell": {
     "inputWidgets": {},
     "nuid": "981604dc-c627-4ec4-a9e5-4b868d8d896f",
     "showTitle": false,
     "title": ""
    },
    "id": "UX34380FXDai"
   },
   "source": [
    "### 1. Definir UDF para etiquetar el día de la semana\n",
    "Utilice el **`labelDayOfWeek`** proporcionado a continuación para crear el udf **`labelDowUDF`**"
   ]
  },
  {
   "cell_type": "code",
   "execution_count": 6,
   "metadata": {
    "application/vnd.databricks.v1+cell": {
     "inputWidgets": {},
     "nuid": "e720af7e-4c26-4e67-a9ca-04fe3c47543e",
     "showTitle": false,
     "title": ""
    },
    "id": "HeJPgtIUXDak"
   },
   "outputs": [],
   "source": [
    "@py_or_udf(StringType())\n",
    "def labelDayOfWeek(day: str) ->str:\n",
    "  dow = {\"Mon\": \"1\", \"Tue\": \"2\", \"Wed\": \"3\", \"Thu\": \"4\",\n",
    "         \"Fri\": \"5\", \"Sat\": \"6\", \"Sun\": \"7\"}\n",
    "  return dow.get(day) + \"-\" + day"
   ]
  },
  {
   "cell_type": "code",
   "execution_count": 9,
   "metadata": {},
   "outputs": [
    {
     "name": "stdout",
     "output_type": "stream",
     "text": [
      "+-----+------------------+\n",
      "|  day|         avg_users|\n",
      "+-----+------------------+\n",
      "|7-Sun|          281307.5|\n",
      "|1-Mon|          237582.5|\n",
      "|4-Thu|179814.66666666666|\n",
      "|6-Sat| 273175.3333333333|\n",
      "|3-Wed|          225910.5|\n",
      "+-----+------------------+\n",
      "only showing top 5 rows\n",
      "\n"
     ]
    }
   ],
   "source": [
    "from pyspark.sql import functions as F\n",
    "df.withColumn('day',labelDayOfWeek(F.col('day'))).show(5)"
   ]
  },
  {
   "cell_type": "markdown",
   "metadata": {
    "application/vnd.databricks.v1+cell": {
     "inputWidgets": {},
     "nuid": "65be3486-1c28-4dc8-9e58-d6cddc249e26",
     "showTitle": false,
     "title": ""
    },
    "id": "RGJ6lNWQXDak"
   },
   "source": [
    "### 2. Aplique UDF a la etiqueta y ordene por día de la semana\n",
    "- Actualice la columna del **`day`** aplicando la UDF y reemplazando esta columna\n",
    "- Ordenar por **`day`**\n",
    "- Trazar como gráfico de barras"
   ]
  },
  {
   "cell_type": "code",
   "execution_count": null,
   "metadata": {
    "application/vnd.databricks.v1+cell": {
     "inputWidgets": {},
     "nuid": "493f1301-e92d-4d7d-b66e-0008e7a6c840",
     "showTitle": false,
     "title": ""
    },
    "id": "Z6i4QSkxXDak"
   },
   "outputs": [],
   "source": [
    "# TODO\n",
    "finalDF = FILL_IN\n",
    "\n",
    "display(finalDF)"
   ]
  },
  {
   "cell_type": "markdown",
   "metadata": {
    "application/vnd.databricks.v1+cell": {
     "inputWidgets": {},
     "nuid": "a2e54eab-8966-4cc1-914f-546fb0dde44d",
     "showTitle": false,
     "title": ""
    },
    "id": "dpTzYbrVXDal"
   },
   "source": [
    "### Extras"
   ]
  },
  {
   "cell_type": "markdown",
   "metadata": {
    "application/vnd.databricks.v1+cell": {
     "inputWidgets": {},
     "nuid": "a7df612a-a492-4612-bcb8-b74d30eb281a",
     "showTitle": false,
     "title": ""
    },
    "id": "k0z7SUhrXDam"
   },
   "source": [
    "- [Udf Pyspark](https://medium.com/@ayplam/developing-pyspark-udfs-d179db0ccc87)\n",
    "- [Pandas UDF](https://medium.com/analytics-vidhya/pyspark-udf-deep-dive-8ae984bfac00)"
   ]
  },
  {
   "cell_type": "code",
   "execution_count": null,
   "metadata": {
    "application/vnd.databricks.v1+cell": {
     "inputWidgets": {},
     "nuid": "13df09e0-df9d-4d3c-9363-fb97c8418d66",
     "showTitle": false,
     "title": ""
    },
    "id": "-N7Z6ZBRXDao"
   },
   "outputs": [],
   "source": []
  }
 ],
 "metadata": {
  "application/vnd.databricks.v1+notebook": {
   "dashboards": [],
   "language": "python",
   "notebookMetadata": {
    "pythonIndentUnit": 2
   },
   "notebookName": "03 UDFs",
   "notebookOrigID": 4306433353725430,
   "widgets": {}
  },
  "colab": {
   "name": "03 UDFs.ipynb",
   "provenance": []
  },
  "kernelspec": {
   "display_name": "Python 3 (ipykernel)",
   "language": "python",
   "name": "python3"
  },
  "language_info": {
   "codemirror_mode": {
    "name": "ipython",
    "version": 3
   },
   "file_extension": ".py",
   "mimetype": "text/x-python",
   "name": "python",
   "nbconvert_exporter": "python",
   "pygments_lexer": "ipython3",
   "version": "3.8.1"
  }
 },
 "nbformat": 4,
 "nbformat_minor": 1
}
