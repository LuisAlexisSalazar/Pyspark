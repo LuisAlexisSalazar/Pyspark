{
 "cells": [
  {
   "cell_type": "markdown",
   "metadata": {
    "application/vnd.databricks.v1+cell": {
     "inputWidgets": {},
     "nuid": "4e8a868a-8512-4f96-ac0e-0b02c095ba0e",
     "showTitle": false,
     "title": ""
    }
   },
   "source": [
    "# Javascript Object Notation (JSON)\n",
    "\n",
    "- Es una notación común para data web\n",
    "- No tabular:\n",
    "     - Registros no tienen todos el mismo conjunto de atributos\n",
    "- Datos se encuentran organizados en colecciones de objetos\n",
    "- Objectos son colecciones de atributos clave : valor\n",
    "- Json nested: objectos se encuentran anidados"
   ]
  },
  {
   "cell_type": "markdown",
   "metadata": {
    "application/vnd.databricks.v1+cell": {
     "inputWidgets": {},
     "nuid": "f034dd28-bdc7-4eb7-b135-c5bdf26547aa",
     "showTitle": false,
     "title": ""
    }
   },
   "source": [
    "#### Tipos de Archivo Json\n",
    "\n",
    "- **Record Orientation**: JSON más común\n",
    "- **Column Orientation**: Uso de espación más eficiente que en record Orientation\n",
    "- **Specifying Orientation**: Divide orientation data\n",
    "\n",
    "<img src='https://docs.oracle.com/en/database/oracle/oracle-database/21/lnoci/img/json_doc.png'>"
   ]
  },
  {
   "cell_type": "code",
   "execution_count": 0,
   "metadata": {
    "application/vnd.databricks.v1+cell": {
     "inputWidgets": {},
     "nuid": "2251b5ae-861d-451e-8b55-ccbef7699ab5",
     "showTitle": false,
     "title": ""
    }
   },
   "outputs": [
    {
     "data": {
      "text/html": [
       "<style scoped>\n",
       "  .ansiout {\n",
       "    display: block;\n",
       "    unicode-bidi: embed;\n",
       "    white-space: pre-wrap;\n",
       "    word-wrap: break-word;\n",
       "    word-break: break-all;\n",
       "    font-family: \"Source Code Pro\", \"Menlo\", monospace;;\n",
       "    font-size: 13px;\n",
       "    color: #555;\n",
       "    margin-left: 4px;\n",
       "    line-height: 19px;\n",
       "  }\n",
       "</style>"
      ]
     },
     "metadata": {
      "application/vnd.databricks.v1+output": {
       "arguments": {},
       "data": "",
       "errorSummary": "Notebook not found: IntroduccionBigDataSpark/Semana3/Includes/Classroom-Setup. Notebooks can be specified via a relative path (./Notebook or ../folder/Notebook) or via an absolute path (/Abs/Path/to/Notebook). Make sure you are specifying the path correctly.\n\nStacktrace:\n  /IntroduccionBigDataSpark/Semana3/00 Archivos Json: python",
       "errorTraceType": null,
       "metadata": {},
       "type": "ipynbError"
      }
     },
     "output_type": "display_data"
    }
   ],
   "source": [
    "%run ./Includes/Classroom-Setup"
   ]
  },
  {
   "cell_type": "markdown",
   "metadata": {
    "application/vnd.databricks.v1+cell": {
     "inputWidgets": {},
     "nuid": "8482cb78-9f05-45cb-af54-16be8aae43b8",
     "showTitle": false,
     "title": ""
    }
   },
   "source": [
    "### ![Spark Logo Tiny](https://files.training.databricks.com/images/105/logo_spark_tiny.png) Lectura de archivos JSON\n",
    "\n",
    "Leer de JSON con el método `json` de DataFrameReader y la opción de esquema de inferencia"
   ]
  },
  {
   "cell_type": "code",
   "execution_count": 0,
   "metadata": {
    "application/vnd.databricks.v1+cell": {
     "inputWidgets": {},
     "nuid": "11f36989-a53e-4274-a538-7988e616b733",
     "showTitle": false,
     "title": ""
    }
   },
   "outputs": [
    {
     "data": {
      "text/plain": [
       "root\n",
       " |-- device: string (nullable = true)\n",
       " |-- ecommerce: struct (nullable = true)\n",
       " |    |-- purchase_revenue_in_usd: double (nullable = true)\n",
       " |    |-- total_item_quantity: long (nullable = true)\n",
       " |    |-- unique_items: long (nullable = true)\n",
       " |-- event_name: string (nullable = true)\n",
       " |-- event_previous_timestamp: long (nullable = true)\n",
       " |-- event_timestamp: long (nullable = true)\n",
       " |-- geo: struct (nullable = true)\n",
       " |    |-- city: string (nullable = true)\n",
       " |    |-- state: string (nullable = true)\n",
       " |-- items: array (nullable = true)\n",
       " |    |-- element: struct (containsNull = true)\n",
       " |    |    |-- coupon: string (nullable = true)\n",
       " |    |    |-- item_id: string (nullable = true)\n",
       " |    |    |-- item_name: string (nullable = true)\n",
       " |    |    |-- item_revenue_in_usd: double (nullable = true)\n",
       " |    |    |-- price_in_usd: double (nullable = true)\n",
       " |    |    |-- quantity: long (nullable = true)\n",
       " |-- traffic_source: string (nullable = true)\n",
       " |-- user_first_touch_timestamp: long (nullable = true)\n",
       " |-- user_id: string (nullable = true)\n",
       "\n"
      ]
     },
     "metadata": {
      "application/vnd.databricks.v1+output": {
       "addedWidgets": {},
       "arguments": {},
       "data": "root\n |-- device: string (nullable = true)\n |-- ecommerce: struct (nullable = true)\n |    |-- purchase_revenue_in_usd: double (nullable = true)\n |    |-- total_item_quantity: long (nullable = true)\n |    |-- unique_items: long (nullable = true)\n |-- event_name: string (nullable = true)\n |-- event_previous_timestamp: long (nullable = true)\n |-- event_timestamp: long (nullable = true)\n |-- geo: struct (nullable = true)\n |    |-- city: string (nullable = true)\n |    |-- state: string (nullable = true)\n |-- items: array (nullable = true)\n |    |-- element: struct (containsNull = true)\n |    |    |-- coupon: string (nullable = true)\n |    |    |-- item_id: string (nullable = true)\n |    |    |-- item_name: string (nullable = true)\n |    |    |-- item_revenue_in_usd: double (nullable = true)\n |    |    |-- price_in_usd: double (nullable = true)\n |    |    |-- quantity: long (nullable = true)\n |-- traffic_source: string (nullable = true)\n |-- user_first_touch_timestamp: long (nullable = true)\n |-- user_id: string (nullable = true)\n\n",
       "datasetInfos": [],
       "metadata": {},
       "removedWidgets": [],
       "type": "ansi"
      }
     },
     "output_type": "display_data"
    }
   ],
   "source": [
    "eventsJsonPath = \"/FileStore/events-500k.json\"\n",
    "\n",
    "eventsDF = (spark.read\n",
    "  .option(\"inferSchema\", True)\n",
    "  .json(eventsJsonPath))\n",
    "\n",
    "eventsDF.printSchema()"
   ]
  },
  {
   "cell_type": "markdown",
   "metadata": {
    "application/vnd.databricks.v1+cell": {
     "inputWidgets": {},
     "nuid": "bf80fd88-43db-4813-beb5-83027af5b325",
     "showTitle": false,
     "title": ""
    }
   },
   "source": [
    "Lea datos más rápido creando un `StructType` con los nombres de esquema y tipos de datos"
   ]
  },
  {
   "cell_type": "code",
   "execution_count": 0,
   "metadata": {
    "application/vnd.databricks.v1+cell": {
     "inputWidgets": {},
     "nuid": "ce1248d9-0bab-4bf4-a957-09939bd4a70f",
     "showTitle": false,
     "title": ""
    }
   },
   "outputs": [
    {
     "data": {
      "text/html": [
       "<style scoped>\n",
       "  .ansiout {\n",
       "    display: block;\n",
       "    unicode-bidi: embed;\n",
       "    white-space: pre-wrap;\n",
       "    word-wrap: break-word;\n",
       "    word-break: break-all;\n",
       "    font-family: \"Source Code Pro\", \"Menlo\", monospace;;\n",
       "    font-size: 13px;\n",
       "    color: #555;\n",
       "    margin-left: 4px;\n",
       "    line-height: 19px;\n",
       "  }\n",
       "</style>\n",
       "<div class=\"ansiout\"></div>"
      ]
     },
     "metadata": {
      "application/vnd.databricks.v1+output": {
       "addedWidgets": {},
       "arguments": {},
       "data": "<div class=\"ansiout\"></div>",
       "datasetInfos": [
        {
         "name": "eventsDF",
         "schema": {
          "fields": [
           {
            "metadata": {},
            "name": "device",
            "nullable": true,
            "type": "string"
           },
           {
            "metadata": {},
            "name": "ecommerce",
            "nullable": true,
            "type": {
             "fields": [
              {
               "metadata": {},
               "name": "purchaseRevenue",
               "nullable": true,
               "type": "double"
              },
              {
               "metadata": {},
               "name": "total_item_quantity",
               "nullable": true,
               "type": "long"
              },
              {
               "metadata": {},
               "name": "unique_items",
               "nullable": true,
               "type": "long"
              }
             ],
             "type": "struct"
            }
           },
           {
            "metadata": {},
            "name": "event_name",
            "nullable": true,
            "type": "string"
           },
           {
            "metadata": {},
            "name": "event_previous_timestamp",
            "nullable": true,
            "type": "long"
           },
           {
            "metadata": {},
            "name": "event_timestamp",
            "nullable": true,
            "type": "long"
           },
           {
            "metadata": {},
            "name": "geo",
            "nullable": true,
            "type": {
             "fields": [
              {
               "metadata": {},
               "name": "city",
               "nullable": true,
               "type": "string"
              },
              {
               "metadata": {},
               "name": "state",
               "nullable": true,
               "type": "string"
              }
             ],
             "type": "struct"
            }
           },
           {
            "metadata": {},
            "name": "items",
            "nullable": true,
            "type": {
             "containsNull": true,
             "elementType": {
              "fields": [
               {
                "metadata": {},
                "name": "coupon",
                "nullable": true,
                "type": "string"
               },
               {
                "metadata": {},
                "name": "item_id",
                "nullable": true,
                "type": "string"
               },
               {
                "metadata": {},
                "name": "item_name",
                "nullable": true,
                "type": "string"
               },
               {
                "metadata": {},
                "name": "item_revenue_in_usd",
                "nullable": true,
                "type": "double"
               },
               {
                "metadata": {},
                "name": "price_in_usd",
                "nullable": true,
                "type": "double"
               },
               {
                "metadata": {},
                "name": "quantity",
                "nullable": true,
                "type": "long"
               }
              ],
              "type": "struct"
             },
             "type": "array"
            }
           },
           {
            "metadata": {},
            "name": "traffic_source",
            "nullable": true,
            "type": "string"
           },
           {
            "metadata": {},
            "name": "user_first_touch_timestamp",
            "nullable": true,
            "type": "long"
           },
           {
            "metadata": {},
            "name": "user_id",
            "nullable": true,
            "type": "string"
           }
          ],
          "type": "struct"
         },
         "tableIdentifier": null,
         "typeStr": "pyspark.sql.dataframe.DataFrame"
        }
       ],
       "metadata": {},
       "removedWidgets": [],
       "type": "html"
      }
     },
     "output_type": "display_data"
    }
   ],
   "source": [
    "from pyspark.sql.types import ArrayType, DoubleType, IntegerType, LongType, StringType, StructType, StructField\n",
    "\n",
    "userDefinedSchema = StructType([\n",
    "  StructField(\"device\", StringType(), True),\n",
    "  StructField(\"ecommerce\", StructType([\n",
    "    StructField(\"purchaseRevenue\", DoubleType(), True),\n",
    "    StructField(\"total_item_quantity\", LongType(), True),\n",
    "    StructField(\"unique_items\", LongType(), True)\n",
    "  ]), True),\n",
    "  StructField(\"event_name\", StringType(), True),\n",
    "  StructField(\"event_previous_timestamp\", LongType(), True),\n",
    "  StructField(\"event_timestamp\", LongType(), True),\n",
    "  StructField(\"geo\", StructType([\n",
    "    StructField(\"city\", StringType(), True),\n",
    "    StructField(\"state\", StringType(), True)\n",
    "  ]), True),\n",
    "  StructField(\"items\", ArrayType(\n",
    "    StructType([\n",
    "      StructField(\"coupon\", StringType(), True),\n",
    "      StructField(\"item_id\", StringType(), True),\n",
    "      StructField(\"item_name\", StringType(), True),\n",
    "      StructField(\"item_revenue_in_usd\", DoubleType(), True),\n",
    "      StructField(\"price_in_usd\", DoubleType(), True),\n",
    "      StructField(\"quantity\", LongType(), True)\n",
    "    ])\n",
    "  ), True),\n",
    "  StructField(\"traffic_source\", StringType(), True),\n",
    "  StructField(\"user_first_touch_timestamp\", LongType(), True),\n",
    "  StructField(\"user_id\", StringType(), True)\n",
    "])\n",
    "\n",
    "eventsDF = (spark.read\n",
    "  .schema(userDefinedSchema)\n",
    "  .json(eventsJsonPath))"
   ]
  },
  {
   "cell_type": "markdown",
   "metadata": {
    "application/vnd.databricks.v1+cell": {
     "inputWidgets": {},
     "nuid": "661a321c-852f-4b04-91ad-15c8ccac5eaf",
     "showTitle": false,
     "title": ""
    }
   },
   "source": [
    "## Descargar Archivos de Databricks"
   ]
  },
  {
   "cell_type": "code",
   "execution_count": 0,
   "metadata": {
    "application/vnd.databricks.v1+cell": {
     "inputWidgets": {},
     "nuid": "c589e98c-2786-474a-938a-ef8d5b9e169c",
     "showTitle": false,
     "title": ""
    }
   },
   "outputs": [
    {
     "data": {
      "text/plain": [
       "Out[1]: [FileInfo(path='dbfs:/FileStore/tables/', name='tables/', size=0)]"
      ]
     },
     "metadata": {
      "application/vnd.databricks.v1+output": {
       "addedWidgets": {},
       "arguments": {},
       "data": "Out[1]: [FileInfo(path='dbfs:/FileStore/tables/', name='tables/', size=0)]",
       "datasetInfos": [],
       "metadata": {},
       "removedWidgets": [],
       "type": "ansi"
      }
     },
     "output_type": "display_data"
    }
   ],
   "source": [
    "# mostrar los archivos que se encuentren en una ruta especifica\n",
    "dbutils.fs.ls('dbfs:/FileStore')\n",
    "\n"
   ]
  },
  {
   "cell_type": "code",
   "execution_count": 0,
   "metadata": {
    "application/vnd.databricks.v1+cell": {
     "inputWidgets": {},
     "nuid": "0680d47f-8fbb-4e57-9a7a-23b73a395489",
     "showTitle": false,
     "title": ""
    }
   },
   "outputs": [],
   "source": [
    "# Para copiar tal carpeta a la ruta de destino de forma recursiva (TRUE)\n",
    "dbutils.fs.cp('src', 'dts', True)\n"
   ]
  },
  {
   "cell_type": "code",
   "execution_count": 0,
   "metadata": {
    "application/vnd.databricks.v1+cell": {
     "inputWidgets": {},
     "nuid": "6cc4f5b4-4520-45b2-bfef-a528a13b367e",
     "showTitle": false,
     "title": ""
    }
   },
   "outputs": [
    {
     "data": {
      "text/plain": [
       "Out[3]: True"
      ]
     },
     "metadata": {
      "application/vnd.databricks.v1+output": {
       "addedWidgets": {},
       "arguments": {},
       "data": "Out[3]: True",
       "datasetInfos": [],
       "metadata": {},
       "removedWidgets": [],
       "type": "ansi"
      }
     },
     "output_type": "display_data"
    }
   ],
   "source": [
    "# Eliminar archivos de una ruta especifica\n",
    "dbutils.fs.rm(\"/FileStore/tables/\",True)"
   ]
  },
  {
   "cell_type": "code",
   "execution_count": 0,
   "metadata": {
    "application/vnd.databricks.v1+cell": {
     "inputWidgets": {},
     "nuid": "f8b8494c-e269-4af1-a446-083b66f8dfac",
     "showTitle": false,
     "title": ""
    }
   },
   "outputs": [
    {
     "data": {
      "text/html": [
       "<div class = \"ansiout\"><b>dbutils.fs</b> provides utilities for working with FileSystems. Most methods in\n",
       "this package can take either a DBFS path (e.g., \"/foo\" or \"dbfs:/foo\"), or\n",
       "another FileSystem URI.\n",
       "\n",
       "For more info about a method, use <b>dbutils.fs.help(\"methodName\")</b>.\n",
       "\n",
       "In notebooks, you can also use the %fs shorthand to access DBFS. The %fs shorthand maps\n",
       "straightforwardly onto dbutils calls. For example, \"%fs head --maxBytes=10000 /file/path\"\n",
       "translates into \"dbutils.fs.head(\"/file/path\", maxBytes = 10000)\".\n",
       "    <h3>fsutils</h3><b>cp(from: String, to: String, recurse: boolean = false): boolean</b> -> Copies a file or directory, possibly across FileSystems<br /><b>head(file: String, maxBytes: int = 65536): String</b> -> Returns up to the first 'maxBytes' bytes of the given file as a String encoded in UTF-8<br /><b>ls(dir: String): Seq</b> -> Lists the contents of a directory<br /><b>mkdirs(dir: String): boolean</b> -> Creates the given directory if it does not exist, also creating any necessary parent directories<br /><b>mv(from: String, to: String, recurse: boolean = false): boolean</b> -> Moves a file or directory, possibly across FileSystems<br /><b>put(file: String, contents: String, overwrite: boolean = false): boolean</b> -> Writes the given String out to a file, encoded in UTF-8<br /><b>rm(dir: String, recurse: boolean = false): boolean</b> -> Removes a file or directory<br /><br /><h3>mount</h3><b>mount(source: String, mountPoint: String, encryptionType: String = \"\", owner: String = null, extraConfigs: Map = Map.empty[String, String]): boolean</b> -> Mounts the given source directory into DBFS at the given mount point<br /><b>mounts: Seq</b> -> Displays information about what is mounted within DBFS<br /><b>refreshMounts: boolean</b> -> Forces all machines in this cluster to refresh their mount cache, ensuring they receive the most recent information<br /><b>unmount(mountPoint: String): boolean</b> -> Deletes a DBFS mount point<br /><br /></div>"
      ]
     },
     "metadata": {
      "application/vnd.databricks.v1+output": {
       "addedWidgets": {},
       "arguments": {},
       "data": "<div class = \"ansiout\"><b>dbutils.fs</b> provides utilities for working with FileSystems. Most methods in\nthis package can take either a DBFS path (e.g., \"/foo\" or \"dbfs:/foo\"), or\nanother FileSystem URI.\n\nFor more info about a method, use <b>dbutils.fs.help(\"methodName\")</b>.\n\nIn notebooks, you can also use the %fs shorthand to access DBFS. The %fs shorthand maps\nstraightforwardly onto dbutils calls. For example, \"%fs head --maxBytes=10000 /file/path\"\ntranslates into \"dbutils.fs.head(\"/file/path\", maxBytes = 10000)\".\n    <h3>fsutils</h3><b>cp(from: String, to: String, recurse: boolean = false): boolean</b> -> Copies a file or directory, possibly across FileSystems<br /><b>head(file: String, maxBytes: int = 65536): String</b> -> Returns up to the first 'maxBytes' bytes of the given file as a String encoded in UTF-8<br /><b>ls(dir: String): Seq</b> -> Lists the contents of a directory<br /><b>mkdirs(dir: String): boolean</b> -> Creates the given directory if it does not exist, also creating any necessary parent directories<br /><b>mv(from: String, to: String, recurse: boolean = false): boolean</b> -> Moves a file or directory, possibly across FileSystems<br /><b>put(file: String, contents: String, overwrite: boolean = false): boolean</b> -> Writes the given String out to a file, encoded in UTF-8<br /><b>rm(dir: String, recurse: boolean = false): boolean</b> -> Removes a file or directory<br /><br /><h3>mount</h3><b>mount(source: String, mountPoint: String, encryptionType: String = \"\", owner: String = null, extraConfigs: Map = Map.empty[String, String]): boolean</b> -> Mounts the given source directory into DBFS at the given mount point<br /><b>mounts: Seq</b> -> Displays information about what is mounted within DBFS<br /><b>refreshMounts: boolean</b> -> Forces all machines in this cluster to refresh their mount cache, ensuring they receive the most recent information<br /><b>unmount(mountPoint: String): boolean</b> -> Deletes a DBFS mount point<br /><br /></div>",
       "datasetInfos": [],
       "metadata": {},
       "removedWidgets": [],
       "textData": null,
       "type": "htmlSandbox"
      }
     },
     "output_type": "display_data"
    }
   ],
   "source": [
    "# Ayuda con los comandos\n",
    "dbutils.fs.help()"
   ]
  },
  {
   "cell_type": "markdown",
   "metadata": {
    "application/vnd.databricks.v1+cell": {
     "inputWidgets": {},
     "nuid": "c965a261-c57b-45d3-ba37-2c758b64731b",
     "showTitle": false,
     "title": ""
    }
   },
   "source": [
    "/dbfs/mnt/training/ecommerce/events/events-500k.json\n",
    "\n",
    "<!-- Estructura para el link de opiar de archivos -->\n",
    "https://community.cloud.databricks.com/files/[path-file]?o=[id]\n",
    "\n",
    "Ejemplo de path tiene http....com/files/[path-file]\n",
    "Para el caso de [id] tienes que ver el link cuando ingreses o estes logeado en data bricks, por ejemplo el link qeu tengo el id = 3574798299160009#\n",
    "https://community.cloud.databricks.com/?o=[3574798299160009]#notebook/3539616317455911/command/3539616317455921\n",
    "\n",
    "https://community.cloud.databricks.com/files/events-500k.json/part-00000-tid-309888144738233288-fab86c62-ff9f-4176-98c6-587f95ee9066-2365-1-c000.json?o=8507771068099703"
   ]
  },
  {
   "cell_type": "markdown",
   "metadata": {
    "application/vnd.databricks.v1+cell": {
     "inputWidgets": {},
     "nuid": "f0612f24-9fbd-464c-aacd-b417da522ee1",
     "showTitle": false,
     "title": ""
    }
   },
   "source": [
    "## Laboratorio\n",
    "------------------\n",
    "\n",
    "- Leer archivo flight-data.json según:\n",
    "  - Infiere esquema\n",
    "  - Generar esquema de lectura"
   ]
  },
  {
   "cell_type": "code",
   "execution_count": 1,
   "metadata": {
    "application/vnd.databricks.v1+cell": {
     "inputWidgets": {},
     "nuid": "61bc0a2a-ab42-4e5e-be32-0fbeb2d0a5e0",
     "showTitle": false,
     "title": ""
    },
    "scrolled": true
   },
   "outputs": [
    {
     "data": {
      "text/plain": [
       "'E:\\\\LibreriasPython\\\\spark-3.1.2-bin-hadoop2.7\\\\python\\\\pyspark'"
      ]
     },
     "execution_count": 1,
     "metadata": {},
     "output_type": "execute_result"
    }
   ],
   "source": [
    "# Only when is Local\n",
    "import findspark\n",
    "\n",
    "findspark.init()\n",
    "findspark.find()"
   ]
  },
  {
   "cell_type": "code",
   "execution_count": 4,
   "metadata": {},
   "outputs": [],
   "source": [
    "import pyspark\n",
    "from pyspark.sql import SparkSession\n",
    "\n",
    "spark = SparkSession.builder.appName('ManagementJSON').getOrCreate()"
   ]
  },
  {
   "cell_type": "code",
   "execution_count": 5,
   "metadata": {},
   "outputs": [
    {
     "name": "stdout",
     "output_type": "stream",
     "text": [
      "root\n",
      " |-- DEST_COUNTRY_NAME: string (nullable = true)\n",
      " |-- ORIGIN_COUNTRY_NAME: string (nullable = true)\n",
      " |-- count: long (nullable = true)\n",
      "\n"
     ]
    }
   ],
   "source": [
    "flightJsonPath = \"../data/2015-summary.json\"\n",
    "\n",
    "flightDF = (spark.read\n",
    "  .option(\"inferSchema\", True)\n",
    "  .json(flightJsonPath))\n",
    "\n",
    "flightDF.printSchema()"
   ]
  },
  {
   "cell_type": "code",
   "execution_count": 6,
   "metadata": {
    "application/vnd.databricks.v1+cell": {
     "inputWidgets": {},
     "nuid": "6bb954d3-8628-4172-befa-0c45b0dd6ae9",
     "showTitle": false,
     "title": ""
    }
   },
   "outputs": [
    {
     "name": "stdout",
     "output_type": "stream",
     "text": [
      "+-----------------+-------------------+-----+\n",
      "|DEST_COUNTRY_NAME|ORIGIN_COUNTRY_NAME|count|\n",
      "+-----------------+-------------------+-----+\n",
      "|    United States|            Romania|   15|\n",
      "|    United States|            Croatia|    1|\n",
      "|    United States|            Ireland|  344|\n",
      "|            Egypt|      United States|   15|\n",
      "|    United States|              India|   62|\n",
      "+-----------------+-------------------+-----+\n",
      "only showing top 5 rows\n",
      "\n"
     ]
    }
   ],
   "source": [
    "flightDF.show(5)"
   ]
  },
  {
   "cell_type": "code",
   "execution_count": 7,
   "metadata": {},
   "outputs": [
    {
     "name": "stdout",
     "output_type": "stream",
     "text": [
      "root\n",
      " |-- DEST_COUNTRY_NAME: string (nullable = true)\n",
      " |-- ORIGIN_COUNTRY_NAME: string (nullable = true)\n",
      " |-- count: integer (nullable = true)\n",
      "\n"
     ]
    }
   ],
   "source": [
    "from pyspark.sql.types import ArrayType, DoubleType, IntegerType, LongType, StringType, StructType, StructField\n",
    "\n",
    "userDefinedSchema = StructType([\n",
    "  StructField(\"DEST_COUNTRY_NAME\", StringType(), True),\n",
    "  StructField(\"ORIGIN_COUNTRY_NAME\", StringType(),True),\n",
    "  StructField(\"count\", IntegerType(), True),\n",
    "\n",
    "])\n",
    "\n",
    "flightDF = (spark.read\n",
    "  .schema(userDefinedSchema)\n",
    "  .json(flightJsonPath))\n",
    "\n",
    "flightDF.printSchema()"
   ]
  },
  {
   "cell_type": "code",
   "execution_count": 8,
   "metadata": {},
   "outputs": [
    {
     "name": "stdout",
     "output_type": "stream",
     "text": [
      "+-----------------+-------------------+-----+\n",
      "|DEST_COUNTRY_NAME|ORIGIN_COUNTRY_NAME|count|\n",
      "+-----------------+-------------------+-----+\n",
      "|    United States|            Romania|   15|\n",
      "|    United States|            Croatia|    1|\n",
      "|    United States|            Ireland|  344|\n",
      "|            Egypt|      United States|   15|\n",
      "|    United States|              India|   62|\n",
      "+-----------------+-------------------+-----+\n",
      "only showing top 5 rows\n",
      "\n"
     ]
    }
   ],
   "source": [
    "flightDF.show(5)"
   ]
  }
 ],
 "metadata": {
  "application/vnd.databricks.v1+notebook": {
   "dashboards": [],
   "language": "python",
   "notebookMetadata": {
    "pythonIndentUnit": 2
   },
   "notebookName": "01 Archivos Json",
   "notebookOrigID": 3539616317455911,
   "widgets": {}
  },
  "kernelspec": {
   "display_name": "Python 3 (ipykernel)",
   "language": "python",
   "name": "python3"
  },
  "language_info": {
   "codemirror_mode": {
    "name": "ipython",
    "version": 3
   },
   "file_extension": ".py",
   "mimetype": "text/x-python",
   "name": "python",
   "nbconvert_exporter": "python",
   "pygments_lexer": "ipython3",
   "version": "3.8.1"
  }
 },
 "nbformat": 4,
 "nbformat_minor": 1
}
