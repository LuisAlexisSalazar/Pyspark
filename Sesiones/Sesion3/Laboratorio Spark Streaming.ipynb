{
 "cells": [
  {
   "cell_type": "markdown",
   "metadata": {
    "application/vnd.databricks.v1+cell": {
     "inputWidgets": {},
     "nuid": "eb0b208d-191f-460e-9f4f-d2b658f2f4ed",
     "showTitle": false,
     "title": ""
    }
   },
   "source": [
    "## ![Spark Logo Tiny](https://files.training.databricks.com/images/105/logo_spark_tiny.png) Laboratorio Ventas Ecommers\n",
    "1. Construyendo streaming DataFrames\n",
    "1. Mostrando consultas streaming\n",
    "1. Escribiendo resultados streaming \n",
    "1. Monitoreando consultas streaming"
   ]
  },
  {
   "cell_type": "code",
   "execution_count": 2,
   "metadata": {},
   "outputs": [
    {
     "data": {
      "text/plain": [
       "'E:\\\\LibreriasPython\\\\spark-3.1.2-bin-hadoop2.7\\\\python\\\\pyspark'"
      ]
     },
     "execution_count": 2,
     "metadata": {},
     "output_type": "execute_result"
    }
   ],
   "source": [
    "# Only when is Local\n",
    "import findspark\n",
    "\n",
    "findspark.init()\n",
    "findspark.find()"
   ]
  },
  {
   "cell_type": "code",
   "execution_count": 3,
   "metadata": {},
   "outputs": [],
   "source": [
    "import pyspark\n",
    "from pyspark.sql import SparkSession\n",
    "\n",
    "spark = SparkSession.builder.appName('ManagementStream').getOrCreate()"
   ]
  },
  {
   "cell_type": "code",
   "execution_count": 18,
   "metadata": {
    "application/vnd.databricks.v1+cell": {
     "inputWidgets": {},
     "nuid": "8a00ec88-664a-4ebe-9fdf-a7dfefdfbe62",
     "showTitle": false,
     "title": ""
    }
   },
   "outputs": [],
   "source": [
    "schema = \"device STRING, ecommerce STRUCT<purchase_revenue_in_usd: DOUBLE, total_item_quantity: BIGINT, unique_items: BIGINT>, event_name STRING, event_previous_timestamp BIGINT, event_timestamp BIGINT, geo STRUCT<city: STRING, state: STRING>, items ARRAY<STRUCT<coupon: STRING, item_id: STRING, item_name: STRING, item_revenue_in_usd: DOUBLE, price_in_usd: DOUBLE, quantity: BIGINT>>, traffic_source STRING, user_first_touch_timestamp BIGINT, user_id STRING\"\n",
    "\n",
    "eventsPath = \"../data/events.parquet\" # path to events\n",
    "\n",
    "\n",
    "df = (spark.readStream\n",
    "  .schema(schema)\n",
    "  .option(\"maxFilesPerTrigger\", 1)\n",
    "  .parquet(eventsPath)\n",
    ")"
   ]
  },
  {
   "cell_type": "code",
   "execution_count": 28,
   "metadata": {},
   "outputs": [
    {
     "name": "stdout",
     "output_type": "stream",
     "text": [
      "root\n",
      " |-- device: string (nullable = true)\n",
      " |-- ecommerce: struct (nullable = true)\n",
      " |    |-- purchase_revenue_in_usd: double (nullable = true)\n",
      " |    |-- total_item_quantity: long (nullable = true)\n",
      " |    |-- unique_items: long (nullable = true)\n",
      " |-- event_name: string (nullable = true)\n",
      " |-- event_previous_timestamp: long (nullable = true)\n",
      " |-- event_timestamp: long (nullable = true)\n",
      " |-- geo: struct (nullable = true)\n",
      " |    |-- city: string (nullable = true)\n",
      " |    |-- state: string (nullable = true)\n",
      " |-- items: array (nullable = true)\n",
      " |    |-- element: struct (containsNull = true)\n",
      " |    |    |-- coupon: string (nullable = true)\n",
      " |    |    |-- item_id: string (nullable = true)\n",
      " |    |    |-- item_name: string (nullable = true)\n",
      " |    |    |-- item_revenue_in_usd: double (nullable = true)\n",
      " |    |    |-- price_in_usd: double (nullable = true)\n",
      " |    |    |-- quantity: long (nullable = true)\n",
      " |-- traffic_source: string (nullable = true)\n",
      " |-- user_first_touch_timestamp: long (nullable = true)\n",
      " |-- user_id: string (nullable = true)\n",
      "\n"
     ]
    }
   ],
   "source": [
    "df.printSchema()"
   ]
  },
  {
   "cell_type": "markdown",
   "metadata": {
    "application/vnd.databricks.v1+cell": {
     "inputWidgets": {},
     "nuid": "f1baf64d-3b61-4bc4-b67d-14675b8330d0",
     "showTitle": false,
     "title": ""
    }
   },
   "source": [
    "### 1. Construyendo streaming DataFrames\n",
    "\n",
    "- Valide que el DataFrame se procesa en Streaming 'isStreaming'\n",
    "\n",
    "- Genere emailTrafficDF a partir de:\n",
    "  - Filtrando df según  (traffic_source == 'email') \n",
    "  - Use método withColumn generando la columna \"mobile\" cuya lógica es col(\"device\").isin([\"iOS\", \"Android\"])\n",
    "  - Seleccione \"user_id\", \"event_timestamp\", \"mobile\""
   ]
  },
  {
   "cell_type": "code",
   "execution_count": 30,
   "metadata": {},
   "outputs": [
    {
     "data": {
      "text/plain": [
       "True"
      ]
     },
     "execution_count": 30,
     "metadata": {},
     "output_type": "execute_result"
    }
   ],
   "source": [
    "# validar si procesamiento es streaming\n",
    "df.isStreaming"
   ]
  },
  {
   "cell_type": "code",
   "execution_count": 29,
   "metadata": {},
   "outputs": [],
   "source": [
    "# Transforma en STREAMING\n",
    "from pyspark.sql import functions as F\n",
    "\n",
    "dfStreamFilter = (df.filter(F.col('traffic_source')== F.lit('email')).withColumn('mobile',F.col(\"device\").isin([\"iOS\", \"Android\"])).select(\"user_id\", \"event_timestamp\", \"mobile\"))\n"
   ]
  },
  {
   "cell_type": "markdown",
   "metadata": {
    "application/vnd.databricks.v1+cell": {
     "inputWidgets": {},
     "nuid": "6e3adaeb-ccfc-4de5-a7a9-1ca10c3b2165",
     "showTitle": false,
     "title": ""
    }
   },
   "source": [
    "### 2. Mostrando consultas streaming"
   ]
  },
  {
   "cell_type": "code",
   "execution_count": 32,
   "metadata": {
    "application/vnd.databricks.v1+cell": {
     "inputWidgets": {},
     "nuid": "a8f6f383-2d94-4f45-b558-cdb997888965",
     "showTitle": false,
     "title": ""
    }
   },
   "outputs": [],
   "source": [
    "# En databrick nos permite monitorear mostrando por defect el grarfico de como esta llendo los datos \n",
    "userhome = \"../data\"\n",
    "checkpointPath = userhome + \"/email_traffic/checkpoint\"\n",
    "outputPath = userhome + \"/email_traffic/output\"\n",
    "\n",
    "devicesQuery = (dfStreamFilter.writeStream\n",
    "  .outputMode(\"append\")\n",
    "  .format(\"parquet\")\n",
    "  .queryName(\"email_traffic_p\")\n",
    "  .trigger(processingTime=\"1 second\")\n",
    "  .option(\"checkpointLocation\", checkpointPath)\n",
    "  .start(outputPath))"
   ]
  },
  {
   "cell_type": "markdown",
   "metadata": {
    "application/vnd.databricks.v1+cell": {
     "inputWidgets": {},
     "nuid": "b00c2a08-68f0-4268-9df9-3e53868f2b66",
     "showTitle": false,
     "title": ""
    }
   },
   "source": [
    "### ![Spark Logo Tiny](https://files.training.databricks.com/images/105/logo_spark_tiny.png) Monitoreando consultas Streaming\n",
    "\n",
    "- Muestre 'id' de streaming\n",
    "- Muestre status de streaming\n",
    "- Pare ejecución streaming"
   ]
  },
  {
   "cell_type": "code",
   "execution_count": 33,
   "metadata": {
    "application/vnd.databricks.v1+cell": {
     "inputWidgets": {},
     "nuid": "8770eb4b-5256-491d-a8ed-ac227ccbe506",
     "showTitle": false,
     "title": ""
    }
   },
   "outputs": [
    {
     "data": {
      "text/plain": [
       "'468ff6c2-50f1-4774-84ce-4faa8e4554e9'"
      ]
     },
     "execution_count": 33,
     "metadata": {},
     "output_type": "execute_result"
    }
   ],
   "source": [
    "# ID\n",
    "devicesQuery.id"
   ]
  },
  {
   "cell_type": "code",
   "execution_count": 34,
   "metadata": {
    "application/vnd.databricks.v1+cell": {
     "inputWidgets": {},
     "nuid": "a50d1751-379c-49bd-b2e3-a85ede96c0fe",
     "showTitle": false,
     "title": ""
    }
   },
   "outputs": [
    {
     "data": {
      "text/plain": [
       "{'message': \"Terminated with exception: Option 'basePath' must be a directory\",\n",
       " 'isDataAvailable': False,\n",
       " 'isTriggerActive': False}"
      ]
     },
     "execution_count": 34,
     "metadata": {},
     "output_type": "execute_result"
    }
   ],
   "source": [
    "# status\n",
    "devicesQuery.status"
   ]
  },
  {
   "cell_type": "code",
   "execution_count": 35,
   "metadata": {
    "application/vnd.databricks.v1+cell": {
     "inputWidgets": {},
     "nuid": "787f368f-8f15-4a5e-b65b-c6e8398f42b3",
     "showTitle": false,
     "title": ""
    }
   },
   "outputs": [],
   "source": [
    "# stop\n",
    "devicesQuery.stop()"
   ]
  },
  {
   "cell_type": "code",
   "execution_count": 36,
   "metadata": {},
   "outputs": [
    {
     "data": {
      "text/plain": [
       "'468ff6c2-50f1-4774-84ce-4faa8e4554e9'"
      ]
     },
     "execution_count": 36,
     "metadata": {},
     "output_type": "execute_result"
    }
   ],
   "source": [
    "devicesQuery.id"
   ]
  },
  {
   "cell_type": "code",
   "execution_count": 25,
   "metadata": {},
   "outputs": [
    {
     "name": "stdout",
     "output_type": "stream",
     "text": [
      "-RECORD 0------------------------------------------\n",
      " device                     | macOS                \n",
      " ecommerce                  | {null, null, null}   \n",
      " event_name                 | warranty             \n",
      " event_previous_timestamp   | 1593878899217692     \n",
      " event_timestamp            | 1593878946592107     \n",
      " geo                        | {Montrose, MI}       \n",
      " items                      | []                   \n",
      " traffic_source             | google               \n",
      " user_first_touch_timestamp | 1593878899217692     \n",
      " user_id                    | UA000000107379500    \n",
      "-RECORD 1------------------------------------------\n",
      " device                     | Windows              \n",
      " ecommerce                  | {null, null, null}   \n",
      " event_name                 | press                \n",
      " event_previous_timestamp   | 1593876662175340     \n",
      " event_timestamp            | 1593877011756535     \n",
      " geo                        | {Northampton, MA}    \n",
      " items                      | []                   \n",
      " traffic_source             | google               \n",
      " user_first_touch_timestamp | 1593876662175340     \n",
      " user_id                    | UA000000107359357    \n",
      "-RECORD 2------------------------------------------\n",
      " device                     | macOS                \n",
      " ecommerce                  | {null, null, null}   \n",
      " event_name                 | add_item             \n",
      " event_previous_timestamp   | 1593878792892652     \n",
      " event_timestamp            | 1593878815459100     \n",
      " geo                        | {Salinas, CA}        \n",
      " items                      | [{null, M_STAN_T,... \n",
      " traffic_source             | youtube              \n",
      " user_first_touch_timestamp | 1593878455472030     \n",
      " user_id                    | UA000000107375547    \n",
      "-RECORD 3------------------------------------------\n",
      " device                     | iOS                  \n",
      " ecommerce                  | {null, null, null}   \n",
      " event_name                 | mattresses           \n",
      " event_previous_timestamp   | 1593878178791663     \n",
      " event_timestamp            | 1593878809276923     \n",
      " geo                        | {Everett, MA}        \n",
      " items                      | []                   \n",
      " traffic_source             | facebook             \n",
      " user_first_touch_timestamp | 1593877903116176     \n",
      " user_id                    | UA000000107370581    \n",
      "-RECORD 4------------------------------------------\n",
      " device                     | Windows              \n",
      " ecommerce                  | {null, null, null}   \n",
      " event_name                 | mattresses           \n",
      " event_previous_timestamp   | null                 \n",
      " event_timestamp            | 1593878628143633     \n",
      " geo                        | {Cottage Grove, MN}  \n",
      " items                      | []                   \n",
      " traffic_source             | google               \n",
      " user_first_touch_timestamp | 1593878628143633     \n",
      " user_id                    | UA000000107377108    \n",
      "-RECORD 5------------------------------------------\n",
      " device                     | Windows              \n",
      " ecommerce                  | {null, null, null}   \n",
      " event_name                 | main                 \n",
      " event_previous_timestamp   | null                 \n",
      " event_timestamp            | 1593878634344194     \n",
      " geo                        | {Medina, MN}         \n",
      " items                      | []                   \n",
      " traffic_source             | youtube              \n",
      " user_first_touch_timestamp | 1593878634344194     \n",
      " user_id                    | UA000000107377161    \n",
      "-RECORD 6------------------------------------------\n",
      " device                     | iOS                  \n",
      " ecommerce                  | {null, null, null}   \n",
      " event_name                 | main                 \n",
      " event_previous_timestamp   | null                 \n",
      " event_timestamp            | 1593877936171803     \n",
      " geo                        | {Mount Pleasant, UT} \n",
      " items                      | []                   \n",
      " traffic_source             | direct               \n",
      " user_first_touch_timestamp | 1593877936171803     \n",
      " user_id                    | UA000000107370851    \n",
      "-RECORD 7------------------------------------------\n",
      " device                     | macOS                \n",
      " ecommerce                  | {null, null, null}   \n",
      " event_name                 | main                 \n",
      " event_previous_timestamp   | null                 \n",
      " event_timestamp            | 1593876843215329     \n",
      " geo                        | {Piedmont, AL}       \n",
      " items                      | []                   \n",
      " traffic_source             | instagram            \n",
      " user_first_touch_timestamp | 1593876843215329     \n",
      " user_id                    | UA000000107360961    \n",
      "-RECORD 8------------------------------------------\n",
      " device                     | Android              \n",
      " ecommerce                  | {null, null, null}   \n",
      " event_name                 | warranty             \n",
      " event_previous_timestamp   | 1593878529774474     \n",
      " event_timestamp            | 1593879213196400     \n",
      " geo                        | {Rancho Santa Mar... \n",
      " items                      | []                   \n",
      " traffic_source             | instagram            \n",
      " user_first_touch_timestamp | 1593878529774474     \n",
      " user_id                    | UA000000107376205    \n",
      "-RECORD 9------------------------------------------\n",
      " device                     | Windows              \n",
      " ecommerce                  | {null, null, null}   \n",
      " event_name                 | main                 \n",
      " event_previous_timestamp   | null                 \n",
      " event_timestamp            | 1593876713246514     \n",
      " geo                        | {Elyria, OH}         \n",
      " items                      | []                   \n",
      " traffic_source             | facebook             \n",
      " user_first_touch_timestamp | 1593876713246514     \n",
      " user_id                    | UA000000107359805    \n",
      "only showing top 10 rows\n",
      "\n"
     ]
    }
   ],
   "source": [
    "# df_parquet_describe = spark.read.parquet(outputPath)\n",
    "df_parquet_describe = spark.read.parquet(userhome+\"/events.parquet\")\n",
    "\n",
    "df_parquet_describe.show(10,vertical = True)"
   ]
  },
  {
   "cell_type": "markdown",
   "metadata": {
    "application/vnd.databricks.v1+cell": {
     "inputWidgets": {},
     "nuid": "9a3f6cbc-6905-4401-955b-7072e6513171",
     "showTitle": false,
     "title": ""
    }
   },
   "source": [
    "## ![Spark Logo Tiny](https://files.training.databricks.com/images/105/logo_spark_tiny.png) Laboratorio de ventas de cupones\n",
    "\n",
    "Procese y agregue datos de transmisión en transacciones usando cupones.\n",
    "\n",
    "1. Leer flujo de datos\n",
    "1. Filtrar por transacciones con códigos de cupones\n",
    "1. Escribir resultados de consultas de transmisión en parquet\n",
    "1. Supervisar la consulta de transmisión\n",
    "1. Detener consulta de transmisión\n",
    "\n",
    "##### Classes\n",
    "- [DataStreamReader](http://spark.apache.org/docs/3.0.0/api/scala/org/apache/spark/sql/streaming/DataStreamReader.html)\n",
    "- [DataStreamWriter](http://spark.apache.org/docs/3.0.0/api/scala/org/apache/spark/sql/streaming/DataStreamWriter.html)\n",
    "- [StreamingQuery](http://spark.apache.org/docs/3.0.0/api/scala/org/apache/spark/sql/streaming/StreamingQuery.html)"
   ]
  },
  {
   "cell_type": "code",
   "execution_count": 5,
   "metadata": {
    "application/vnd.databricks.v1+cell": {
     "inputWidgets": {},
     "nuid": "e1abfc51-47c2-4721-ba7f-bb78a5ea0e79",
     "showTitle": false,
     "title": ""
    }
   },
   "outputs": [],
   "source": [
    "schema = \"order_id BIGINT, email STRING, transaction_timestamp BIGINT, total_item_quantity BIGINT, purchase_revenue_in_usd DOUBLE, unique_items BIGINT, items ARRAY<STRUCT<coupon: STRING, item_id: STRING, item_name: STRING, item_revenue_in_usd: DOUBLE, price_in_usd: DOUBLE, quantity: BIGINT>>\""
   ]
  },
  {
   "cell_type": "markdown",
   "metadata": {
    "application/vnd.databricks.v1+cell": {
     "inputWidgets": {},
     "nuid": "d6675491-ed5a-4bad-b74b-f7cb2fe5167d",
     "showTitle": false,
     "title": ""
    }
   },
   "source": [
    "### 1. Lectura de Datos Streaming\n",
    "- Genere el schema correspondiente **`schema`**\n",
    "- Setea el proceso para la lectura de 1 fila por trigger\n",
    "- Lea a partir de archivo parquet almanenado en **`salesPath`**\n",
    "\n",
    "Assign the resulting DataFrame to **`df`**"
   ]
  },
  {
   "cell_type": "code",
   "execution_count": 50,
   "metadata": {
    "application/vnd.databricks.v1+cell": {
     "inputWidgets": {},
     "nuid": "4e39a733-74e6-4fc9-b829-abca41c9f01b",
     "showTitle": false,
     "title": ""
    }
   },
   "outputs": [],
   "source": [
    "# TODO\n",
    "salesPath = '../data/events.parquet'\n",
    "\n",
    "dfStreaming = (spark\n",
    "      .readStream\n",
    "      .format(\"parquet\")\n",
    "      .option(\"maxFilesPerTrigger\",1)\n",
    "      .schema(schema)\n",
    "      .load(salesPath)\n",
    "      \n",
    ")\n",
    "\n",
    "df = (spark\n",
    "      .read\n",
    "      .schema(schema)\n",
    "      .load(salesPath)\n",
    ")"
   ]
  },
  {
   "cell_type": "code",
   "execution_count": 51,
   "metadata": {},
   "outputs": [
    {
     "name": "stdout",
     "output_type": "stream",
     "text": [
      "root\n",
      " |-- order_id: long (nullable = true)\n",
      " |-- email: string (nullable = true)\n",
      " |-- transaction_timestamp: long (nullable = true)\n",
      " |-- total_item_quantity: long (nullable = true)\n",
      " |-- purchase_revenue_in_usd: double (nullable = true)\n",
      " |-- unique_items: long (nullable = true)\n",
      " |-- items: array (nullable = true)\n",
      " |    |-- element: struct (containsNull = true)\n",
      " |    |    |-- coupon: string (nullable = true)\n",
      " |    |    |-- item_id: string (nullable = true)\n",
      " |    |    |-- item_name: string (nullable = true)\n",
      " |    |    |-- item_revenue_in_usd: double (nullable = true)\n",
      " |    |    |-- price_in_usd: double (nullable = true)\n",
      " |    |    |-- quantity: long (nullable = true)\n",
      "\n"
     ]
    }
   ],
   "source": [
    "df.printSchema()"
   ]
  },
  {
   "cell_type": "code",
   "execution_count": 53,
   "metadata": {
    "application/vnd.databricks.v1+cell": {
     "inputWidgets": {},
     "nuid": "5961eb62-bd16-46f9-a557-c81c3fe8beb0",
     "showTitle": false,
     "title": ""
    }
   },
   "outputs": [],
   "source": [
    "assert dfStreaming.isStreaming\n",
    "assert dfStreaming.columns == ['order_id', 'email', 'transaction_timestamp', 'total_item_quantity', 'purchase_revenue_in_usd', 'unique_items', 'items']"
   ]
  },
  {
   "cell_type": "code",
   "execution_count": 56,
   "metadata": {},
   "outputs": [
    {
     "name": "stdout",
     "output_type": "stream",
     "text": [
      "-RECORD 0------------------------------------------------------------------------------\n",
      " order_id                | null                                                        \n",
      " email                   | null                                                        \n",
      " transaction_timestamp   | null                                                        \n",
      " total_item_quantity     | null                                                        \n",
      " purchase_revenue_in_usd | null                                                        \n",
      " unique_items            | null                                                        \n",
      " items                   | []                                                          \n",
      "-RECORD 1------------------------------------------------------------------------------\n",
      " order_id                | null                                                        \n",
      " email                   | null                                                        \n",
      " transaction_timestamp   | null                                                        \n",
      " total_item_quantity     | null                                                        \n",
      " purchase_revenue_in_usd | null                                                        \n",
      " unique_items            | null                                                        \n",
      " items                   | []                                                          \n",
      "-RECORD 2------------------------------------------------------------------------------\n",
      " order_id                | null                                                        \n",
      " email                   | null                                                        \n",
      " transaction_timestamp   | null                                                        \n",
      " total_item_quantity     | null                                                        \n",
      " purchase_revenue_in_usd | null                                                        \n",
      " unique_items            | null                                                        \n",
      " items                   | [{null, M_STAN_T, Standard Twin Mattress, 595.0, 595.0, 1}] \n",
      "only showing top 3 rows\n",
      "\n"
     ]
    }
   ],
   "source": [
    "df.show(3,vertical=True,truncate = False)"
   ]
  },
  {
   "cell_type": "markdown",
   "metadata": {
    "application/vnd.databricks.v1+cell": {
     "inputWidgets": {},
     "nuid": "26193ef4-0234-4327-91ca-965d7e0702a5",
     "showTitle": false,
     "title": ""
    }
   },
   "source": [
    "### 2. Filtrado por Transacción\n",
    "- Explotar campo  **`items`**  en **`df`**\n",
    "- Filre cada uno de los archivos donde **`items.coupon`** es no nulo\n",
    "\n",
    "Asigne el Dataframe como resultado **`couponSalesDF`**."
   ]
  },
  {
   "cell_type": "code",
   "execution_count": 10,
   "metadata": {
    "application/vnd.databricks.v1+cell": {
     "inputWidgets": {},
     "nuid": "8f57577a-d6b6-459c-9e28-02b7afae504e",
     "showTitle": false,
     "title": ""
    }
   },
   "outputs": [
    {
     "name": "stdout",
     "output_type": "stream",
     "text": [
      "+-----------------------------------------------------------+------------+\n",
      "|col                                                        |items.coupon|\n",
      "+-----------------------------------------------------------+------------+\n",
      "|{null, M_STAN_T, Standard Twin Mattress, 595.0, 595.0, 1}  |[null]      |\n",
      "|{null, M_STAN_F, Standard Full Mattress, 945.0, 945.0, 1}  |[null]      |\n",
      "|{null, M_PREM_T, Premium Twin Mattress, 1095.0, 1095.0, 1} |[null]      |\n",
      "|{null, M_STAN_K, Standard King Mattress, 1195.0, 1195.0, 1}|[null]      |\n",
      "|{null, M_STAN_K, Standard King Mattress, 1195.0, 1195.0, 1}|[null]      |\n",
      "+-----------------------------------------------------------+------------+\n",
      "only showing top 5 rows\n",
      "\n"
     ]
    }
   ],
   "source": [
    "from pyspark.sql import functions as F\n",
    "\n",
    "\n",
    "df.select(F.explode(df.items), df.items.coupon).show(5,truncate = False)"
   ]
  },
  {
   "cell_type": "code",
   "execution_count": 28,
   "metadata": {},
   "outputs": [],
   "source": [
    "couponSalesDF = (dfStreaming.withColumn(\"items\",F.explode(F.col(\"items\")))\n",
    "                 .filter(F.col(\"items.coupon\").isNotNull()))"
   ]
  },
  {
   "cell_type": "code",
   "execution_count": 20,
   "metadata": {
    "scrolled": true
   },
   "outputs": [
    {
     "name": "stdout",
     "output_type": "stream",
     "text": [
      "-RECORD 0----------------------------------------------------------------------------------\n",
      " order_id                | null                                                            \n",
      " email                   | null                                                            \n",
      " transaction_timestamp   | null                                                            \n",
      " total_item_quantity     | null                                                            \n",
      " purchase_revenue_in_usd | null                                                            \n",
      " unique_items            | null                                                            \n",
      " items                   | {NEWBED10, M_STAN_Q, Standard Queen Mattress, 940.5, 1045.0, 1} \n",
      "-RECORD 1----------------------------------------------------------------------------------\n",
      " order_id                | null                                                            \n",
      " email                   | null                                                            \n",
      " transaction_timestamp   | null                                                            \n",
      " total_item_quantity     | null                                                            \n",
      " purchase_revenue_in_usd | null                                                            \n",
      " unique_items            | null                                                            \n",
      " items                   | {NEWBED10, M_PREM_K, Premium King Mattress, 1795.5, 1995.0, 1}  \n",
      "-RECORD 2----------------------------------------------------------------------------------\n",
      " order_id                | null                                                            \n",
      " email                   | null                                                            \n",
      " transaction_timestamp   | null                                                            \n",
      " total_item_quantity     | null                                                            \n",
      " purchase_revenue_in_usd | null                                                            \n",
      " unique_items            | null                                                            \n",
      " items                   | {NEWBED10, M_STAN_K, Standard King Mattress, 1075.5, 1195.0, 1} \n",
      "only showing top 3 rows\n",
      "\n"
     ]
    }
   ],
   "source": [
    "couponSalesDF.show(3,truncate = False,vertical=True)"
   ]
  },
  {
   "cell_type": "code",
   "execution_count": 29,
   "metadata": {
    "application/vnd.databricks.v1+cell": {
     "inputWidgets": {},
     "nuid": "e7bcd6f9-7796-4fe6-a4de-57eaca850c54",
     "showTitle": false,
     "title": ""
    }
   },
   "outputs": [],
   "source": [
    "schemaStr = str(couponSalesDF.schema)\n",
    "assert \"StructField(items,StructType(List(StructField(coupon\" in schemaStr, \"items column was not exploded\""
   ]
  },
  {
   "cell_type": "markdown",
   "metadata": {
    "application/vnd.databricks.v1+cell": {
     "inputWidgets": {},
     "nuid": "e275f571-ea02-4ebf-af97-bb1820c7b275",
     "showTitle": false,
     "title": ""
    }
   },
   "source": [
    "### 3. Escriba consulta Streaming en archivo parquet\n",
    "- Configure la consulta de estreaming a modo \"append\"\n",
    "- Asigne el nombre de \"coupon_sales\" a la consulta\n",
    "- Setee el intervalo de guardado a 1 segundo\n",
    "- Setee la localizaciòn del checkpoint a **`couponsCheckpointPath`**\n",
    "- Coloque el output path a **`couponsOutputPath`**\n",
    "\n",
    "Asigne el resultado del streaming a **`couponSalesQuery`**."
   ]
  },
  {
   "cell_type": "code",
   "execution_count": 51,
   "metadata": {
    "application/vnd.databricks.v1+cell": {
     "inputWidgets": {},
     "nuid": "b41b41df-5777-44ae-b30d-ca75e6347e68",
     "showTitle": false,
     "title": ""
    }
   },
   "outputs": [],
   "source": [
    "# TODO\n",
    "workingDir = \"../data\"\n",
    "couponsCheckpointPath = workingDir + \"/coupon-sales/checkpoint\"\n",
    "couponsOutputPath = workingDir + \"/coupon-sales/output\"\n",
    "\n",
    "couponSalesQuery = (couponSalesDF\n",
    "                    .writeStream\n",
    "                    .format(\"parquet\") #.format(\"parquet\")\n",
    "                    .option(\"checkpointLocation\",couponsCheckpointPath)\n",
    "                    .outputMode(\"append\")\n",
    "                    .start(couponsOutputPath)\n",
    ")"
   ]
  },
  {
   "cell_type": "code",
   "execution_count": 0,
   "metadata": {
    "application/vnd.databricks.v1+cell": {
     "inputWidgets": {},
     "nuid": "2872d9db-e8c2-4219-a482-c3222f491364",
     "showTitle": false,
     "title": ""
    }
   },
   "outputs": [],
   "source": [
    "untilStreamIsReady(\"coupon_sales\")\n",
    "assert couponSalesQuery.isActive\n",
    "assert len(dbutils.fs.ls(couponsOutputPath)) > 0\n",
    "assert len(dbutils.fs.ls(couponsCheckpointPath)) > 0\n",
    "assert \"coupon_sales\" in couponSalesQuery.lastProgress[\"name\"]"
   ]
  },
  {
   "cell_type": "markdown",
   "metadata": {
    "application/vnd.databricks.v1+cell": {
     "inputWidgets": {},
     "nuid": "59a1e298-9178-4073-a1cd-68ff8afd1840",
     "showTitle": false,
     "title": ""
    }
   },
   "source": [
    "### 4. Monitoree consulta streaming\n",
    "- Obtenga ID de consulta streaming\n",
    "- Obtenga el status del streaming"
   ]
  },
  {
   "cell_type": "code",
   "execution_count": 42,
   "metadata": {
    "application/vnd.databricks.v1+cell": {
     "inputWidgets": {},
     "nuid": "d2e0e069-0cf9-433d-a978-a757ca805709",
     "showTitle": false,
     "title": ""
    }
   },
   "outputs": [
    {
     "data": {
      "text/plain": [
       "'92340b59-0174-418c-9963-9a92e5f09d1e'"
      ]
     },
     "execution_count": 42,
     "metadata": {},
     "output_type": "execute_result"
    }
   ],
   "source": [
    "# TODO\n",
    "queryID = couponSalesQuery.id\n",
    "queryID"
   ]
  },
  {
   "cell_type": "code",
   "execution_count": 43,
   "metadata": {
    "application/vnd.databricks.v1+cell": {
     "inputWidgets": {},
     "nuid": "67a257a9-8343-438e-b738-3832f9b3e670",
     "showTitle": false,
     "title": ""
    }
   },
   "outputs": [
    {
     "data": {
      "text/plain": [
       "{'message': \"Terminated with exception: Option 'basePath' must be a directory\",\n",
       " 'isDataAvailable': False,\n",
       " 'isTriggerActive': False}"
      ]
     },
     "execution_count": 43,
     "metadata": {},
     "output_type": "execute_result"
    }
   ],
   "source": [
    "# TODO\n",
    "queryStatus = couponSalesQuery.status\n",
    "queryStatus"
   ]
  },
  {
   "cell_type": "code",
   "execution_count": 36,
   "metadata": {
    "application/vnd.databricks.v1+cell": {
     "inputWidgets": {},
     "nuid": "aa90d774-1eee-4553-887f-16e560d9f9a0",
     "showTitle": false,
     "title": ""
    }
   },
   "outputs": [],
   "source": [
    "assert type(queryID) == str\n",
    "assert list(queryStatus.keys()) == ['message', 'isDataAvailable', 'isTriggerActive']"
   ]
  },
  {
   "cell_type": "markdown",
   "metadata": {
    "application/vnd.databricks.v1+cell": {
     "inputWidgets": {},
     "nuid": "fe231027-31f8-472a-a835-1c7b26215902",
     "showTitle": false,
     "title": ""
    }
   },
   "source": [
    "### 5. Pare la ejecuciòn streaming\n",
    "- Pare ejecuciòn streaming"
   ]
  },
  {
   "cell_type": "code",
   "execution_count": 52,
   "metadata": {
    "application/vnd.databricks.v1+cell": {
     "inputWidgets": {},
     "nuid": "29663290-5a24-464e-80ca-4cfd1c0d7ec6",
     "showTitle": false,
     "title": ""
    }
   },
   "outputs": [],
   "source": [
    "# TODO\n",
    "couponSalesQuery.stop()"
   ]
  },
  {
   "cell_type": "code",
   "execution_count": 49,
   "metadata": {
    "application/vnd.databricks.v1+cell": {
     "inputWidgets": {},
     "nuid": "68ba3da1-8850-4c57-a764-5e41f160ac5d",
     "showTitle": false,
     "title": ""
    }
   },
   "outputs": [],
   "source": [
    "assert not couponSalesQuery.isActive"
   ]
  },
  {
   "cell_type": "markdown",
   "metadata": {
    "application/vnd.databricks.v1+cell": {
     "inputWidgets": {},
     "nuid": "b1097801-f720-4b5a-9a9b-d0ac4cdd3c9f",
     "showTitle": false,
     "title": ""
    }
   },
   "source": [
    "### 6. Verifique las filas guardadas en archivo parquet"
   ]
  },
  {
   "cell_type": "code",
   "execution_count": 0,
   "metadata": {
    "application/vnd.databricks.v1+cell": {
     "inputWidgets": {},
     "nuid": "c6275f76-3cd1-4dd0-adcb-3fb562bfcd0f",
     "showTitle": false,
     "title": ""
    }
   },
   "outputs": [],
   "source": [
    "display(spark.read.parquet(couponsOutputPath))"
   ]
  }
 ],
 "metadata": {
  "application/vnd.databricks.v1+notebook": {
   "dashboards": [],
   "language": "python",
   "notebookMetadata": {
    "pythonIndentUnit": 2
   },
   "notebookName": "Laboratorio Spark Streaming",
   "notebookOrigID": 3539616317455873,
   "widgets": {}
  },
  "kernelspec": {
   "display_name": "Python 3 (ipykernel)",
   "language": "python",
   "name": "python3"
  },
  "language_info": {
   "codemirror_mode": {
    "name": "ipython",
    "version": 3
   },
   "file_extension": ".py",
   "mimetype": "text/x-python",
   "name": "python",
   "nbconvert_exporter": "python",
   "pygments_lexer": "ipython3",
   "version": "3.8.1"
  }
 },
 "nbformat": 4,
 "nbformat_minor": 1
}
