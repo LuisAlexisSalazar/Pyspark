{
 "cells": [
  {
   "cell_type": "markdown",
   "metadata": {
    "application/vnd.databricks.v1+cell": {
     "inputWidgets": {},
     "nuid": "bb6dd0e1-35a3-44d7-ab88-8c546cdbed74",
     "showTitle": false,
     "title": ""
    },
    "id": "m1N7dUm5dq1_"
   },
   "source": [
    "# Spark SQL\n",
    "\n",
    "\n",
    "Agenda\n",
    "-------------\n",
    "1. Generacion de Vistas temporales\n",
    "1. Realizando consultas SQL\n",
    "1. Creación Base de Datos y Escritura como Tabla"
   ]
  },
  {
   "cell_type": "markdown",
   "metadata": {
    "application/vnd.databricks.v1+cell": {
     "inputWidgets": {},
     "nuid": "121cab6f-a9ed-4d25-93bf-3dfe3cd42460",
     "showTitle": false,
     "title": ""
    },
    "id": "nxiD4Jl7dq2N"
   },
   "source": [
    "- En Pyspark puedes interactuar con los datos a partir de comandos `SQL` o `DataFrame`\n",
    "- `SQL` es un lenguaje de programación fácil de comprender\n",
    "- Las operaciones utilizadas mediante SQL tambien pueden ser realizadas a partir de metodos de DataFrame"
   ]
  },
  {
   "cell_type": "code",
   "execution_count": null,
   "metadata": {
    "application/vnd.databricks.v1+cell": {
     "inputWidgets": {},
     "nuid": "62f81fc0-fa0c-403c-86ff-e08f353e30af",
     "showTitle": false,
     "title": ""
    },
    "id": "2HDwpqkhdq2P",
    "outputId": "6a0ae9a3-df17-4925-ad6b-17aca50b0e35"
   },
   "outputs": [
    {
     "data": {
      "text/plain": [
       "root\n",
       " |-- DEST_COUNTRY_NAME: string (nullable = true)\n",
       " |-- ORIGIN_COUNTRY_NAME: string (nullable = true)\n",
       " |-- count: integer (nullable = true)\n",
       "\n"
      ]
     },
     "metadata": {
      "application/vnd.databricks.v1+output": {
       "addedWidgets": {},
       "arguments": {},
       "data": "root\n |-- DEST_COUNTRY_NAME: string (nullable = true)\n |-- ORIGIN_COUNTRY_NAME: string (nullable = true)\n |-- count: integer (nullable = true)\n\n",
       "datasetInfos": [],
       "metadata": {},
       "removedWidgets": [],
       "type": "ansi"
      }
     },
     "output_type": "display_data"
    }
   ],
   "source": [
    "path = '/FileStore/2015_summary'\n",
    "options = {\n",
    "  'header': True,\n",
    "  'sep': ',',\n",
    "  'inferSchema': True\n",
    "}\n",
    "\n",
    "df = spark.read.format('csv').options(**options).load(path)\n",
    "df.printSchema()"
   ]
  },
  {
   "cell_type": "markdown",
   "metadata": {},
   "source": [
    "<h3> Creación de la Vista Temporal (Contexto de Base de Datos)</h3>"
   ]
  },
  {
   "cell_type": "code",
   "execution_count": null,
   "metadata": {
    "application/vnd.databricks.v1+cell": {
     "inputWidgets": {},
     "nuid": "fdb3f9ac-1168-4c21-afe3-313edc76a1fb",
     "showTitle": false,
     "title": ""
    },
    "id": "0FR9Obvedq2S"
   },
   "outputs": [],
   "source": [
    "# Generando vista: El parametro define el nombre de la tabla para la vista\n",
    "# https://spark.apache.org/docs/latest/api/python/reference/api/pyspark.sql.DataFrame.createOrReplaceTempView.html\n",
    "df.createOrReplaceTempView('flights') # nombre de tabla"
   ]
  },
  {
   "cell_type": "code",
   "execution_count": null,
   "metadata": {
    "application/vnd.databricks.v1+cell": {
     "inputWidgets": {},
     "nuid": "3857e9f9-7925-4c62-bcca-e7a9f1ccb3ff",
     "showTitle": false,
     "title": ""
    },
    "id": "c2QGe2SXdq2U",
    "outputId": "4afddb9f-5e49-48c8-fe7e-373d75472c9b"
   },
   "outputs": [
    {
     "data": {
      "text/html": [
       "<style scoped>\n",
       "  .table-result-container {\n",
       "    max-height: 300px;\n",
       "    overflow: auto;\n",
       "  }\n",
       "  table, th, td {\n",
       "    border: 1px solid black;\n",
       "    border-collapse: collapse;\n",
       "  }\n",
       "  th, td {\n",
       "    padding: 5px;\n",
       "  }\n",
       "  th {\n",
       "    text-align: left;\n",
       "  }\n",
       "</style><div class='table-result-container'><table class='table-result'><thead style='background-color: white'><tr><th>DEST_COUNTRY_NAME</th><th>ORIGIN_COUNTRY_NAME</th><th>count</th></tr></thead><tbody><tr><td>United States</td><td>Romania</td><td>15</td></tr><tr><td>United States</td><td>Croatia</td><td>1</td></tr><tr><td>United States</td><td>Ireland</td><td>344</td></tr><tr><td>Egypt</td><td>United States</td><td>15</td></tr><tr><td>United States</td><td>India</td><td>62</td></tr><tr><td>United States</td><td>Singapore</td><td>1</td></tr><tr><td>United States</td><td>Grenada</td><td>62</td></tr><tr><td>Costa Rica</td><td>United States</td><td>588</td></tr><tr><td>Senegal</td><td>United States</td><td>40</td></tr><tr><td>Moldova</td><td>United States</td><td>1</td></tr></tbody></table></div>"
      ]
     },
     "metadata": {
      "application/vnd.databricks.v1+output": {
       "addedWidgets": {},
       "aggData": [],
       "aggError": "",
       "aggOverflow": false,
       "aggSchema": [],
       "aggSeriesLimitReached": false,
       "aggType": "",
       "arguments": {},
       "columnCustomDisplayInfos": {},
       "data": [
        [
         "United States",
         "Romania",
         15
        ],
        [
         "United States",
         "Croatia",
         1
        ],
        [
         "United States",
         "Ireland",
         344
        ],
        [
         "Egypt",
         "United States",
         15
        ],
        [
         "United States",
         "India",
         62
        ],
        [
         "United States",
         "Singapore",
         1
        ],
        [
         "United States",
         "Grenada",
         62
        ],
        [
         "Costa Rica",
         "United States",
         588
        ],
        [
         "Senegal",
         "United States",
         40
        ],
        [
         "Moldova",
         "United States",
         1
        ]
       ],
       "datasetInfos": [],
       "dbfsResultPath": null,
       "isJsonSchema": true,
       "metadata": {
        "isDbfsCommandResult": false
       },
       "overflow": false,
       "plotOptions": {
        "customPlotOptions": {},
        "displayType": "table",
        "pivotAggregation": null,
        "pivotColumns": null,
        "xColumns": null,
        "yColumns": null
       },
       "removedWidgets": [],
       "schema": [
        {
         "metadata": "{}",
         "name": "DEST_COUNTRY_NAME",
         "type": "\"string\""
        },
        {
         "metadata": "{}",
         "name": "ORIGIN_COUNTRY_NAME",
         "type": "\"string\""
        },
        {
         "metadata": "{}",
         "name": "count",
         "type": "\"integer\""
        }
       ],
       "type": "table"
      }
     },
     "output_type": "display_data"
    }
   ],
   "source": [
    "# **Databricks permite usar comandos mágicos para realizar operaciones**\n",
    "# Usamos %sql para realizar consultas sql\n",
    "%sql\n",
    "-- Realizando consultas SQL\n",
    "\n",
    "select *\n",
    "from flights\n",
    "limit 10"
   ]
  },
  {
   "cell_type": "markdown",
   "metadata": {
    "application/vnd.databricks.v1+cell": {
     "inputWidgets": {},
     "nuid": "0fad316f-8c91-484a-8931-354e6361c077",
     "showTitle": false,
     "title": ""
    },
    "id": "cfoF4byndq2V"
   },
   "source": [
    "**Cuando no estemos usando Databricks** Realizaremos consultas de la siguiente forma"
   ]
  },
  {
   "cell_type": "code",
   "execution_count": null,
   "metadata": {
    "application/vnd.databricks.v1+cell": {
     "inputWidgets": {},
     "nuid": "01b1523c-f927-4abe-a0f8-59a65a083507",
     "showTitle": false,
     "title": ""
    },
    "id": "fpqhgBlrdq2W"
   },
   "outputs": [],
   "source": [
    "query = \"Select * from flights limit 10\"\n",
    "df_new = spark.sql(query)"
   ]
  },
  {
   "cell_type": "code",
   "execution_count": null,
   "metadata": {
    "application/vnd.databricks.v1+cell": {
     "inputWidgets": {},
     "nuid": "4cf0239c-dd4f-44b6-8e2b-978739a9a439",
     "showTitle": false,
     "title": ""
    },
    "id": "2oYWn95ndq2X",
    "outputId": "d1e8b305-5c5f-4a41-8e48-56f2708d6498"
   },
   "outputs": [
    {
     "data": {
      "text/plain": [
       "+-----------------+-------------------+-----+\n",
       "|DEST_COUNTRY_NAME|ORIGIN_COUNTRY_NAME|count|\n",
       "+-----------------+-------------------+-----+\n",
       "|    United States|            Romania|   15|\n",
       "|    United States|            Croatia|    1|\n",
       "|    United States|            Ireland|  344|\n",
       "|            Egypt|      United States|   15|\n",
       "|    United States|              India|   62|\n",
       "|    United States|          Singapore|    1|\n",
       "|    United States|            Grenada|   62|\n",
       "|       Costa Rica|      United States|  588|\n",
       "|          Senegal|      United States|   40|\n",
       "|          Moldova|      United States|    1|\n",
       "+-----------------+-------------------+-----+\n",
       "\n"
      ]
     },
     "metadata": {
      "application/vnd.databricks.v1+output": {
       "addedWidgets": {},
       "arguments": {},
       "data": "+-----------------+-------------------+-----+\n|DEST_COUNTRY_NAME|ORIGIN_COUNTRY_NAME|count|\n+-----------------+-------------------+-----+\n|    United States|            Romania|   15|\n|    United States|            Croatia|    1|\n|    United States|            Ireland|  344|\n|            Egypt|      United States|   15|\n|    United States|              India|   62|\n|    United States|          Singapore|    1|\n|    United States|            Grenada|   62|\n|       Costa Rica|      United States|  588|\n|          Senegal|      United States|   40|\n|          Moldova|      United States|    1|\n+-----------------+-------------------+-----+\n\n",
       "datasetInfos": [],
       "metadata": {},
       "removedWidgets": [],
       "type": "ansi"
      }
     },
     "output_type": "display_data"
    }
   ],
   "source": [
    "df_new.show()"
   ]
  },
  {
   "cell_type": "code",
   "execution_count": null,
   "metadata": {
    "application/vnd.databricks.v1+cell": {
     "inputWidgets": {},
     "nuid": "31536948-8797-4085-9f15-4bb19e272603",
     "showTitle": false,
     "title": ""
    },
    "id": "KA_jT86mdq2Z",
    "outputId": "d0b7c824-49f8-4c28-ff2f-2c6ad98ddf2e"
   },
   "outputs": [
    {
     "data": {
      "text/plain": [
       "+-----------------+-------------------+------+\n",
       "|DEST_COUNTRY_NAME|ORIGIN_COUNTRY_NAME| count|\n",
       "+-----------------+-------------------+------+\n",
       "|    United States|      United States|370002|\n",
       "|    United States|             Canada|  8483|\n",
       "|    United States|             Mexico|  7187|\n",
       "|   United Kingdom|      United States|  2025|\n",
       "|    United States|     United Kingdom|  1970|\n",
       "|    United States|              Japan|  1496|\n",
       "|    United States| Dominican Republic|  1420|\n",
       "|    United States|            Germany|  1336|\n",
       "|    United States|        The Bahamas|   986|\n",
       "|    United States|             France|   952|\n",
       "|    United States|              China|   920|\n",
       "|    United States|           Colombia|   867|\n",
       "|    United States|        South Korea|   827|\n",
       "|    United States|            Jamaica|   712|\n",
       "|    United States|        Netherlands|   660|\n",
       "|    United States|             Brazil|   619|\n",
       "|    United States|         Costa Rica|   608|\n",
       "|    United States|        El Salvador|   508|\n",
       "|    United States|               Cuba|   478|\n",
       "|    United States|             Panama|   465|\n",
       "+-----------------+-------------------+------+\n",
       "only showing top 20 rows\n",
       "\n"
      ]
     },
     "metadata": {
      "application/vnd.databricks.v1+output": {
       "addedWidgets": {},
       "arguments": {},
       "data": "+-----------------+-------------------+------+\n|DEST_COUNTRY_NAME|ORIGIN_COUNTRY_NAME| count|\n+-----------------+-------------------+------+\n|    United States|      United States|370002|\n|    United States|             Canada|  8483|\n|    United States|             Mexico|  7187|\n|   United Kingdom|      United States|  2025|\n|    United States|     United Kingdom|  1970|\n|    United States|              Japan|  1496|\n|    United States| Dominican Republic|  1420|\n|    United States|            Germany|  1336|\n|    United States|        The Bahamas|   986|\n|    United States|             France|   952|\n|    United States|              China|   920|\n|    United States|           Colombia|   867|\n|    United States|        South Korea|   827|\n|    United States|            Jamaica|   712|\n|    United States|        Netherlands|   660|\n|    United States|             Brazil|   619|\n|    United States|         Costa Rica|   608|\n|    United States|        El Salvador|   508|\n|    United States|               Cuba|   478|\n|    United States|             Panama|   465|\n+-----------------+-------------------+------+\nonly showing top 20 rows\n\n",
       "datasetInfos": [],
       "metadata": {},
       "removedWidgets": [],
       "type": "ansi"
      }
     },
     "output_type": "display_data"
    }
   ],
   "source": [
    "#  Se parece mas a un MySQL\n",
    "query = \"\"\"\n",
    "select  *\n",
    "from flights\n",
    "where DEST_COUNTRY_NAME like '%{country}%'\n",
    "order by count desc\n",
    "\"\"\".format(country='United')\n",
    "\n",
    "flightFilteredDf = spark.sql(query)\n",
    "flightFilteredDf.show()"
   ]
  },
  {
   "cell_type": "markdown",
   "metadata": {
    "application/vnd.databricks.v1+cell": {
     "inputWidgets": {},
     "nuid": "cffcd3df-ea55-4783-b4a8-9f6b641cba5e",
     "showTitle": false,
     "title": ""
    },
    "id": "I7S7_smXdq2a"
   },
   "source": [
    "## 3. Creación Tablas\n",
    "\n",
    "Spark nos permite trabajar con bases de datos y tablas como si se tratase de una base sql tradicional"
   ]
  },
  {
   "cell_type": "code",
   "execution_count": null,
   "metadata": {
    "application/vnd.databricks.v1+cell": {
     "inputWidgets": {},
     "nuid": "d44e148d-804b-4f15-abb4-4d86853c0bb4",
     "showTitle": false,
     "title": ""
    },
    "id": "L8XqjJBrdq2b"
   },
   "outputs": [],
   "source": [
    "def createDatabase(databaseName:str) -> str:\n",
    "  \"\"\"\n",
    "  Crea una nueva Base de Datos\n",
    "  \"\"\"\n",
    "  spark.sql(\"CREATE DATABASE IF NOT EXISTS {}\".format(databaseName))\n",
    "  spark.sql(\"USE {}\".format(databaseName))\n",
    "  return databaseName\n"
   ]
  },
  {
   "cell_type": "code",
   "execution_count": null,
   "metadata": {
    "application/vnd.databricks.v1+cell": {
     "inputWidgets": {},
     "nuid": "ec584590-df16-40e9-848e-5c28f43155e5",
     "showTitle": false,
     "title": ""
    },
    "id": "6KfCyusgdq2c",
    "outputId": "0f16283b-3efd-4b90-8b20-1a07d843eb6c"
   },
   "outputs": [
    {
     "data": {
      "text/plain": [
       "Out[10]: 'clase'"
      ]
     },
     "metadata": {
      "application/vnd.databricks.v1+output": {
       "addedWidgets": {},
       "arguments": {},
       "data": "Out[10]: 'clase'",
       "datasetInfos": [],
       "metadata": {},
       "removedWidgets": [],
       "type": "ansi"
      }
     },
     "output_type": "display_data"
    }
   ],
   "source": [
    "createDatabase('clase')"
   ]
  },
  {
   "cell_type": "markdown",
   "metadata": {
    "application/vnd.databricks.v1+cell": {
     "inputWidgets": {},
     "nuid": "f637e9e0-d784-400f-9609-bd7de5f9b219",
     "showTitle": false,
     "title": ""
    },
    "id": "rQrhL02Edq2e"
   },
   "source": [
    "<h3>Guardando DataFrame como Tabla (Persistente) </h3>"
   ]
  },
  {
   "cell_type": "code",
   "execution_count": null,
   "metadata": {
    "application/vnd.databricks.v1+cell": {
     "inputWidgets": {},
     "nuid": "9828179f-4b19-4f92-aa2d-dfc20041d818",
     "showTitle": false,
     "title": ""
    },
    "id": "diQmGiSmdq2f"
   },
   "outputs": [],
   "source": [
    "df.write.mode('overwrite').saveAsTable('flights_table')"
   ]
  },
  {
   "cell_type": "code",
   "execution_count": null,
   "metadata": {
    "application/vnd.databricks.v1+cell": {
     "inputWidgets": {},
     "nuid": "2d54e8ac-5e7f-46ce-a4a0-b9d632c4fed4",
     "showTitle": false,
     "title": ""
    },
    "id": "Aq-p0BF0dq2f",
    "outputId": "e1fc5a26-30dd-49e5-fc50-e517a1eaca9d"
   },
   "outputs": [
    {
     "data": {
      "text/plain": [
       "+--------+-------------+-----------+\n",
       "|database|    tableName|isTemporary|\n",
       "+--------+-------------+-----------+\n",
       "|   clase|flights_table|      false|\n",
       "+--------+-------------+-----------+\n",
       "\n"
      ]
     },
     "metadata": {
      "application/vnd.databricks.v1+output": {
       "addedWidgets": {},
       "arguments": {},
       "data": "+--------+-------------+-----------+\n|database|    tableName|isTemporary|\n+--------+-------------+-----------+\n|   clase|flights_table|      false|\n+--------+-------------+-----------+\n\n",
       "datasetInfos": [],
       "metadata": {},
       "removedWidgets": [],
       "type": "ansi"
      }
     },
     "output_type": "display_data"
    }
   ],
   "source": [
    "spark.sql('show tables').show()"
   ]
  },
  {
   "cell_type": "code",
   "execution_count": null,
   "metadata": {
    "application/vnd.databricks.v1+cell": {
     "inputWidgets": {},
     "nuid": "9a235877-c4a9-4c43-82b4-ab8dbc166ee6",
     "showTitle": false,
     "title": ""
    },
    "id": "Q6bnVhesdq2g",
    "outputId": "517f51d3-bcbd-4a84-8ade-8018e1835e16"
   },
   "outputs": [
    {
     "data": {
      "text/plain": [
       "Out[13]: DataFrame[]"
      ]
     },
     "metadata": {
      "application/vnd.databricks.v1+output": {
       "addedWidgets": {},
       "arguments": {},
       "data": "Out[13]: DataFrame[]",
       "datasetInfos": [],
       "metadata": {},
       "removedWidgets": [],
       "type": "ansi"
      }
     },
     "output_type": "display_data"
    }
   ],
   "source": [
    "spark.sql('DROP TABLE IF EXISTS flights')"
   ]
  },
  {
   "cell_type": "code",
   "execution_count": null,
   "metadata": {
    "application/vnd.databricks.v1+cell": {
     "inputWidgets": {},
     "nuid": "dd69dc4a-6952-4503-bfaa-c605b09571c4",
     "showTitle": false,
     "title": ""
    },
    "id": "IxtydO-Zdq2h",
    "outputId": "7908f257-8cd4-420d-e630-b4500abb42cd"
   },
   "outputs": [
    {
     "data": {
      "text/html": [
       "<style scoped>\n",
       "  .table-result-container {\n",
       "    max-height: 300px;\n",
       "    overflow: auto;\n",
       "  }\n",
       "  table, th, td {\n",
       "    border: 1px solid black;\n",
       "    border-collapse: collapse;\n",
       "  }\n",
       "  th, td {\n",
       "    padding: 5px;\n",
       "  }\n",
       "  th {\n",
       "    text-align: left;\n",
       "  }\n",
       "</style><div class='table-result-container'><table class='table-result'><thead style='background-color: white'><tr><th>DEST_COUNTRY_NAME</th><th>ORIGIN_COUNTRY_NAME</th><th>count</th></tr></thead><tbody><tr><td>United States</td><td>United States</td><td>370002</td></tr><tr><td>United States</td><td>Canada</td><td>8483</td></tr><tr><td>United States</td><td>Mexico</td><td>7187</td></tr><tr><td>United Kingdom</td><td>United States</td><td>2025</td></tr><tr><td>United States</td><td>United Kingdom</td><td>1970</td></tr><tr><td>United States</td><td>Japan</td><td>1496</td></tr><tr><td>United States</td><td>Dominican Republic</td><td>1420</td></tr><tr><td>United States</td><td>Germany</td><td>1336</td></tr><tr><td>United States</td><td>The Bahamas</td><td>986</td></tr><tr><td>United States</td><td>France</td><td>952</td></tr><tr><td>United States</td><td>China</td><td>920</td></tr><tr><td>United States</td><td>Colombia</td><td>867</td></tr><tr><td>United States</td><td>South Korea</td><td>827</td></tr><tr><td>United States</td><td>Jamaica</td><td>712</td></tr><tr><td>United States</td><td>Netherlands</td><td>660</td></tr><tr><td>United States</td><td>Brazil</td><td>619</td></tr><tr><td>United States</td><td>Costa Rica</td><td>608</td></tr><tr><td>United States</td><td>El Salvador</td><td>508</td></tr><tr><td>United States</td><td>Cuba</td><td>478</td></tr><tr><td>United States</td><td>Panama</td><td>465</td></tr><tr><td>United States</td><td>Spain</td><td>442</td></tr><tr><td>United States</td><td>Italy</td><td>438</td></tr><tr><td>United States</td><td>Hong Kong</td><td>414</td></tr><tr><td>United States</td><td>Honduras</td><td>407</td></tr><tr><td>United States</td><td>Ireland</td><td>344</td></tr><tr><td>United States</td><td>Aruba</td><td>342</td></tr><tr><td>United States</td><td>Peru</td><td>337</td></tr><tr><td>United States</td><td>Sint Maarten</td><td>325</td></tr><tr><td>United Arab Emirates</td><td>United States</td><td>320</td></tr><tr><td>United States</td><td>Guatemala</td><td>318</td></tr><tr><td>United States</td><td>United Arab Emirates</td><td>313</td></tr><tr><td>United States</td><td>Cayman Islands</td><td>310</td></tr><tr><td>United States</td><td>Switzerland</td><td>305</td></tr><tr><td>United States</td><td>Ecuador</td><td>300</td></tr><tr><td>United States</td><td>Australia</td><td>258</td></tr><tr><td>United States</td><td>Venezuela</td><td>246</td></tr><tr><td>United States</td><td>Turks and Caicos Islands</td><td>236</td></tr><tr><td>United States</td><td>Taiwan</td><td>235</td></tr><tr><td>United States</td><td>Belgium</td><td>228</td></tr><tr><td>United States</td><td>Haiti</td><td>225</td></tr><tr><td>United States</td><td>Trinidad and Tobago</td><td>217</td></tr><tr><td>United States</td><td>Iceland</td><td>202</td></tr><tr><td>United States</td><td>Nicaragua</td><td>201</td></tr><tr><td>United States</td><td>Bermuda</td><td>193</td></tr><tr><td>United States</td><td>Belize</td><td>193</td></tr><tr><td>United States</td><td>Chile</td><td>185</td></tr><tr><td>United States</td><td>Russia</td><td>161</td></tr><tr><td>United States</td><td>Denmark</td><td>152</td></tr><tr><td>United States</td><td>Saint Kitts and Nevis</td><td>145</td></tr><tr><td>United States</td><td>Argentina</td><td>141</td></tr><tr><td>United States</td><td>Saint Lucia</td><td>136</td></tr><tr><td>United States</td><td>Luxembourg</td><td>134</td></tr><tr><td>United States</td><td>Portugal</td><td>134</td></tr><tr><td>United States</td><td>Barbados</td><td>130</td></tr><tr><td>United States</td><td>Turkey</td><td>129</td></tr><tr><td>United States</td><td>Israel</td><td>127</td></tr><tr><td>United States</td><td>Philippines</td><td>126</td></tr><tr><td>United States</td><td>Sweden</td><td>119</td></tr><tr><td>United States</td><td>Antigua and Barbuda</td><td>117</td></tr><tr><td>United States</td><td>Norway</td><td>115</td></tr><tr><td>United States</td><td>Qatar</td><td>109</td></tr><tr><td>United States</td><td>Curacao</td><td>83</td></tr><tr><td>United States</td><td>British Virgin Islands</td><td>80</td></tr><tr><td>United States</td><td>New Zealand</td><td>74</td></tr><tr><td>United States</td><td>Saudi Arabia</td><td>70</td></tr><tr><td>United States</td><td>Federated States of Micronesia</td><td>69</td></tr><tr><td>United States</td><td>Austria</td><td>63</td></tr><tr><td>United States</td><td>Guyana</td><td>63</td></tr><tr><td>United States</td><td>India</td><td>62</td></tr><tr><td>United States</td><td>Grenada</td><td>62</td></tr><tr><td>United States</td><td>Bonaire, Sint Eustatius, and Saba</td><td>59</td></tr><tr><td>United States</td><td>Guadeloupe</td><td>59</td></tr><tr><td>United States</td><td>Nigeria</td><td>50</td></tr><tr><td>United States</td><td>Jordan</td><td>44</td></tr><tr><td>United States</td><td>Martinique</td><td>43</td></tr><tr><td>United States</td><td>Senegal</td><td>42</td></tr><tr><td>United States</td><td>Saint Barthelemy</td><td>41</td></tr><tr><td>United States</td><td>South Africa</td><td>40</td></tr><tr><td>United States</td><td>French Polynesia</td><td>40</td></tr><tr><td>United States</td><td>Marshall Islands</td><td>39</td></tr><tr><td>United States</td><td>Anguilla</td><td>38</td></tr><tr><td>United States</td><td>Kiribati</td><td>35</td></tr><tr><td>United States</td><td>Suriname</td><td>34</td></tr><tr><td>United States</td><td>Poland</td><td>33</td></tr><tr><td>United States</td><td>Palau</td><td>31</td></tr><tr><td>United States</td><td>Finland</td><td>28</td></tr><tr><td>United States</td><td>Kuwait</td><td>28</td></tr><tr><td>United States</td><td>Dominica</td><td>27</td></tr><tr><td>United States</td><td>Samoa</td><td>25</td></tr><tr><td>United States</td><td>Fiji</td><td>25</td></tr><tr><td>United States</td><td>Greece</td><td>23</td></tr><tr><td>United States</td><td>Azerbaijan</td><td>21</td></tr><tr><td>United States</td><td>Ghana</td><td>20</td></tr><tr><td>United States</td><td>Morocco</td><td>19</td></tr><tr><td>United States</td><td>Latvia</td><td>15</td></tr><tr><td>United States</td><td>Romania</td><td>15</td></tr><tr><td>United States</td><td>Cape Verde</td><td>14</td></tr><tr><td>United States</td><td>Cook Islands</td><td>13</td></tr><tr><td>United States</td><td>Uruguay</td><td>13</td></tr><tr><td>United States</td><td>Bolivia</td><td>13</td></tr><tr><td>United States</td><td>Angola</td><td>13</td></tr><tr><td>United States</td><td>Ukraine</td><td>13</td></tr><tr><td>United States</td><td>Czech Republic</td><td>12</td></tr><tr><td>United States</td><td>Pakistan</td><td>12</td></tr><tr><td>United States</td><td>Egypt</td><td>12</td></tr><tr><td>United States</td><td>Ethiopia</td><td>12</td></tr><tr><td>United States</td><td>Paraguay</td><td>6</td></tr><tr><td>United States</td><td>Thailand</td><td>4</td></tr><tr><td>United States</td><td>Greenland</td><td>4</td></tr><tr><td>United States</td><td>Malaysia</td><td>3</td></tr><tr><td>United States</td><td>Hungary</td><td>3</td></tr><tr><td>United States</td><td>Vietnam</td><td>2</td></tr><tr><td>United States</td><td>Indonesia</td><td>2</td></tr><tr><td>United States</td><td>Liberia</td><td>2</td></tr><tr><td>United States</td><td>Malta</td><td>2</td></tr><tr><td>United States</td><td>Croatia</td><td>1</td></tr><tr><td>United States</td><td>Singapore</td><td>1</td></tr><tr><td>United States</td><td>Gibraltar</td><td>1</td></tr><tr><td>United States</td><td>Cyprus</td><td>1</td></tr><tr><td>United States</td><td>Estonia</td><td>1</td></tr><tr><td>United States</td><td>Lithuania</td><td>1</td></tr><tr><td>United States</td><td>Bahrain</td><td>1</td></tr><tr><td>United States</td><td>Bulgaria</td><td>1</td></tr><tr><td>United States</td><td>Papua New Guinea</td><td>1</td></tr><tr><td>United States</td><td>Montenegro</td><td>1</td></tr><tr><td>United States</td><td>Georgia</td><td>1</td></tr><tr><td>United States</td><td>Namibia</td><td>1</td></tr></tbody></table></div>"
      ]
     },
     "metadata": {
      "application/vnd.databricks.v1+output": {
       "addedWidgets": {},
       "aggData": [],
       "aggError": "",
       "aggOverflow": false,
       "aggSchema": [],
       "aggSeriesLimitReached": false,
       "aggType": "",
       "arguments": {},
       "columnCustomDisplayInfos": {},
       "data": [
        [
         "United States",
         "United States",
         370002
        ],
        [
         "United States",
         "Canada",
         8483
        ],
        [
         "United States",
         "Mexico",
         7187
        ],
        [
         "United Kingdom",
         "United States",
         2025
        ],
        [
         "United States",
         "United Kingdom",
         1970
        ],
        [
         "United States",
         "Japan",
         1496
        ],
        [
         "United States",
         "Dominican Republic",
         1420
        ],
        [
         "United States",
         "Germany",
         1336
        ],
        [
         "United States",
         "The Bahamas",
         986
        ],
        [
         "United States",
         "France",
         952
        ],
        [
         "United States",
         "China",
         920
        ],
        [
         "United States",
         "Colombia",
         867
        ],
        [
         "United States",
         "South Korea",
         827
        ],
        [
         "United States",
         "Jamaica",
         712
        ],
        [
         "United States",
         "Netherlands",
         660
        ],
        [
         "United States",
         "Brazil",
         619
        ],
        [
         "United States",
         "Costa Rica",
         608
        ],
        [
         "United States",
         "El Salvador",
         508
        ],
        [
         "United States",
         "Cuba",
         478
        ],
        [
         "United States",
         "Panama",
         465
        ],
        [
         "United States",
         "Spain",
         442
        ],
        [
         "United States",
         "Italy",
         438
        ],
        [
         "United States",
         "Hong Kong",
         414
        ],
        [
         "United States",
         "Honduras",
         407
        ],
        [
         "United States",
         "Ireland",
         344
        ],
        [
         "United States",
         "Aruba",
         342
        ],
        [
         "United States",
         "Peru",
         337
        ],
        [
         "United States",
         "Sint Maarten",
         325
        ],
        [
         "United Arab Emirates",
         "United States",
         320
        ],
        [
         "United States",
         "Guatemala",
         318
        ],
        [
         "United States",
         "United Arab Emirates",
         313
        ],
        [
         "United States",
         "Cayman Islands",
         310
        ],
        [
         "United States",
         "Switzerland",
         305
        ],
        [
         "United States",
         "Ecuador",
         300
        ],
        [
         "United States",
         "Australia",
         258
        ],
        [
         "United States",
         "Venezuela",
         246
        ],
        [
         "United States",
         "Turks and Caicos Islands",
         236
        ],
        [
         "United States",
         "Taiwan",
         235
        ],
        [
         "United States",
         "Belgium",
         228
        ],
        [
         "United States",
         "Haiti",
         225
        ],
        [
         "United States",
         "Trinidad and Tobago",
         217
        ],
        [
         "United States",
         "Iceland",
         202
        ],
        [
         "United States",
         "Nicaragua",
         201
        ],
        [
         "United States",
         "Bermuda",
         193
        ],
        [
         "United States",
         "Belize",
         193
        ],
        [
         "United States",
         "Chile",
         185
        ],
        [
         "United States",
         "Russia",
         161
        ],
        [
         "United States",
         "Denmark",
         152
        ],
        [
         "United States",
         "Saint Kitts and Nevis",
         145
        ],
        [
         "United States",
         "Argentina",
         141
        ],
        [
         "United States",
         "Saint Lucia",
         136
        ],
        [
         "United States",
         "Luxembourg",
         134
        ],
        [
         "United States",
         "Portugal",
         134
        ],
        [
         "United States",
         "Barbados",
         130
        ],
        [
         "United States",
         "Turkey",
         129
        ],
        [
         "United States",
         "Israel",
         127
        ],
        [
         "United States",
         "Philippines",
         126
        ],
        [
         "United States",
         "Sweden",
         119
        ],
        [
         "United States",
         "Antigua and Barbuda",
         117
        ],
        [
         "United States",
         "Norway",
         115
        ],
        [
         "United States",
         "Qatar",
         109
        ],
        [
         "United States",
         "Curacao",
         83
        ],
        [
         "United States",
         "British Virgin Islands",
         80
        ],
        [
         "United States",
         "New Zealand",
         74
        ],
        [
         "United States",
         "Saudi Arabia",
         70
        ],
        [
         "United States",
         "Federated States of Micronesia",
         69
        ],
        [
         "United States",
         "Austria",
         63
        ],
        [
         "United States",
         "Guyana",
         63
        ],
        [
         "United States",
         "India",
         62
        ],
        [
         "United States",
         "Grenada",
         62
        ],
        [
         "United States",
         "Bonaire, Sint Eustatius, and Saba",
         59
        ],
        [
         "United States",
         "Guadeloupe",
         59
        ],
        [
         "United States",
         "Nigeria",
         50
        ],
        [
         "United States",
         "Jordan",
         44
        ],
        [
         "United States",
         "Martinique",
         43
        ],
        [
         "United States",
         "Senegal",
         42
        ],
        [
         "United States",
         "Saint Barthelemy",
         41
        ],
        [
         "United States",
         "South Africa",
         40
        ],
        [
         "United States",
         "French Polynesia",
         40
        ],
        [
         "United States",
         "Marshall Islands",
         39
        ],
        [
         "United States",
         "Anguilla",
         38
        ],
        [
         "United States",
         "Kiribati",
         35
        ],
        [
         "United States",
         "Suriname",
         34
        ],
        [
         "United States",
         "Poland",
         33
        ],
        [
         "United States",
         "Palau",
         31
        ],
        [
         "United States",
         "Finland",
         28
        ],
        [
         "United States",
         "Kuwait",
         28
        ],
        [
         "United States",
         "Dominica",
         27
        ],
        [
         "United States",
         "Samoa",
         25
        ],
        [
         "United States",
         "Fiji",
         25
        ],
        [
         "United States",
         "Greece",
         23
        ],
        [
         "United States",
         "Azerbaijan",
         21
        ],
        [
         "United States",
         "Ghana",
         20
        ],
        [
         "United States",
         "Morocco",
         19
        ],
        [
         "United States",
         "Latvia",
         15
        ],
        [
         "United States",
         "Romania",
         15
        ],
        [
         "United States",
         "Cape Verde",
         14
        ],
        [
         "United States",
         "Cook Islands",
         13
        ],
        [
         "United States",
         "Uruguay",
         13
        ],
        [
         "United States",
         "Bolivia",
         13
        ],
        [
         "United States",
         "Angola",
         13
        ],
        [
         "United States",
         "Ukraine",
         13
        ],
        [
         "United States",
         "Czech Republic",
         12
        ],
        [
         "United States",
         "Pakistan",
         12
        ],
        [
         "United States",
         "Egypt",
         12
        ],
        [
         "United States",
         "Ethiopia",
         12
        ],
        [
         "United States",
         "Paraguay",
         6
        ],
        [
         "United States",
         "Thailand",
         4
        ],
        [
         "United States",
         "Greenland",
         4
        ],
        [
         "United States",
         "Malaysia",
         3
        ],
        [
         "United States",
         "Hungary",
         3
        ],
        [
         "United States",
         "Vietnam",
         2
        ],
        [
         "United States",
         "Indonesia",
         2
        ],
        [
         "United States",
         "Liberia",
         2
        ],
        [
         "United States",
         "Malta",
         2
        ],
        [
         "United States",
         "Croatia",
         1
        ],
        [
         "United States",
         "Singapore",
         1
        ],
        [
         "United States",
         "Gibraltar",
         1
        ],
        [
         "United States",
         "Cyprus",
         1
        ],
        [
         "United States",
         "Estonia",
         1
        ],
        [
         "United States",
         "Lithuania",
         1
        ],
        [
         "United States",
         "Bahrain",
         1
        ],
        [
         "United States",
         "Bulgaria",
         1
        ],
        [
         "United States",
         "Papua New Guinea",
         1
        ],
        [
         "United States",
         "Montenegro",
         1
        ],
        [
         "United States",
         "Georgia",
         1
        ],
        [
         "United States",
         "Namibia",
         1
        ]
       ],
       "datasetInfos": [],
       "dbfsResultPath": null,
       "isJsonSchema": true,
       "metadata": {
        "isDbfsCommandResult": false
       },
       "overflow": false,
       "plotOptions": {
        "customPlotOptions": {},
        "displayType": "table",
        "pivotAggregation": null,
        "pivotColumns": null,
        "xColumns": null,
        "yColumns": null
       },
       "removedWidgets": [],
       "schema": [
        {
         "metadata": "{}",
         "name": "DEST_COUNTRY_NAME",
         "type": "\"string\""
        },
        {
         "metadata": "{}",
         "name": "ORIGIN_COUNTRY_NAME",
         "type": "\"string\""
        },
        {
         "metadata": "{}",
         "name": "count",
         "type": "\"integer\""
        }
       ],
       "type": "table"
      }
     },
     "output_type": "display_data"
    }
   ],
   "source": [
    "%sql\n",
    "\n",
    "select *\n",
    "from flights\n",
    "where DEST_COUNTRY_NAME like 'United%'\n",
    "order by count desc\n"
   ]
  },
  {
   "cell_type": "markdown",
   "metadata": {
    "application/vnd.databricks.v1+cell": {
     "inputWidgets": {},
     "nuid": "b10fac6a-de99-48ca-8686-9bc87f01849f",
     "showTitle": false,
     "title": ""
    },
    "id": "29_szxzkdq2i"
   },
   "source": [
    "# LABORATORIO SQL\n",
    "\n",
    "El fichero **titanic.csv** contiene información sobre los pasajeros del Titanic. \n",
    "\n",
    "Escribir un programa con los siguientes requisitos:\n",
    "\n",
    "1. Generar un DataFrame con los datos del fichero.\n",
    "2. Mostrar por pantalla las dimensiones del DataFrame, el número de datos que contiene, los nombres de sus columnas y filas, los tipos de datos de las columnas, las primeras filas del DataFrame\n",
    "3. Mostrar por pantalla los datos del pasajero con identificador 148.\n",
    "5. Mostrar por pantalla los nombres de las personas que iban en primera clase ordenadas alfabéticamente.\n",
    "6. Mostrar por pantalla el porcentaje de personas que sobrevivieron y murieron.\n",
    "7. Mostrar por pantalla el porcentaje de personas que sobrevivieron en cada clase.\n",
    "8. Eliminar del DataFrame los pasajeros con edad desconocida.\n",
    "9. Mostrar por pantalla la edad media de las mujeres que viajaban en cada clase.\n",
    "10. Añadir una nueva columna booleana para ver si el pasajero era menor de edad o no.\n",
    "11. Mostrar por pantalla el porcentaje de menores y mayores de edad que sobrevivieron en cada clase."
   ]
  },
  {
   "cell_type": "code",
   "execution_count": null,
   "metadata": {
    "application/vnd.databricks.v1+cell": {
     "inputWidgets": {},
     "nuid": "50512654-0b24-445d-9df6-2c689ad562cf",
     "showTitle": false,
     "title": ""
    },
    "id": "LeLTzjSKdq2j",
    "outputId": "41999775-85ee-4dd5-fbb2-864d7dfafa7f"
   },
   "outputs": [
    {
     "data": {
      "text/plain": [
       "+-----------+--------+------+---------------------------------------------------+------+----+-----+-----+----------------+-------+-----+--------+\n",
       "|PassengerId|Survived|Pclass|Name                                               |Sex   |Age |SibSp|Parch|Ticket          |Fare   |Cabin|Embarked|\n",
       "+-----------+--------+------+---------------------------------------------------+------+----+-----+-----+----------------+-------+-----+--------+\n",
       "|1          |0       |3     |Braund, Mr. Owen Harris                            |male  |22.0|1    |0    |A/5 21171       |7.25   |null |S       |\n",
       "|2          |1       |1     |Cumings, Mrs. John Bradley (Florence Briggs Thayer)|female|38.0|1    |0    |PC 17599        |71.2833|C85  |C       |\n",
       "|3          |1       |3     |Heikkinen, Miss. Laina                             |female|26.0|0    |0    |STON/O2. 3101282|7.925  |null |S       |\n",
       "+-----------+--------+------+---------------------------------------------------+------+----+-----+-----+----------------+-------+-----+--------+\n",
       "only showing top 3 rows\n",
       "\n"
      ]
     },
     "metadata": {
      "application/vnd.databricks.v1+output": {
       "addedWidgets": {},
       "arguments": {},
       "data": "+-----------+--------+------+---------------------------------------------------+------+----+-----+-----+----------------+-------+-----+--------+\n|PassengerId|Survived|Pclass|Name                                               |Sex   |Age |SibSp|Parch|Ticket          |Fare   |Cabin|Embarked|\n+-----------+--------+------+---------------------------------------------------+------+----+-----+-----+----------------+-------+-----+--------+\n|1          |0       |3     |Braund, Mr. Owen Harris                            |male  |22.0|1    |0    |A/5 21171       |7.25   |null |S       |\n|2          |1       |1     |Cumings, Mrs. John Bradley (Florence Briggs Thayer)|female|38.0|1    |0    |PC 17599        |71.2833|C85  |C       |\n|3          |1       |3     |Heikkinen, Miss. Laina                             |female|26.0|0    |0    |STON/O2. 3101282|7.925  |null |S       |\n+-----------+--------+------+---------------------------------------------------+------+----+-----+-----+----------------+-------+-----+--------+\nonly showing top 3 rows\n\n",
       "datasetInfos": [],
       "metadata": {},
       "removedWidgets": [],
       "type": "ansi"
      }
     },
     "output_type": "display_data"
    }
   ],
   "source": [
    "path = '/FileStore/titanic.csv'\n",
    "\n",
    "options = {\n",
    "  'header': True,\n",
    "  'sep': ',',\n",
    "  'inferSchema':True,\n",
    "  'quote': '\"'\n",
    "}\n",
    "\n",
    "df = spark.read.format('csv').options(**options).load(path)\n",
    "# df = spark.read.format('csv',load=path,header=True,inferSchema=True)\n",
    "df.show(3, False)"
   ]
  },
  {
   "cell_type": "code",
   "execution_count": null,
   "metadata": {
    "application/vnd.databricks.v1+cell": {
     "inputWidgets": {},
     "nuid": "7b1df375-a498-497d-a277-3e7adf889bc1",
     "showTitle": false,
     "title": ""
    },
    "id": "J-Z0R3nbdq2k",
    "outputId": "343f739b-2596-4bfb-e5d8-512d931354e1"
   },
   "outputs": [
    {
     "data": {
      "text/plain": [
       "root\n",
       " |-- PassengerId: integer (nullable = true)\n",
       " |-- Survived: integer (nullable = true)\n",
       " |-- Pclass: integer (nullable = true)\n",
       " |-- Name: string (nullable = true)\n",
       " |-- Sex: string (nullable = true)\n",
       " |-- Age: double (nullable = true)\n",
       " |-- SibSp: integer (nullable = true)\n",
       " |-- Parch: integer (nullable = true)\n",
       " |-- Ticket: string (nullable = true)\n",
       " |-- Fare: double (nullable = true)\n",
       " |-- Cabin: string (nullable = true)\n",
       " |-- Embarked: string (nullable = true)\n",
       "\n"
      ]
     },
     "metadata": {
      "application/vnd.databricks.v1+output": {
       "addedWidgets": {},
       "arguments": {},
       "data": "root\n |-- PassengerId: integer (nullable = true)\n |-- Survived: integer (nullable = true)\n |-- Pclass: integer (nullable = true)\n |-- Name: string (nullable = true)\n |-- Sex: string (nullable = true)\n |-- Age: double (nullable = true)\n |-- SibSp: integer (nullable = true)\n |-- Parch: integer (nullable = true)\n |-- Ticket: string (nullable = true)\n |-- Fare: double (nullable = true)\n |-- Cabin: string (nullable = true)\n |-- Embarked: string (nullable = true)\n\n",
       "datasetInfos": [],
       "metadata": {},
       "removedWidgets": [],
       "type": "ansi"
      }
     },
     "output_type": "display_data"
    }
   ],
   "source": [
    "df.printSchema()"
   ]
  },
  {
   "cell_type": "code",
   "execution_count": null,
   "metadata": {
    "application/vnd.databricks.v1+cell": {
     "inputWidgets": {},
     "nuid": "0a6d04c2-1f0e-4307-bb74-02a8c074f01c",
     "showTitle": false,
     "title": ""
    },
    "id": "5bvsFbR6dq2k",
    "outputId": "2f1b3036-59b6-4c06-9145-fec177eaa5e0"
   },
   "outputs": [
    {
     "data": {
      "text/plain": [
       "Out[18]: 891"
      ]
     },
     "metadata": {
      "application/vnd.databricks.v1+output": {
       "addedWidgets": {},
       "arguments": {},
       "data": "Out[18]: 891",
       "datasetInfos": [],
       "metadata": {},
       "removedWidgets": [],
       "type": "ansi"
      }
     },
     "output_type": "display_data"
    }
   ],
   "source": [
    "df.count()"
   ]
  },
  {
   "cell_type": "code",
   "execution_count": null,
   "metadata": {
    "application/vnd.databricks.v1+cell": {
     "inputWidgets": {},
     "nuid": "da830bac-af94-47a0-bf27-04f5446d63c3",
     "showTitle": false,
     "title": ""
    },
    "id": "t4Y0aps1dq2k"
   },
   "outputs": [],
   "source": [
    "df.createOrReplaceTempView('titanic')"
   ]
  },
  {
   "cell_type": "code",
   "execution_count": null,
   "metadata": {
    "application/vnd.databricks.v1+cell": {
     "inputWidgets": {},
     "nuid": "d558bff3-15d8-41c6-9c96-6ca272f6aec2",
     "showTitle": false,
     "title": ""
    },
    "id": "di65bUvQdq2l",
    "outputId": "30b81ee4-4b26-4004-c34c-dc3f17e2ed39"
   },
   "outputs": [
    {
     "data": {
      "text/html": [
       "<style scoped>\n",
       "  .table-result-container {\n",
       "    max-height: 300px;\n",
       "    overflow: auto;\n",
       "  }\n",
       "  table, th, td {\n",
       "    border: 1px solid black;\n",
       "    border-collapse: collapse;\n",
       "  }\n",
       "  th, td {\n",
       "    padding: 5px;\n",
       "  }\n",
       "  th {\n",
       "    text-align: left;\n",
       "  }\n",
       "</style><div class='table-result-container'><table class='table-result'><thead style='background-color: white'><tr><th>PassengerId</th><th>Survived</th><th>Pclass</th><th>Name</th><th>Sex</th><th>Age</th><th>SibSp</th><th>Parch</th><th>Ticket</th><th>Fare</th><th>Cabin</th><th>Embarked</th></tr></thead><tbody><tr><td>148</td><td>0</td><td>3</td><td>\"Ford, Miss. Robina Maggie \"\"Ruby\"\"\"</td><td>female</td><td>9.0</td><td>2</td><td>2</td><td>W./C. 6608</td><td>34.375</td><td>null</td><td>S</td></tr></tbody></table></div>"
      ]
     },
     "metadata": {
      "application/vnd.databricks.v1+output": {
       "addedWidgets": {},
       "aggData": [],
       "aggError": "",
       "aggOverflow": false,
       "aggSchema": [],
       "aggSeriesLimitReached": false,
       "aggType": "",
       "arguments": {},
       "columnCustomDisplayInfos": {},
       "data": [
        [
         148,
         0,
         3,
         "\"Ford, Miss. Robina Maggie \"\"Ruby\"\"\"",
         "female",
         9,
         2,
         2,
         "W./C. 6608",
         34.375,
         null,
         "S"
        ]
       ],
       "datasetInfos": [],
       "dbfsResultPath": null,
       "isJsonSchema": true,
       "metadata": {
        "isDbfsCommandResult": false
       },
       "overflow": false,
       "plotOptions": {
        "customPlotOptions": {},
        "displayType": "table",
        "pivotAggregation": null,
        "pivotColumns": null,
        "xColumns": null,
        "yColumns": null
       },
       "removedWidgets": [],
       "schema": [
        {
         "metadata": "{}",
         "name": "PassengerId",
         "type": "\"integer\""
        },
        {
         "metadata": "{}",
         "name": "Survived",
         "type": "\"integer\""
        },
        {
         "metadata": "{}",
         "name": "Pclass",
         "type": "\"integer\""
        },
        {
         "metadata": "{}",
         "name": "Name",
         "type": "\"string\""
        },
        {
         "metadata": "{}",
         "name": "Sex",
         "type": "\"string\""
        },
        {
         "metadata": "{}",
         "name": "Age",
         "type": "\"double\""
        },
        {
         "metadata": "{}",
         "name": "SibSp",
         "type": "\"integer\""
        },
        {
         "metadata": "{}",
         "name": "Parch",
         "type": "\"integer\""
        },
        {
         "metadata": "{}",
         "name": "Ticket",
         "type": "\"string\""
        },
        {
         "metadata": "{}",
         "name": "Fare",
         "type": "\"double\""
        },
        {
         "metadata": "{}",
         "name": "Cabin",
         "type": "\"string\""
        },
        {
         "metadata": "{}",
         "name": "Embarked",
         "type": "\"string\""
        }
       ],
       "type": "table"
      }
     },
     "output_type": "display_data"
    }
   ],
   "source": [
    "%sql\n",
    "-- 3. Mostrar por pantalla los datos del pasajero con identificador 148.\n",
    "\n",
    "select *\n",
    "from titanic\n",
    "where PassengerId = 148\n",
    "\n"
   ]
  },
  {
   "cell_type": "code",
   "execution_count": null,
   "metadata": {
    "application/vnd.databricks.v1+cell": {
     "inputWidgets": {},
     "nuid": "caeef68b-2c3e-4d39-bd05-a0a5971d4bb4",
     "showTitle": false,
     "title": ""
    },
    "id": "249tymbQdq2l",
    "outputId": "faec7ccc-1816-49a3-e99b-d7715441ed73"
   },
   "outputs": [
    {
     "data": {
      "text/html": [
       "<style scoped>\n",
       "  .table-result-container {\n",
       "    max-height: 300px;\n",
       "    overflow: auto;\n",
       "  }\n",
       "  table, th, td {\n",
       "    border: 1px solid black;\n",
       "    border-collapse: collapse;\n",
       "  }\n",
       "  th, td {\n",
       "    padding: 5px;\n",
       "  }\n",
       "  th {\n",
       "    text-align: left;\n",
       "  }\n",
       "</style><div class='table-result-container'><table class='table-result'><thead style='background-color: white'><tr><th>name</th></tr></thead><tbody><tr><td>\"Barber, Miss. Ellen \"\"Nellie\"\"\"</td></tr><tr><td>\"Bradley, Mr. George (\"\"George Arthur Brayton\"\")\"</td></tr><tr><td>\"Duff Gordon, Lady. (Lucille Christiana Sutherland) (\"\"Mrs Morgan\"\")\"</td></tr><tr><td>\"Duff Gordon, Sir. Cosmo Edmund (\"\"Mr Morgan\"\")\"</td></tr><tr><td>\"Flynn, Mr. John Irwin (\"\"Irving\"\")\"</td></tr><tr><td>\"Homer, Mr. Harry (\"\"Mr E Haven\"\")\"</td></tr><tr><td>\"Mayne, Mlle. Berthe Antonine (\"\"Mrs de Villiers\"\")\"</td></tr><tr><td>\"Romaine, Mr. Charles Hallace (\"\"Mr C Rolmane\"\")\"</td></tr><tr><td>\"Ryerson, Miss. Susan Parker \"\"Suzette\"\"\"</td></tr><tr><td>Allen, Miss. Elisabeth Walton</td></tr><tr><td>Allison, Master. Hudson Trevor</td></tr><tr><td>Allison, Miss. Helen Loraine</td></tr><tr><td>Allison, Mrs. Hudson J C (Bessie Waldo Daniels)</td></tr><tr><td>Anderson, Mr. Harry</td></tr><tr><td>Andrews, Miss. Kornelia Theodosia</td></tr><tr><td>Andrews, Mr. Thomas Jr</td></tr><tr><td>Appleton, Mrs. Edward Dale (Charlotte Lamson)</td></tr><tr><td>Artagaveytia, Mr. Ramon</td></tr><tr><td>Astor, Mrs. John Jacob (Madeleine Talmadge Force)</td></tr><tr><td>Aubart, Mme. Leontine Pauline</td></tr><tr><td>Barkworth, Mr. Algernon Henry Wilson</td></tr><tr><td>Baumann, Mr. John D</td></tr><tr><td>Baxter, Mr. Quigg Edmond</td></tr><tr><td>Baxter, Mrs. James (Helene DeLaudeniere Chaput)</td></tr><tr><td>Bazzani, Miss. Albina</td></tr><tr><td>Beckwith, Mr. Richard Leonard</td></tr><tr><td>Beckwith, Mrs. Richard Leonard (Sallie Monypeny)</td></tr><tr><td>Behr, Mr. Karl Howell</td></tr><tr><td>Bidois, Miss. Rosalie</td></tr><tr><td>Bishop, Mr. Dickinson H</td></tr><tr><td>Bishop, Mrs. Dickinson H (Helen Walton)</td></tr><tr><td>Bissette, Miss. Amelia</td></tr><tr><td>Bjornstrom-Steffansson, Mr. Mauritz Hakan</td></tr><tr><td>Blackwell, Mr. Stephen Weart</td></tr><tr><td>Blank, Mr. Henry</td></tr><tr><td>Bonnell, Miss. Elizabeth</td></tr><tr><td>Bowerman, Miss. Elsie Edith</td></tr><tr><td>Brewe, Dr. Arthur Jackson</td></tr><tr><td>Brown, Mrs. James Joseph (Margaret Tobin)</td></tr><tr><td>Burns, Miss. Elizabeth Margaret</td></tr><tr><td>Butt, Major. Archibald Willingham</td></tr><tr><td>Cairns, Mr. Alexander</td></tr><tr><td>Calderhead, Mr. Edward Pennington</td></tr><tr><td>Cardeza, Mr. Thomas Drake Martinez</td></tr><tr><td>Carlsson, Mr. Frans Olof</td></tr><tr><td>Carrau, Mr. Francisco M</td></tr><tr><td>Carter, Master. William Thornton II</td></tr><tr><td>Carter, Miss. Lucile Polk</td></tr><tr><td>Carter, Mr. William Ernest</td></tr><tr><td>Carter, Mrs. William Ernest (Lucile Polk)</td></tr><tr><td>Cavendish, Mr. Tyrell William</td></tr><tr><td>Chaffee, Mr. Herbert Fuller</td></tr><tr><td>Chambers, Mr. Norman Campbell</td></tr><tr><td>Chambers, Mrs. Norman Campbell (Bertha Griggs)</td></tr><tr><td>Cherry, Miss. Gladys</td></tr><tr><td>Chibnall, Mrs. (Edith Martha Bowerman)</td></tr><tr><td>Cleaver, Miss. Alice</td></tr><tr><td>Clifford, Mr. George Quincy</td></tr><tr><td>Colley, Mr. Edward Pomeroy</td></tr><tr><td>Compton, Miss. Sara Rebecca</td></tr><tr><td>Crosby, Capt. Edward Gifford</td></tr><tr><td>Crosby, Miss. Harriet R</td></tr><tr><td>Cumings, Mrs. John Bradley (Florence Briggs Thayer)</td></tr><tr><td>Daly, Mr. Peter Denis </td></tr><tr><td>Daniel, Mr. Robert Williams</td></tr><tr><td>Davidson, Mr. Thornton</td></tr><tr><td>Dick, Mr. Albert Adrian</td></tr><tr><td>Dick, Mrs. Albert Adrian (Vera Gillespie)</td></tr><tr><td>Dodge, Master. Washington</td></tr><tr><td>Douglas, Mr. Walter Donald</td></tr><tr><td>Endres, Miss. Caroline Louise</td></tr><tr><td>Eustis, Miss. Elizabeth Mussey</td></tr><tr><td>Farthing, Mr. John</td></tr><tr><td>Fleming, Miss. Margaret</td></tr><tr><td>Foreman, Mr. Benjamin Laventall</td></tr><tr><td>Fortune, Miss. Alice Elizabeth</td></tr><tr><td>Fortune, Miss. Mabel Helen</td></tr><tr><td>Fortune, Mr. Charles Alexander</td></tr><tr><td>Fortune, Mr. Mark</td></tr><tr><td>Francatelli, Miss. Laura Mabel</td></tr><tr><td>Frauenthal, Dr. Henry William</td></tr><tr><td>Frauenthal, Mrs. Henry William (Clara Heinsheimer)</td></tr><tr><td>Frolicher, Miss. Hedwig Margaritha</td></tr><tr><td>Frolicher-Stehli, Mr. Maxmillian</td></tr><tr><td>Fry, Mr. Richard</td></tr><tr><td>Futrelle, Mr. Jacques Heath</td></tr><tr><td>Futrelle, Mrs. Jacques Heath (Lily May Peel)</td></tr><tr><td>Gee, Mr. Arthur H</td></tr><tr><td>Giglio, Mr. Victor</td></tr><tr><td>Goldenberg, Mr. Samuel L</td></tr><tr><td>Goldenberg, Mrs. Samuel L (Edwiga Grabowska)</td></tr><tr><td>Goldschmidt, Mr. George B</td></tr><tr><td>Graham, Miss. Margaret Edith</td></tr><tr><td>Graham, Mr. George Edward</td></tr><tr><td>Graham, Mrs. William Thompson (Edith Junkins)</td></tr><tr><td>Greenfield, Mr. William Bertram</td></tr><tr><td>Guggenheim, Mr. Benjamin</td></tr><tr><td>Harder, Mr. George Achilles</td></tr><tr><td>Harper, Mr. Henry Sleeper</td></tr><tr><td>Harper, Mrs. Henry Sleeper (Myna Haxtun)</td></tr><tr><td>Harrington, Mr. Charles H</td></tr><tr><td>Harris, Mr. Henry Birkhardt</td></tr><tr><td>Harris, Mrs. Henry Birkhardt (Irene Wallach)</td></tr><tr><td>Harrison, Mr. William</td></tr><tr><td>Hassab, Mr. Hammad</td></tr><tr><td>Hawksford, Mr. Walter James</td></tr><tr><td>Hays, Miss. Margaret Bechstein</td></tr><tr><td>Hays, Mrs. Charles Melville (Clara Jennings Gregg)</td></tr><tr><td>Hippach, Miss. Jean Gertrude</td></tr><tr><td>Hippach, Mrs. Louis Albert (Ida Sophia Fischer)</td></tr><tr><td>Hogeboom, Mrs. John C (Anna Andrews)</td></tr><tr><td>Holverson, Mr. Alexander Oskar</td></tr><tr><td>Holverson, Mrs. Alexander Oskar (Mary Aline Towner)</td></tr><tr><td>Hoyt, Mr. Frederick Maxfield</td></tr><tr><td>Hoyt, Mr. William Fisher</td></tr><tr><td>Hoyt, Mrs. Frederick Maxfield (Jane Anne Forby)</td></tr><tr><td>Icard, Miss. Amelie</td></tr><tr><td>Isham, Miss. Ann Elizabeth</td></tr><tr><td>Kent, Mr. Edward Austin</td></tr><tr><td>Kenyon, Mrs. Frederick R (Marion)</td></tr><tr><td>Kimball, Mr. Edwin Nelson Jr</td></tr><tr><td>Klaber, Mr. Herman</td></tr><tr><td>LeRoy, Miss. Bertha</td></tr><tr><td>Leader, Dr. Alice (Farnham)</td></tr><tr><td>Lesurer, Mr. Gustave J</td></tr><tr><td>Lewy, Mr. Ervin G</td></tr><tr><td>Lines, Miss. Mary Conover</td></tr><tr><td>Long, Mr. Milton Clyde</td></tr><tr><td>Longley, Miss. Gretchen Fiske</td></tr><tr><td>Lurette, Miss. Elise</td></tr><tr><td>Madill, Miss. Georgette Alexandra</td></tr><tr><td>Maioni, Miss. Roberta</td></tr><tr><td>Marechal, Mr. Pierre</td></tr><tr><td>Marvin, Mr. Daniel Warner</td></tr><tr><td>McCarthy, Mr. Timothy J</td></tr><tr><td>McGough, Mr. James Robert</td></tr><tr><td>Meyer, Mr. Edgar Joseph</td></tr><tr><td>Meyer, Mrs. Edgar Joseph (Leila Saks)</td></tr><tr><td>Millet, Mr. Francis Davis</td></tr><tr><td>Minahan, Dr. William Edward</td></tr><tr><td>Minahan, Miss. Daisy E</td></tr><tr><td>Molson, Mr. Harry Markland</td></tr><tr><td>Natsch, Mr. Charles H</td></tr><tr><td>Newell, Miss. Madeleine</td></tr><tr><td>Newell, Miss. Marjorie</td></tr><tr><td>Newell, Mr. Arthur Webster</td></tr><tr><td>Newsom, Miss. Helen Monypeny</td></tr><tr><td>Nicholson, Mr. Arthur Ernest</td></tr><tr><td>Ostby, Mr. Engelhart Cornelius</td></tr><tr><td>Parr, Mr. William Henry Marsh</td></tr><tr><td>Partner, Mr. Austen</td></tr><tr><td>Pears, Mr. Thomas Clinton</td></tr><tr><td>Pears, Mrs. Thomas (Edith Wearne)</td></tr><tr><td>Penasco y Castellana, Mr. Victor de Satode</td></tr><tr><td>Penasco y Castellana, Mrs. Victor de Satode (Maria Josefa Perez de Soto y Vallejo)</td></tr><tr><td>Perreault, Miss. Anne</td></tr><tr><td>Peuchen, Major. Arthur Godfrey</td></tr><tr><td>Porter, Mr. Walter Chamberlain</td></tr><tr><td>Potter, Mrs. Thomas Jr (Lily Alexenia Wilson)</td></tr><tr><td>Reuchlin, Jonkheer. John George</td></tr><tr><td>Ringhini, Mr. Sante</td></tr><tr><td>Robbins, Mr. Victor</td></tr><tr><td>Robert, Mrs. Edward Scott (Elisabeth Walton McMillan)</td></tr><tr><td>Roebling, Mr. Washington Augustus II</td></tr><tr><td>Rood, Mr. Hugh Roscoe</td></tr><tr><td>Ross, Mr. John Hugo</td></tr><tr><td>Rothes, the Countess. of (Lucy Noel Martha Dyer-Edwards)</td></tr><tr><td>Rothschild, Mrs. Martin (Elizabeth L. Barrett)</td></tr><tr><td>Ryerson, Miss. Emily Borie</td></tr><tr><td>Saalfeld, Mr. Adolphe</td></tr><tr><td>Sagesser, Mlle. Emma</td></tr><tr><td>Serepeca, Miss. Augusta</td></tr><tr><td>Seward, Mr. Frederic Kimber</td></tr><tr><td>Shutes, Miss. Elizabeth W</td></tr><tr><td>Silverthorne, Mr. Spencer Victor</td></tr><tr><td>Silvey, Mr. William Baird</td></tr><tr><td>Silvey, Mrs. William Baird (Alice Munger)</td></tr><tr><td>Simonius-Blumer, Col. Oberst Alfons</td></tr><tr><td>Sloper, Mr. William Thompson</td></tr><tr><td>Smart, Mr. John Montgomery</td></tr><tr><td>Smith, Mr. James Clinch</td></tr><tr><td>Smith, Mr. Richard William</td></tr><tr><td>Spedden, Mrs. Frederic Oakley (Margaretta Corning Stone)</td></tr><tr><td>Spencer, Mrs. William Augustus (Marie Eugenie)</td></tr><tr><td>Stahelin-Maeglin, Dr. Max</td></tr><tr><td>Stead, Mr. William Thomas</td></tr><tr><td>Stephenson, Mrs. Walter Bertram (Martha Eustis)</td></tr><tr><td>Stewart, Mr. Albert A</td></tr><tr><td>Stone, Mrs. George Nelson (Martha Evelyn)</td></tr><tr><td>Sutton, Mr. Frederick</td></tr><tr><td>Swift, Mrs. Frederick Joel (Margaret Welles Barron)</td></tr><tr><td>Taussig, Miss. Ruth</td></tr><tr><td>Taussig, Mr. Emil</td></tr><tr><td>Taussig, Mrs. Emil (Tillie Mandelbaum)</td></tr><tr><td>Taylor, Mr. Elmer Zebley</td></tr><tr><td>Taylor, Mrs. Elmer Zebley (Juliet Cummins Wright)</td></tr><tr><td>Thayer, Mr. John Borland</td></tr><tr><td>Thayer, Mr. John Borland Jr</td></tr><tr><td>Thayer, Mrs. John Borland (Marian Longstreth Morris)</td></tr><tr><td>Thorne, Mrs. Gertrude Maybelle</td></tr><tr><td>Uruchurtu, Don. Manuel E</td></tr><tr><td>Van der hoef, Mr. Wyckoff</td></tr><tr><td>Walker, Mr. William Anderson</td></tr><tr><td>Ward, Miss. Anna</td></tr><tr><td>Warren, Mrs. Frank Manley (Anna Sophia Atkinson)</td></tr><tr><td>Weir, Col. John</td></tr><tr><td>White, Mr. Percival Wayland</td></tr><tr><td>White, Mr. Richard Frasar</td></tr><tr><td>Wick, Miss. Mary Natalie</td></tr><tr><td>Wick, Mrs. George Dennick (Mary Hitchcock)</td></tr><tr><td>Widener, Mr. Harry Elkins</td></tr><tr><td>Williams, Mr. Charles Duane</td></tr><tr><td>Williams-Lambert, Mr. Fletcher Fellows</td></tr><tr><td>Woolner, Mr. Hugh</td></tr><tr><td>Wright, Mr. George</td></tr><tr><td>Young, Miss. Marie Grice</td></tr></tbody></table></div>"
      ]
     },
     "metadata": {
      "application/vnd.databricks.v1+output": {
       "addedWidgets": {},
       "aggData": [],
       "aggError": "",
       "aggOverflow": false,
       "aggSchema": [],
       "aggSeriesLimitReached": false,
       "aggType": "",
       "arguments": {},
       "columnCustomDisplayInfos": {},
       "data": [
        [
         "\"Barber, Miss. Ellen \"\"Nellie\"\"\""
        ],
        [
         "\"Bradley, Mr. George (\"\"George Arthur Brayton\"\")\""
        ],
        [
         "\"Duff Gordon, Lady. (Lucille Christiana Sutherland) (\"\"Mrs Morgan\"\")\""
        ],
        [
         "\"Duff Gordon, Sir. Cosmo Edmund (\"\"Mr Morgan\"\")\""
        ],
        [
         "\"Flynn, Mr. John Irwin (\"\"Irving\"\")\""
        ],
        [
         "\"Homer, Mr. Harry (\"\"Mr E Haven\"\")\""
        ],
        [
         "\"Mayne, Mlle. Berthe Antonine (\"\"Mrs de Villiers\"\")\""
        ],
        [
         "\"Romaine, Mr. Charles Hallace (\"\"Mr C Rolmane\"\")\""
        ],
        [
         "\"Ryerson, Miss. Susan Parker \"\"Suzette\"\"\""
        ],
        [
         "Allen, Miss. Elisabeth Walton"
        ],
        [
         "Allison, Master. Hudson Trevor"
        ],
        [
         "Allison, Miss. Helen Loraine"
        ],
        [
         "Allison, Mrs. Hudson J C (Bessie Waldo Daniels)"
        ],
        [
         "Anderson, Mr. Harry"
        ],
        [
         "Andrews, Miss. Kornelia Theodosia"
        ],
        [
         "Andrews, Mr. Thomas Jr"
        ],
        [
         "Appleton, Mrs. Edward Dale (Charlotte Lamson)"
        ],
        [
         "Artagaveytia, Mr. Ramon"
        ],
        [
         "Astor, Mrs. John Jacob (Madeleine Talmadge Force)"
        ],
        [
         "Aubart, Mme. Leontine Pauline"
        ],
        [
         "Barkworth, Mr. Algernon Henry Wilson"
        ],
        [
         "Baumann, Mr. John D"
        ],
        [
         "Baxter, Mr. Quigg Edmond"
        ],
        [
         "Baxter, Mrs. James (Helene DeLaudeniere Chaput)"
        ],
        [
         "Bazzani, Miss. Albina"
        ],
        [
         "Beckwith, Mr. Richard Leonard"
        ],
        [
         "Beckwith, Mrs. Richard Leonard (Sallie Monypeny)"
        ],
        [
         "Behr, Mr. Karl Howell"
        ],
        [
         "Bidois, Miss. Rosalie"
        ],
        [
         "Bishop, Mr. Dickinson H"
        ],
        [
         "Bishop, Mrs. Dickinson H (Helen Walton)"
        ],
        [
         "Bissette, Miss. Amelia"
        ],
        [
         "Bjornstrom-Steffansson, Mr. Mauritz Hakan"
        ],
        [
         "Blackwell, Mr. Stephen Weart"
        ],
        [
         "Blank, Mr. Henry"
        ],
        [
         "Bonnell, Miss. Elizabeth"
        ],
        [
         "Bowerman, Miss. Elsie Edith"
        ],
        [
         "Brewe, Dr. Arthur Jackson"
        ],
        [
         "Brown, Mrs. James Joseph (Margaret Tobin)"
        ],
        [
         "Burns, Miss. Elizabeth Margaret"
        ],
        [
         "Butt, Major. Archibald Willingham"
        ],
        [
         "Cairns, Mr. Alexander"
        ],
        [
         "Calderhead, Mr. Edward Pennington"
        ],
        [
         "Cardeza, Mr. Thomas Drake Martinez"
        ],
        [
         "Carlsson, Mr. Frans Olof"
        ],
        [
         "Carrau, Mr. Francisco M"
        ],
        [
         "Carter, Master. William Thornton II"
        ],
        [
         "Carter, Miss. Lucile Polk"
        ],
        [
         "Carter, Mr. William Ernest"
        ],
        [
         "Carter, Mrs. William Ernest (Lucile Polk)"
        ],
        [
         "Cavendish, Mr. Tyrell William"
        ],
        [
         "Chaffee, Mr. Herbert Fuller"
        ],
        [
         "Chambers, Mr. Norman Campbell"
        ],
        [
         "Chambers, Mrs. Norman Campbell (Bertha Griggs)"
        ],
        [
         "Cherry, Miss. Gladys"
        ],
        [
         "Chibnall, Mrs. (Edith Martha Bowerman)"
        ],
        [
         "Cleaver, Miss. Alice"
        ],
        [
         "Clifford, Mr. George Quincy"
        ],
        [
         "Colley, Mr. Edward Pomeroy"
        ],
        [
         "Compton, Miss. Sara Rebecca"
        ],
        [
         "Crosby, Capt. Edward Gifford"
        ],
        [
         "Crosby, Miss. Harriet R"
        ],
        [
         "Cumings, Mrs. John Bradley (Florence Briggs Thayer)"
        ],
        [
         "Daly, Mr. Peter Denis "
        ],
        [
         "Daniel, Mr. Robert Williams"
        ],
        [
         "Davidson, Mr. Thornton"
        ],
        [
         "Dick, Mr. Albert Adrian"
        ],
        [
         "Dick, Mrs. Albert Adrian (Vera Gillespie)"
        ],
        [
         "Dodge, Master. Washington"
        ],
        [
         "Douglas, Mr. Walter Donald"
        ],
        [
         "Endres, Miss. Caroline Louise"
        ],
        [
         "Eustis, Miss. Elizabeth Mussey"
        ],
        [
         "Farthing, Mr. John"
        ],
        [
         "Fleming, Miss. Margaret"
        ],
        [
         "Foreman, Mr. Benjamin Laventall"
        ],
        [
         "Fortune, Miss. Alice Elizabeth"
        ],
        [
         "Fortune, Miss. Mabel Helen"
        ],
        [
         "Fortune, Mr. Charles Alexander"
        ],
        [
         "Fortune, Mr. Mark"
        ],
        [
         "Francatelli, Miss. Laura Mabel"
        ],
        [
         "Frauenthal, Dr. Henry William"
        ],
        [
         "Frauenthal, Mrs. Henry William (Clara Heinsheimer)"
        ],
        [
         "Frolicher, Miss. Hedwig Margaritha"
        ],
        [
         "Frolicher-Stehli, Mr. Maxmillian"
        ],
        [
         "Fry, Mr. Richard"
        ],
        [
         "Futrelle, Mr. Jacques Heath"
        ],
        [
         "Futrelle, Mrs. Jacques Heath (Lily May Peel)"
        ],
        [
         "Gee, Mr. Arthur H"
        ],
        [
         "Giglio, Mr. Victor"
        ],
        [
         "Goldenberg, Mr. Samuel L"
        ],
        [
         "Goldenberg, Mrs. Samuel L (Edwiga Grabowska)"
        ],
        [
         "Goldschmidt, Mr. George B"
        ],
        [
         "Graham, Miss. Margaret Edith"
        ],
        [
         "Graham, Mr. George Edward"
        ],
        [
         "Graham, Mrs. William Thompson (Edith Junkins)"
        ],
        [
         "Greenfield, Mr. William Bertram"
        ],
        [
         "Guggenheim, Mr. Benjamin"
        ],
        [
         "Harder, Mr. George Achilles"
        ],
        [
         "Harper, Mr. Henry Sleeper"
        ],
        [
         "Harper, Mrs. Henry Sleeper (Myna Haxtun)"
        ],
        [
         "Harrington, Mr. Charles H"
        ],
        [
         "Harris, Mr. Henry Birkhardt"
        ],
        [
         "Harris, Mrs. Henry Birkhardt (Irene Wallach)"
        ],
        [
         "Harrison, Mr. William"
        ],
        [
         "Hassab, Mr. Hammad"
        ],
        [
         "Hawksford, Mr. Walter James"
        ],
        [
         "Hays, Miss. Margaret Bechstein"
        ],
        [
         "Hays, Mrs. Charles Melville (Clara Jennings Gregg)"
        ],
        [
         "Hippach, Miss. Jean Gertrude"
        ],
        [
         "Hippach, Mrs. Louis Albert (Ida Sophia Fischer)"
        ],
        [
         "Hogeboom, Mrs. John C (Anna Andrews)"
        ],
        [
         "Holverson, Mr. Alexander Oskar"
        ],
        [
         "Holverson, Mrs. Alexander Oskar (Mary Aline Towner)"
        ],
        [
         "Hoyt, Mr. Frederick Maxfield"
        ],
        [
         "Hoyt, Mr. William Fisher"
        ],
        [
         "Hoyt, Mrs. Frederick Maxfield (Jane Anne Forby)"
        ],
        [
         "Icard, Miss. Amelie"
        ],
        [
         "Isham, Miss. Ann Elizabeth"
        ],
        [
         "Kent, Mr. Edward Austin"
        ],
        [
         "Kenyon, Mrs. Frederick R (Marion)"
        ],
        [
         "Kimball, Mr. Edwin Nelson Jr"
        ],
        [
         "Klaber, Mr. Herman"
        ],
        [
         "LeRoy, Miss. Bertha"
        ],
        [
         "Leader, Dr. Alice (Farnham)"
        ],
        [
         "Lesurer, Mr. Gustave J"
        ],
        [
         "Lewy, Mr. Ervin G"
        ],
        [
         "Lines, Miss. Mary Conover"
        ],
        [
         "Long, Mr. Milton Clyde"
        ],
        [
         "Longley, Miss. Gretchen Fiske"
        ],
        [
         "Lurette, Miss. Elise"
        ],
        [
         "Madill, Miss. Georgette Alexandra"
        ],
        [
         "Maioni, Miss. Roberta"
        ],
        [
         "Marechal, Mr. Pierre"
        ],
        [
         "Marvin, Mr. Daniel Warner"
        ],
        [
         "McCarthy, Mr. Timothy J"
        ],
        [
         "McGough, Mr. James Robert"
        ],
        [
         "Meyer, Mr. Edgar Joseph"
        ],
        [
         "Meyer, Mrs. Edgar Joseph (Leila Saks)"
        ],
        [
         "Millet, Mr. Francis Davis"
        ],
        [
         "Minahan, Dr. William Edward"
        ],
        [
         "Minahan, Miss. Daisy E"
        ],
        [
         "Molson, Mr. Harry Markland"
        ],
        [
         "Natsch, Mr. Charles H"
        ],
        [
         "Newell, Miss. Madeleine"
        ],
        [
         "Newell, Miss. Marjorie"
        ],
        [
         "Newell, Mr. Arthur Webster"
        ],
        [
         "Newsom, Miss. Helen Monypeny"
        ],
        [
         "Nicholson, Mr. Arthur Ernest"
        ],
        [
         "Ostby, Mr. Engelhart Cornelius"
        ],
        [
         "Parr, Mr. William Henry Marsh"
        ],
        [
         "Partner, Mr. Austen"
        ],
        [
         "Pears, Mr. Thomas Clinton"
        ],
        [
         "Pears, Mrs. Thomas (Edith Wearne)"
        ],
        [
         "Penasco y Castellana, Mr. Victor de Satode"
        ],
        [
         "Penasco y Castellana, Mrs. Victor de Satode (Maria Josefa Perez de Soto y Vallejo)"
        ],
        [
         "Perreault, Miss. Anne"
        ],
        [
         "Peuchen, Major. Arthur Godfrey"
        ],
        [
         "Porter, Mr. Walter Chamberlain"
        ],
        [
         "Potter, Mrs. Thomas Jr (Lily Alexenia Wilson)"
        ],
        [
         "Reuchlin, Jonkheer. John George"
        ],
        [
         "Ringhini, Mr. Sante"
        ],
        [
         "Robbins, Mr. Victor"
        ],
        [
         "Robert, Mrs. Edward Scott (Elisabeth Walton McMillan)"
        ],
        [
         "Roebling, Mr. Washington Augustus II"
        ],
        [
         "Rood, Mr. Hugh Roscoe"
        ],
        [
         "Ross, Mr. John Hugo"
        ],
        [
         "Rothes, the Countess. of (Lucy Noel Martha Dyer-Edwards)"
        ],
        [
         "Rothschild, Mrs. Martin (Elizabeth L. Barrett)"
        ],
        [
         "Ryerson, Miss. Emily Borie"
        ],
        [
         "Saalfeld, Mr. Adolphe"
        ],
        [
         "Sagesser, Mlle. Emma"
        ],
        [
         "Serepeca, Miss. Augusta"
        ],
        [
         "Seward, Mr. Frederic Kimber"
        ],
        [
         "Shutes, Miss. Elizabeth W"
        ],
        [
         "Silverthorne, Mr. Spencer Victor"
        ],
        [
         "Silvey, Mr. William Baird"
        ],
        [
         "Silvey, Mrs. William Baird (Alice Munger)"
        ],
        [
         "Simonius-Blumer, Col. Oberst Alfons"
        ],
        [
         "Sloper, Mr. William Thompson"
        ],
        [
         "Smart, Mr. John Montgomery"
        ],
        [
         "Smith, Mr. James Clinch"
        ],
        [
         "Smith, Mr. Richard William"
        ],
        [
         "Spedden, Mrs. Frederic Oakley (Margaretta Corning Stone)"
        ],
        [
         "Spencer, Mrs. William Augustus (Marie Eugenie)"
        ],
        [
         "Stahelin-Maeglin, Dr. Max"
        ],
        [
         "Stead, Mr. William Thomas"
        ],
        [
         "Stephenson, Mrs. Walter Bertram (Martha Eustis)"
        ],
        [
         "Stewart, Mr. Albert A"
        ],
        [
         "Stone, Mrs. George Nelson (Martha Evelyn)"
        ],
        [
         "Sutton, Mr. Frederick"
        ],
        [
         "Swift, Mrs. Frederick Joel (Margaret Welles Barron)"
        ],
        [
         "Taussig, Miss. Ruth"
        ],
        [
         "Taussig, Mr. Emil"
        ],
        [
         "Taussig, Mrs. Emil (Tillie Mandelbaum)"
        ],
        [
         "Taylor, Mr. Elmer Zebley"
        ],
        [
         "Taylor, Mrs. Elmer Zebley (Juliet Cummins Wright)"
        ],
        [
         "Thayer, Mr. John Borland"
        ],
        [
         "Thayer, Mr. John Borland Jr"
        ],
        [
         "Thayer, Mrs. John Borland (Marian Longstreth Morris)"
        ],
        [
         "Thorne, Mrs. Gertrude Maybelle"
        ],
        [
         "Uruchurtu, Don. Manuel E"
        ],
        [
         "Van der hoef, Mr. Wyckoff"
        ],
        [
         "Walker, Mr. William Anderson"
        ],
        [
         "Ward, Miss. Anna"
        ],
        [
         "Warren, Mrs. Frank Manley (Anna Sophia Atkinson)"
        ],
        [
         "Weir, Col. John"
        ],
        [
         "White, Mr. Percival Wayland"
        ],
        [
         "White, Mr. Richard Frasar"
        ],
        [
         "Wick, Miss. Mary Natalie"
        ],
        [
         "Wick, Mrs. George Dennick (Mary Hitchcock)"
        ],
        [
         "Widener, Mr. Harry Elkins"
        ],
        [
         "Williams, Mr. Charles Duane"
        ],
        [
         "Williams-Lambert, Mr. Fletcher Fellows"
        ],
        [
         "Woolner, Mr. Hugh"
        ],
        [
         "Wright, Mr. George"
        ],
        [
         "Young, Miss. Marie Grice"
        ]
       ],
       "datasetInfos": [],
       "dbfsResultPath": null,
       "isJsonSchema": true,
       "metadata": {
        "isDbfsCommandResult": false
       },
       "overflow": false,
       "plotOptions": {
        "customPlotOptions": {},
        "displayType": "table",
        "pivotAggregation": null,
        "pivotColumns": null,
        "xColumns": null,
        "yColumns": null
       },
       "removedWidgets": [],
       "schema": [
        {
         "metadata": "{}",
         "name": "name",
         "type": "\"string\""
        }
       ],
       "type": "table"
      }
     },
     "output_type": "display_data"
    }
   ],
   "source": [
    "%sql\n",
    "\n",
    "-- 4. Mostrar por pantalla los nombres de las personas que iban en primera clase ordenadas alfabéticamente.\n",
    "\n",
    "\n",
    "select name\n",
    "from titanic\n",
    "where Pclass = 1\n",
    "order by name asc\n",
    "\n"
   ]
  },
  {
   "cell_type": "code",
   "execution_count": null,
   "metadata": {
    "application/vnd.databricks.v1+cell": {
     "inputWidgets": {},
     "nuid": "b1a38317-6a6d-4af2-ad9b-c7ce00080f01",
     "showTitle": false,
     "title": ""
    },
    "id": "xw1Gb5HAdq2l",
    "outputId": "121a3c31-7d29-4f46-fbd0-e56aa80f4e0f"
   },
   "outputs": [
    {
     "data": {
      "text/html": [
       "<style scoped>\n",
       "  .table-result-container {\n",
       "    max-height: 300px;\n",
       "    overflow: auto;\n",
       "  }\n",
       "  table, th, td {\n",
       "    border: 1px solid black;\n",
       "    border-collapse: collapse;\n",
       "  }\n",
       "  th, td {\n",
       "    padding: 5px;\n",
       "  }\n",
       "  th {\n",
       "    text-align: left;\n",
       "  }\n",
       "</style><div class='table-result-container'><table class='table-result'><thead style='background-color: white'><tr><th>Survived</th><th>((CAST(count(1) AS DOUBLE) / CAST(891 AS DOUBLE)) * CAST(100 AS DOUBLE))</th></tr></thead><tbody><tr><td>1</td><td>38.38383838383838</td></tr><tr><td>0</td><td>61.61616161616161</td></tr></tbody></table></div>"
      ]
     },
     "metadata": {
      "application/vnd.databricks.v1+output": {
       "addedWidgets": {},
       "aggData": [],
       "aggError": "",
       "aggOverflow": false,
       "aggSchema": [],
       "aggSeriesLimitReached": false,
       "aggType": "",
       "arguments": {},
       "columnCustomDisplayInfos": {},
       "data": [
        [
         1,
         38.38383838383838
        ],
        [
         0,
         61.61616161616161
        ]
       ],
       "datasetInfos": [],
       "dbfsResultPath": null,
       "isJsonSchema": true,
       "metadata": {
        "isDbfsCommandResult": false
       },
       "overflow": false,
       "plotOptions": {
        "customPlotOptions": {},
        "displayType": "table",
        "pivotAggregation": null,
        "pivotColumns": null,
        "xColumns": null,
        "yColumns": null
       },
       "removedWidgets": [],
       "schema": [
        {
         "metadata": "{}",
         "name": "Survived",
         "type": "\"integer\""
        },
        {
         "metadata": "{}",
         "name": "((CAST(count(1) AS DOUBLE) / CAST(891 AS DOUBLE)) * CAST(100 AS DOUBLE))",
         "type": "\"double\""
        }
       ],
       "type": "table"
      }
     },
     "output_type": "display_data"
    }
   ],
   "source": [
    "%sql\n",
    "-- 5. Mostrar por pantalla el porcentaje de personas que sobrevivieron y murieron.\n",
    "\n",
    "\n",
    "select Survived, (count(*) / 891 * 100)\n",
    "from titanic\n",
    "group by Survived\n",
    "\n"
   ]
  },
  {
   "cell_type": "markdown",
   "metadata": {
    "application/vnd.databricks.v1+cell": {
     "inputWidgets": {},
     "nuid": "642d6157-bdf9-4c34-9515-3628f4727d3b",
     "showTitle": false,
     "title": ""
    },
    "id": "4Px8lih4dq2m"
   },
   "source": [
    "# RELACIONADO\n",
    "----------------------\n",
    "\n",
    "- Capitulo 10: Spark SQL - Spark The Define Guide\n",
    "- [Spark SQL Reference](https://spark.apache.org/docs/3.0.0-preview/sql-ref-null-semantics.html)"
   ]
  },
  {
   "cell_type": "code",
   "execution_count": null,
   "metadata": {
    "application/vnd.databricks.v1+cell": {
     "inputWidgets": {},
     "nuid": "6a629bb8-2e68-404a-a45b-3f8533dbbd53",
     "showTitle": false,
     "title": ""
    },
    "id": "zQP-ieTZdq2m"
   },
   "outputs": [],
   "source": []
  }
 ],
 "metadata": {
  "application/vnd.databricks.v1+notebook": {
   "dashboards": [],
   "language": "python",
   "notebookMetadata": {
    "pythonIndentUnit": 2
   },
   "notebookName": "2.2 Spark SQL",
   "notebookOrigID": 5602527036285,
   "widgets": {}
  },
  "colab": {
   "name": "2.2 Spark SQL.ipynb",
   "provenance": []
  },
  "kernelspec": {
   "display_name": "Python 3 (ipykernel)",
   "language": "python",
   "name": "python3"
  },
  "language_info": {
   "codemirror_mode": {
    "name": "ipython",
    "version": 3
   },
   "file_extension": ".py",
   "mimetype": "text/x-python",
   "name": "python",
   "nbconvert_exporter": "python",
   "pygments_lexer": "ipython3",
   "version": "3.7.11"
  }
 },
 "nbformat": 4,
 "nbformat_minor": 1
}
