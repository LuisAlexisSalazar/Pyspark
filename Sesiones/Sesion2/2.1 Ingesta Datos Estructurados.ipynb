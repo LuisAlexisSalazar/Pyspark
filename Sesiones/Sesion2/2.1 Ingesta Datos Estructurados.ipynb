{
 "cells": [
  {
   "cell_type": "markdown",
   "metadata": {
    "application/vnd.databricks.v1+cell": {
     "inputWidgets": {},
     "nuid": "a42bb2b6-c747-4770-968e-23b02b8ac4c7",
     "showTitle": false,
     "title": ""
    },
    "id": "5Q_F-_Vw-ap_"
   },
   "source": [
    "# 2.1 Ingesta de Datos Estructurados\n",
    "----------------\n",
    "\n",
    "Esta semana, estudiaremos el API de Spark dedicado a la lectura, escritura y procesamiento de Dataframes\n",
    "\n",
    "Agenda\n",
    "\n",
    "1. Creación de Dataframes\n",
    "2. Lectura de Dataframes\n",
    "3. Exploración de Datos\n",
    "4. Escritura de Dataframes\n",
    "\n",
    "\n",
    "  <img src= \"http://1.bp.blogspot.com/-BklNJ2CjC3s/VejWK5i2WHI/AAAAAAAAAVU/ih103fAbUGY/s640/Screen%2BShot%2B2015-09-03%2Bat%2B4.21.21%2BPM.png\">\n",
    "  \n",
    "  \n",
    "Para ello cargaremos un `DataFrame` y reconoceremos algunos datos de este\n",
    "\n",
    "<img src='https://pandas.pydata.org/docs/_images/02_io_readwrite.svg'>"
   ]
  },
  {
   "cell_type": "code",
   "execution_count": 5,
   "metadata": {},
   "outputs": [
    {
     "name": "stdout",
     "output_type": "stream",
     "text": [
      "Python 3.7.11\n"
     ]
    }
   ],
   "source": [
    "!python -V"
   ]
  },
  {
   "cell_type": "code",
   "execution_count": 2,
   "metadata": {
    "application/vnd.databricks.v1+cell": {
     "inputWidgets": {},
     "nuid": "64df1f41-de1e-4249-9707-2c60325eaa9d",
     "showTitle": false,
     "title": ""
    },
    "executionInfo": {
     "elapsed": 10050,
     "status": "ok",
     "timestamp": 1643579709781,
     "user": {
      "displayName": "GONZALO ANTONIO DELGADO RUBIO",
      "photoUrl": "https://lh3.googleusercontent.com/a/default-user=s64",
      "userId": "00000985560413717597"
     },
     "user_tz": 300
    },
    "id": "Vi492nba-aql"
   },
   "outputs": [],
   "source": [
    "# GOOGLE COLAB -> inicializamos spark\n",
    "import pyspark\n",
    "from pyspark.sql import SparkSession\n",
    "\n",
    "spark = SparkSession.builder.getOrCreate()"
   ]
  },
  {
   "cell_type": "markdown",
   "metadata": {
    "application/vnd.databricks.v1+cell": {
     "inputWidgets": {},
     "nuid": "dc5e1068-9350-477a-8445-17a5d898f791",
     "showTitle": false,
     "title": ""
    },
    "id": "Ux2GoioJ-aq5"
   },
   "source": [
    "## 1. Creación Dataframe\n",
    "\n",
    "\n",
    "Es posible crear un dataframe de Spark a partir de información de una lista de python"
   ]
  },
  {
   "cell_type": "markdown",
   "metadata": {},
   "source": [
    "<h2>1.1 A partir de Filas de Datos</h2>"
   ]
  },
  {
   "cell_type": "code",
   "execution_count": 3,
   "metadata": {
    "application/vnd.databricks.v1+cell": {
     "inputWidgets": {},
     "nuid": "190f0bcf-2d82-4d71-be53-10d9e482357e",
     "showTitle": false,
     "title": ""
    },
    "id": "wZ_lIZFA-aq8",
    "outputId": "5031a6a9-d4d9-4456-af04-0d90f43eb07c"
   },
   "outputs": [
    {
     "name": "stdout",
     "output_type": "stream",
     "text": [
      "+---+---+-------+----------+-------------------+\n",
      "|  a|  b|      c|         d|                  e|\n",
      "+---+---+-------+----------+-------------------+\n",
      "|  1|2.0|string1|2000-01-01|2000-01-01 12:00:00|\n",
      "|  2|3.0|string2|2000-02-01|2000-01-02 12:00:00|\n",
      "|  4|5.0|string3|2000-03-01|2000-01-03 12:00:00|\n",
      "+---+---+-------+----------+-------------------+\n",
      "\n"
     ]
    }
   ],
   "source": [
    "from datetime import datetime, date\n",
    "from pyspark.sql import Row\n",
    "\n",
    "\n",
    "df = spark.createDataFrame([\n",
    "    Row(a=1, b=2., c='string1', d=date(2000, 1, 1), e=datetime(2000, 1, 1, 12, 0)),\n",
    "    Row(a=2, b=3., c='string2', d=date(2000, 2, 1), e=datetime(2000, 1, 2, 12, 0)),\n",
    "    Row(a=4, b=5., c='string3', d=date(2000, 3, 1), e=datetime(2000, 1, 3, 12, 0))\n",
    "])\n",
    "df.show()"
   ]
  },
  {
   "cell_type": "markdown",
   "metadata": {},
   "source": [
    "<h2>1.2 A partir de una Lista de Tuplas con un Esquema</h2>"
   ]
  },
  {
   "cell_type": "code",
   "execution_count": null,
   "metadata": {
    "application/vnd.databricks.v1+cell": {
     "inputWidgets": {},
     "nuid": "05d3c515-9046-4aba-b28d-eac015ab767a",
     "showTitle": false,
     "title": ""
    },
    "id": "-kMuCAwO-arL",
    "outputId": "0e3283cc-3230-4267-b4c2-a7f410d81e25"
   },
   "outputs": [
    {
     "data": {
      "text/plain": [
       "+---+---+-------+----------+-------------------+\n",
       "|  a|  b|      c|         d|                  e|\n",
       "+---+---+-------+----------+-------------------+\n",
       "|  1|2.0|string1|2000-01-01|2000-01-01 12:00:00|\n",
       "|  2|3.0|string2|2000-02-01|2000-01-02 12:00:00|\n",
       "|  3|4.0|string3|2000-03-01|2000-01-03 12:00:00|\n",
       "+---+---+-------+----------+-------------------+\n",
       "\n"
      ]
     },
     "metadata": {
      "application/vnd.databricks.v1+output": {
       "addedWidgets": {},
       "arguments": {},
       "data": "+---+---+-------+----------+-------------------+\n|  a|  b|      c|         d|                  e|\n+---+---+-------+----------+-------------------+\n|  1|2.0|string1|2000-01-01|2000-01-01 12:00:00|\n|  2|3.0|string2|2000-02-01|2000-01-02 12:00:00|\n|  3|4.0|string3|2000-03-01|2000-01-03 12:00:00|\n+---+---+-------+----------+-------------------+\n\n",
       "datasetInfos": [],
       "metadata": {},
       "removedWidgets": [],
       "type": "ansi"
      }
     },
     "output_type": "display_data"
    }
   ],
   "source": [
    "data = [\n",
    "    (1, 2., 'string1', date(2000, 1, 1), datetime(2000, 1, 1, 12, 0)),\n",
    "    (2, 3., 'string2', date(2000, 2, 1), datetime(2000, 1, 2, 12, 0)),\n",
    "    (3, 4., 'string3', date(2000, 3, 1), datetime(2000, 1, 3, 12, 0))\n",
    "]\n",
    "\n",
    "dll_schema = 'a long, b double, c string, d date, e timestamp' \n",
    "\n",
    "df = spark.createDataFrame(data, schema=dll_schema)\n",
    "df.show(20)"
   ]
  },
  {
   "cell_type": "markdown",
   "metadata": {},
   "source": [
    "<h2>1.3 A partir de un Dataframe de Pandas</h2>"
   ]
  },
  {
   "cell_type": "code",
   "execution_count": null,
   "metadata": {
    "application/vnd.databricks.v1+cell": {
     "inputWidgets": {},
     "nuid": "4e1a7608-6683-4f0b-811f-2b58c234bc0d",
     "showTitle": false,
     "title": ""
    },
    "id": "s82cOPlc-arw",
    "outputId": "068bae91-1d03-4176-e027-491eb435ee7a"
   },
   "outputs": [
    {
     "data": {
      "text/html": [
       "<div>\n",
       "<style scoped>\n",
       "    .dataframe tbody tr th:only-of-type {\n",
       "        vertical-align: middle;\n",
       "    }\n",
       "\n",
       "    .dataframe tbody tr th {\n",
       "        vertical-align: top;\n",
       "    }\n",
       "\n",
       "    .dataframe thead th {\n",
       "        text-align: right;\n",
       "    }\n",
       "</style>\n",
       "<table border=\"1\" class=\"dataframe\">\n",
       "  <thead>\n",
       "    <tr style=\"text-align: right;\">\n",
       "      <th></th>\n",
       "      <th>nombres</th>\n",
       "      <th>apellidos</th>\n",
       "    </tr>\n",
       "  </thead>\n",
       "  <tbody>\n",
       "    <tr>\n",
       "      <th>0</th>\n",
       "      <td>gonzalo</td>\n",
       "      <td>Delgado</td>\n",
       "    </tr>\n",
       "    <tr>\n",
       "      <th>1</th>\n",
       "      <td>luis</td>\n",
       "      <td>Picasso</td>\n",
       "    </tr>\n",
       "  </tbody>\n",
       "</table>\n",
       "</div>"
      ]
     },
     "metadata": {
      "application/vnd.databricks.v1+output": {
       "addedWidgets": {},
       "arguments": {},
       "data": "<div>\n<style scoped>\n    .dataframe tbody tr th:only-of-type {\n        vertical-align: middle;\n    }\n\n    .dataframe tbody tr th {\n        vertical-align: top;\n    }\n\n    .dataframe thead th {\n        text-align: right;\n    }\n</style>\n<table border=\"1\" class=\"dataframe\">\n  <thead>\n    <tr style=\"text-align: right;\">\n      <th></th>\n      <th>nombres</th>\n      <th>apellidos</th>\n    </tr>\n  </thead>\n  <tbody>\n    <tr>\n      <th>0</th>\n      <td>gonzalo</td>\n      <td>Delgado</td>\n    </tr>\n    <tr>\n      <th>1</th>\n      <td>luis</td>\n      <td>Picasso</td>\n    </tr>\n  </tbody>\n</table>\n</div>",
       "datasetInfos": [],
       "metadata": {},
       "removedWidgets": [],
       "textData": null,
       "type": "htmlSandbox"
      }
     },
     "output_type": "display_data"
    }
   ],
   "source": [
    "# Documentacion Pandas : https://pandas.pydata.org/docs/getting_started/index.html#getting-started\n",
    "import pandas as pd\n",
    "\n",
    "dicx = {\n",
    "  'nombres': ['gonzalo', 'luis'],\n",
    "  'apellidos': ['Delgado', 'Picasso']\n",
    "}\n",
    "\n",
    "# pandas\n",
    "df_pandas = pd.DataFrame(dicx)\n",
    "df_pandas.head()"
   ]
  },
  {
   "cell_type": "code",
   "execution_count": null,
   "metadata": {
    "application/vnd.databricks.v1+cell": {
     "inputWidgets": {},
     "nuid": "f0c5e5ad-3818-4fa6-bdb5-ae3333b4cd88",
     "showTitle": false,
     "title": ""
    },
    "id": "-EpnoQnG-ar6",
    "outputId": "121726c9-90de-4894-9098-969cb0ff3af2"
   },
   "outputs": [
    {
     "data": {
      "text/plain": [
       "+-------+---------+\n",
       "|nombres|apellidos|\n",
       "+-------+---------+\n",
       "|gonzalo|  Delgado|\n",
       "|   luis|  Picasso|\n",
       "+-------+---------+\n",
       "\n"
      ]
     },
     "metadata": {
      "application/vnd.databricks.v1+output": {
       "addedWidgets": {},
       "arguments": {},
       "data": "+-------+---------+\n|nombres|apellidos|\n+-------+---------+\n|gonzalo|  Delgado|\n|   luis|  Picasso|\n+-------+---------+\n\n",
       "datasetInfos": [],
       "metadata": {},
       "removedWidgets": [],
       "type": "ansi"
      }
     },
     "output_type": "display_data"
    }
   ],
   "source": [
    "# pandas to Spark\n",
    "df_spark = spark.createDataFrame(df_pandas)\n",
    "df_spark.show(5)"
   ]
  },
  {
   "cell_type": "markdown",
   "metadata": {
    "application/vnd.databricks.v1+cell": {
     "inputWidgets": {},
     "nuid": "7788a65a-5686-4ef3-ac13-1da2f351ed15",
     "showTitle": false,
     "title": ""
    },
    "id": "lT_4k3bt-asA"
   },
   "source": [
    "## 2. Lectura de Datos"
   ]
  },
  {
   "cell_type": "markdown",
   "metadata": {
    "application/vnd.databricks.v1+cell": {
     "inputWidgets": {},
     "nuid": "c359a01c-6aa4-4a64-8c27-13b6ef63e8fe",
     "showTitle": false,
     "title": ""
    },
    "id": "KRF1RvjB-asD"
   },
   "source": [
    "### Lectura de Archivos CSV"
   ]
  },
  {
   "cell_type": "code",
   "execution_count": null,
   "metadata": {
    "application/vnd.databricks.v1+cell": {
     "inputWidgets": {},
     "nuid": "8aa542ff-d4cb-457f-88c0-e72f8902aef8",
     "showTitle": false,
     "title": ""
    },
    "id": "oG5vmYif-asI",
    "outputId": "37e9a13a-b87c-42f9-acdf-9ec6958e8563"
   },
   "outputs": [
    {
     "data": {
      "text/plain": [
       "+-----------------+-------------------+-----+\n",
       "|DEST_COUNTRY_NAME|ORIGIN_COUNTRY_NAME|count|\n",
       "+-----------------+-------------------+-----+\n",
       "|United States    |Romania            |15   |\n",
       "|United States    |Croatia            |1    |\n",
       "+-----------------+-------------------+-----+\n",
       "only showing top 2 rows\n",
       "\n"
      ]
     },
     "metadata": {
      "application/vnd.databricks.v1+output": {
       "addedWidgets": {},
       "arguments": {},
       "data": "+-----------------+-------------------+-----+\n|DEST_COUNTRY_NAME|ORIGIN_COUNTRY_NAME|count|\n+-----------------+-------------------+-----+\n|United States    |Romania            |15   |\n|United States    |Croatia            |1    |\n+-----------------+-------------------+-----+\nonly showing top 2 rows\n\n",
       "datasetInfos": [],
       "metadata": {},
       "removedWidgets": [],
       "type": "ansi"
      }
     },
     "output_type": "display_data"
    }
   ],
   "source": [
    "flightCsvPath = \"/FileStore/2015_summary.csv\"\n",
    "\n",
    "flightDF = (spark.read\n",
    "  .option(\"sep\", \",\") #opcion separador de archivo\n",
    "  .option(\"header\", True) # contiene cabecera?\n",
    "  .option(\"inferSchema\", True) # inferir tipo de datos de columnas\n",
    "  .csv(flightCsvPath))\n",
    "\n",
    "flightDF.show(2, False)"
   ]
  },
  {
   "cell_type": "markdown",
   "metadata": {
    "application/vnd.databricks.v1+cell": {
     "inputWidgets": {},
     "nuid": "1e45aeea-75ff-46b9-85f8-79f8033977cc",
     "showTitle": false,
     "title": ""
    },
    "id": "gO0r554x-asS"
   },
   "source": [
    "Es factible definir el esquema de forma manual creando `StructType` con los nombres de columna y tipo de datos\n",
    "\n",
    "\n",
    "Listado de tipos de datos, [link](https://spark.apache.org/docs/latest/sql-ref-datatypes.html)"
   ]
  },
  {
   "cell_type": "markdown",
   "metadata": {},
   "source": [
    "<h4> Definición del esquema para PySpark con StructType </h4>"
   ]
  },
  {
   "cell_type": "code",
   "execution_count": null,
   "metadata": {
    "application/vnd.databricks.v1+cell": {
     "inputWidgets": {},
     "nuid": "4cd7bf16-77d0-4d8d-aa20-cb6aeadd03a0",
     "showTitle": false,
     "title": ""
    },
    "id": "jJI15Vg6-asV"
   },
   "outputs": [],
   "source": [
    "from pyspark.sql.types import LongType, StringType, StructType, StructField\n",
    "# 3° parametro es para si acepta o no NULL\n",
    "userDefinedSchema = StructType([\n",
    "  StructField(\"user_id\", StringType(), True),\n",
    "  StructField(\"user_first_touch_timestamp\", LongType(), True),\n",
    "  StructField(\"email\", StringType(), True)\n",
    "])"
   ]
  },
  {
   "cell_type": "code",
   "execution_count": null,
   "metadata": {
    "application/vnd.databricks.v1+cell": {
     "inputWidgets": {},
     "nuid": "7bf6e1b5-c5e6-4b8e-8d03-0be831c74979",
     "showTitle": false,
     "title": ""
    },
    "id": "Fk1mLw3a-asW"
   },
   "outputs": [],
   "source": [
    "usersDF = (spark.read\n",
    "  .option(\"sep\", \"\\t\")\n",
    "  .option(\"header\", True)\n",
    "  .schema(userDefinedSchema)\n",
    "  .csv(usersCsvPath))"
   ]
  },
  {
   "cell_type": "markdown",
   "metadata": {},
   "source": [
    "<h4> Definición del esquema como DDL </h4>"
   ]
  },
  {
   "cell_type": "code",
   "execution_count": null,
   "metadata": {
    "application/vnd.databricks.v1+cell": {
     "inputWidgets": {},
     "nuid": "f5317e68-b47c-41af-b814-6ece06c7d062",
     "showTitle": false,
     "title": ""
    },
    "id": "XZ0IAemX-asZ"
   },
   "outputs": [],
   "source": [
    "DDLSchema = \"user_id string, user_first_touch_timestamp long, email string\"\n",
    "\n",
    "# tambien podemos colocar las opciones en un diccionario y usar 'options' en lugar de 'option'\n",
    "options = {\n",
    "  'sep': '\\t',\n",
    "  'header': True\n",
    "}\n",
    "\n",
    "usersDF = (spark.read\n",
    "  .options(**options)\n",
    "  .schema(DDLSchema)\n",
    "  .csv(usersCsvPath))"
   ]
  },
  {
   "cell_type": "markdown",
   "metadata": {
    "application/vnd.databricks.v1+cell": {
     "inputWidgets": {},
     "nuid": "4b039a9a-cb04-4ddf-9f4c-6db19fa3329a",
     "showTitle": false,
     "title": ""
    },
    "id": "NOIvy9Mv-asd"
   },
   "source": [
    "## 3. Exploración DataFrame\n",
    "\n",
    "La exploración de datos es la etapa donde obtenemos informacion sobre la data cargada, información como: cantidad de registros, visualizar registros de la data, cantidad de columnas, tipos de datos de las columnas, nombre de columnas, etc"
   ]
  },
  {
   "cell_type": "markdown",
   "metadata": {
    "application/vnd.databricks.v1+cell": {
     "inputWidgets": {},
     "nuid": "0a2fcec1-4037-4f2f-958b-b2daf83fb976",
     "showTitle": false,
     "title": ""
    },
    "id": "3fxh5KuC-ash"
   },
   "source": [
    "`show` nos devuelve un vistazo a los primeros 20 registros del Dataframe"
   ]
  },
  {
   "cell_type": "code",
   "execution_count": null,
   "metadata": {
    "application/vnd.databricks.v1+cell": {
     "inputWidgets": {},
     "nuid": "88ba87cf-2526-43bf-a20f-60e0a0f52134",
     "showTitle": false,
     "title": ""
    },
    "id": "GU7h0u9Q-ash",
    "outputId": "68264815-93bc-4f34-d99b-343d648de04e"
   },
   "outputs": [
    {
     "data": {
      "text/plain": [
       "+--------------------+-------------------+-----+\n",
       "|   DEST_COUNTRY_NAME|ORIGIN_COUNTRY_NAME|count|\n",
       "+--------------------+-------------------+-----+\n",
       "|       United States|            Romania|   15|\n",
       "|       United States|            Croatia|    1|\n",
       "|       United States|            Ireland|  344|\n",
       "|               Egypt|      United States|   15|\n",
       "|       United States|              India|   62|\n",
       "|       United States|          Singapore|    1|\n",
       "|       United States|            Grenada|   62|\n",
       "|          Costa Rica|      United States|  588|\n",
       "|             Senegal|      United States|   40|\n",
       "|             Moldova|      United States|    1|\n",
       "|       United States|       Sint Maarten|  325|\n",
       "|       United States|   Marshall Islands|   39|\n",
       "|              Guyana|      United States|   64|\n",
       "|               Malta|      United States|    1|\n",
       "|            Anguilla|      United States|   41|\n",
       "|             Bolivia|      United States|   30|\n",
       "|       United States|           Paraguay|    6|\n",
       "|             Algeria|      United States|    4|\n",
       "|Turks and Caicos ...|      United States|  230|\n",
       "|       United States|          Gibraltar|    1|\n",
       "+--------------------+-------------------+-----+\n",
       "only showing top 20 rows\n",
       "\n"
      ]
     },
     "metadata": {
      "application/vnd.databricks.v1+output": {
       "addedWidgets": {},
       "arguments": {},
       "data": "+--------------------+-------------------+-----+\n|   DEST_COUNTRY_NAME|ORIGIN_COUNTRY_NAME|count|\n+--------------------+-------------------+-----+\n|       United States|            Romania|   15|\n|       United States|            Croatia|    1|\n|       United States|            Ireland|  344|\n|               Egypt|      United States|   15|\n|       United States|              India|   62|\n|       United States|          Singapore|    1|\n|       United States|            Grenada|   62|\n|          Costa Rica|      United States|  588|\n|             Senegal|      United States|   40|\n|             Moldova|      United States|    1|\n|       United States|       Sint Maarten|  325|\n|       United States|   Marshall Islands|   39|\n|              Guyana|      United States|   64|\n|               Malta|      United States|    1|\n|            Anguilla|      United States|   41|\n|             Bolivia|      United States|   30|\n|       United States|           Paraguay|    6|\n|             Algeria|      United States|    4|\n|Turks and Caicos ...|      United States|  230|\n|       United States|          Gibraltar|    1|\n+--------------------+-------------------+-----+\nonly showing top 20 rows\n\n",
       "datasetInfos": [],
       "metadata": {},
       "removedWidgets": [],
       "type": "ansi"
      }
     },
     "output_type": "display_data"
    }
   ],
   "source": [
    "flightDF.show()"
   ]
  },
  {
   "cell_type": "markdown",
   "metadata": {},
   "source": [
    "<h3>3.1 Parametros del Metodo Show<h3>"
   ]
  },
  {
   "cell_type": "code",
   "execution_count": null,
   "metadata": {
    "application/vnd.databricks.v1+cell": {
     "inputWidgets": {},
     "nuid": "0a39504e-ade7-4737-955a-58f73085264a",
     "showTitle": false,
     "title": ""
    },
    "id": "XL44L1ev-ask",
    "outputId": "df508c98-b8fc-408e-a3ae-f6a401bb50dd",
    "scrolled": true
   },
   "outputs": [
    {
     "data": {
      "text/plain": [
       "-RECORD 0------------------\n",
       " a   | 1                   \n",
       " b   | 2.0                 \n",
       " c   | string1             \n",
       " d   | 2000-01-01          \n",
       " e   | 2000-01-01 12:00:00 \n",
       "-RECORD 1------------------\n",
       " a   | 2                   \n",
       " b   | 3.0                 \n",
       " c   | string2             \n",
       " d   | 2000-02-01          \n",
       " e   | 2000-01-02 12:00:00 \n",
       "only showing top 2 rows\n",
       "\n"
      ]
     },
     "metadata": {
      "application/vnd.databricks.v1+output": {
       "addedWidgets": {},
       "arguments": {},
       "data": "-RECORD 0------------------\n a   | 1                   \n b   | 2.0                 \n c   | string1             \n d   | 2000-01-01          \n e   | 2000-01-01 12:00:00 \n-RECORD 1------------------\n a   | 2                   \n b   | 3.0                 \n c   | string2             \n d   | 2000-02-01          \n e   | 2000-01-02 12:00:00 \nonly showing top 2 rows\n\n",
       "datasetInfos": [],
       "metadata": {},
       "removedWidgets": [],
       "type": "ansi"
      }
     },
     "output_type": "display_data"
    }
   ],
   "source": [
    "# Podemos añadirle parametros para mostrar la información de diferente manera\n",
    "\n",
    "df.show(n=2, # cantidad registros\n",
    "        truncate=False,  # evitar el truncamiento de los registros\n",
    "        vertical=True  # mostrar data en forma vertical\n",
    "       )"
   ]
  },
  {
   "cell_type": "markdown",
   "metadata": {},
   "source": [
    "<h3>3.2 Limit<h3>"
   ]
  },
  {
   "cell_type": "code",
   "execution_count": null,
   "metadata": {
    "application/vnd.databricks.v1+cell": {
     "inputWidgets": {},
     "nuid": "ac38d7d2-4adf-4d85-80a6-59724a70ece8",
     "showTitle": false,
     "title": ""
    },
    "id": "1dc2AWPy-asl",
    "outputId": "8253d375-0bf5-4bd2-ffbf-807bddff568f"
   },
   "outputs": [
    {
     "data": {
      "text/plain": [
       "Out[3]: DataFrame[a: bigint, b: double, c: string, d: date, e: timestamp]"
      ]
     },
     "metadata": {
      "application/vnd.databricks.v1+output": {
       "addedWidgets": {},
       "arguments": {},
       "data": "Out[3]: DataFrame[a: bigint, b: double, c: string, d: date, e: timestamp]",
       "datasetInfos": [],
       "metadata": {},
       "removedWidgets": [],
       "type": "ansi"
      }
     },
     "output_type": "display_data"
    }
   ],
   "source": [
    "# limit -> Toma las 'n' primeras filas del df | funciona como top en sql\n",
    "\n",
    "df.limit(10)"
   ]
  },
  {
   "cell_type": "markdown",
   "metadata": {},
   "source": [
    "<h3>3.3 Conf<h3>"
   ]
  },
  {
   "cell_type": "code",
   "execution_count": null,
   "metadata": {},
   "outputs": [],
   "source": [
    "# nos permite obtener una mejor visualización del DF\n",
    "\n",
    "spark.conf('spark.sql.repl.eagerEval.enabled', True) # Configuraciones van al inicio\n",
    "\n",
    "df.limit(10)"
   ]
  },
  {
   "cell_type": "markdown",
   "metadata": {},
   "source": [
    "<h3>3.4 Display<h3>"
   ]
  },
  {
   "cell_type": "code",
   "execution_count": null,
   "metadata": {
    "application/vnd.databricks.v1+cell": {
     "inputWidgets": {},
     "nuid": "26ec2ee4-9f30-42cc-9217-a715e301a716",
     "showTitle": false,
     "title": ""
    },
    "id": "6uejPFWi-asl"
   },
   "outputs": [],
   "source": [
    "# SOLO DATABRICKS\n",
    "# Nos muestra los datos en forma de tabla con las opciones de graficados dinamicos como los harias en excel\n",
    "display(df)\n"
   ]
  },
  {
   "cell_type": "markdown",
   "metadata": {},
   "source": [
    "<h3>3.5 printSchema<h3>"
   ]
  },
  {
   "cell_type": "code",
   "execution_count": null,
   "metadata": {
    "application/vnd.databricks.v1+cell": {
     "inputWidgets": {},
     "nuid": "a9983d22-5118-4e7b-9ef0-1614dc89b024",
     "showTitle": false,
     "title": ""
    },
    "id": "N8POG9-v-asm",
    "outputId": "ae329f45-a05b-42e9-aeba-9d00c6cb6b62"
   },
   "outputs": [
    {
     "data": {
      "text/plain": [
       "root\n",
       " |-- DEST_COUNTRY_NAME: string (nullable = true)\n",
       " |-- ORIGIN_COUNTRY_NAME: string (nullable = true)\n",
       " |-- count: integer (nullable = true)\n",
       "\n"
      ]
     },
     "metadata": {
      "application/vnd.databricks.v1+output": {
       "addedWidgets": {},
       "arguments": {},
       "data": "root\n |-- DEST_COUNTRY_NAME: string (nullable = true)\n |-- ORIGIN_COUNTRY_NAME: string (nullable = true)\n |-- count: integer (nullable = true)\n\n",
       "datasetInfos": [],
       "metadata": {},
       "removedWidgets": [],
       "type": "ansi"
      }
     },
     "output_type": "display_data"
    }
   ],
   "source": [
    "# printSchema retorna los nombres de columna y su tipo de datos\n",
    "flightDF.printSchema()"
   ]
  },
  {
   "cell_type": "markdown",
   "metadata": {},
   "source": [
    "<h3>3.6 columns<h3>"
   ]
  },
  {
   "cell_type": "code",
   "execution_count": null,
   "metadata": {
    "application/vnd.databricks.v1+cell": {
     "inputWidgets": {},
     "nuid": "ee7b9ca0-9040-44f0-8c2a-42c155be1f47",
     "showTitle": false,
     "title": ""
    },
    "id": "bvJCMfiT-asn",
    "outputId": "756127e8-1b9a-42f2-85f0-efd394c64b81"
   },
   "outputs": [
    {
     "data": {
      "text/plain": [
       "Out[10]: ['DEST_COUNTRY_NAME', 'ORIGIN_COUNTRY_NAME', 'count']"
      ]
     },
     "metadata": {
      "application/vnd.databricks.v1+output": {
       "addedWidgets": {},
       "arguments": {},
       "data": "Out[10]: ['DEST_COUNTRY_NAME', 'ORIGIN_COUNTRY_NAME', 'count']",
       "datasetInfos": [],
       "metadata": {},
       "removedWidgets": [],
       "type": "ansi"
      }
     },
     "output_type": "display_data"
    }
   ],
   "source": [
    "# columns retorna unicamente el nombre de columna\n",
    "flightDF.columns"
   ]
  },
  {
   "cell_type": "markdown",
   "metadata": {},
   "source": [
    "<h3>3.7 dtypes<h3>"
   ]
  },
  {
   "cell_type": "code",
   "execution_count": null,
   "metadata": {
    "application/vnd.databricks.v1+cell": {
     "inputWidgets": {},
     "nuid": "7d5ffd13-8344-4d7b-8e67-0cfca73fefa9",
     "showTitle": false,
     "title": ""
    },
    "id": "AxmHcsFg-aso",
    "outputId": "6fbef6a5-8f3f-4e08-f025-30d18906f5f7"
   },
   "outputs": [
    {
     "data": {
      "text/plain": [
       "Out[11]: [('DEST_COUNTRY_NAME', 'string'),\n",
       " ('ORIGIN_COUNTRY_NAME', 'string'),\n",
       " ('count', 'int')]"
      ]
     },
     "metadata": {
      "application/vnd.databricks.v1+output": {
       "addedWidgets": {},
       "arguments": {},
       "data": "Out[11]: [('DEST_COUNTRY_NAME', 'string'),\n ('ORIGIN_COUNTRY_NAME', 'string'),\n ('count', 'int')]",
       "datasetInfos": [],
       "metadata": {},
       "removedWidgets": [],
       "type": "ansi"
      }
     },
     "output_type": "display_data"
    }
   ],
   "source": [
    "# dtypes retorna el nombre de columna y tipo de dato en forma de lista de tupla\n",
    "flightDF.dtypes"
   ]
  },
  {
   "cell_type": "markdown",
   "metadata": {},
   "source": [
    "<h3>3.7 describe<h3>"
   ]
  },
  {
   "cell_type": "code",
   "execution_count": null,
   "metadata": {
    "application/vnd.databricks.v1+cell": {
     "inputWidgets": {},
     "nuid": "0c779dc9-ffae-454a-9c70-94d94ac7b67f",
     "showTitle": false,
     "title": ""
    },
    "id": "tq06Je6c-asp",
    "outputId": "f15cd71d-543d-40ef-f176-bf8ee7c4692c"
   },
   "outputs": [
    {
     "data": {
      "text/plain": [
       "+-------+-----------------+-------------------+------------------+\n",
       "|summary|DEST_COUNTRY_NAME|ORIGIN_COUNTRY_NAME|             count|\n",
       "+-------+-----------------+-------------------+------------------+\n",
       "|  count|              256|                256|               256|\n",
       "|   mean|             null|               null|       1770.765625|\n",
       "| stddev|             null|               null|23126.516918551915|\n",
       "|    min|          Algeria|             Angola|                 1|\n",
       "|    max|           Zambia|            Vietnam|            370002|\n",
       "+-------+-----------------+-------------------+------------------+\n",
       "\n"
      ]
     },
     "metadata": {
      "application/vnd.databricks.v1+output": {
       "addedWidgets": {},
       "arguments": {},
       "data": "+-------+-----------------+-------------------+------------------+\n|summary|DEST_COUNTRY_NAME|ORIGIN_COUNTRY_NAME|             count|\n+-------+-----------------+-------------------+------------------+\n|  count|              256|                256|               256|\n|   mean|             null|               null|       1770.765625|\n| stddev|             null|               null|23126.516918551915|\n|    min|          Algeria|             Angola|                 1|\n|    max|           Zambia|            Vietnam|            370002|\n+-------+-----------------+-------------------+------------------+\n\n",
       "datasetInfos": [],
       "metadata": {},
       "removedWidgets": [],
       "type": "ansi"
      }
     },
     "output_type": "display_data"
    }
   ],
   "source": [
    "# describe: retorna una descripción de los datos de las columnas del DataFrame\n",
    "flightDF.describe().show()"
   ]
  },
  {
   "cell_type": "markdown",
   "metadata": {
    "application/vnd.databricks.v1+cell": {
     "inputWidgets": {},
     "nuid": "4c59f10d-ebb6-4441-941d-1baab03ade86",
     "showTitle": false,
     "title": ""
    },
    "id": "Xw2DHBHN-asq"
   },
   "source": [
    "## 3. Escritura"
   ]
  },
  {
   "cell_type": "markdown",
   "metadata": {
    "application/vnd.databricks.v1+cell": {
     "inputWidgets": {},
     "nuid": "f81a285d-c9fd-4d6b-aef3-98df4277d894",
     "showTitle": false,
     "title": ""
    },
    "id": "P28DH4vV-asr"
   },
   "source": [
    "Spark ofrece la **escritura de datos** de la siguiente manera:\n",
    "\n",
    "<code>DataFrameWriter.format(...).option(...).partitionBy(...).bucketBy(...).sortBy(\n",
    "  ...).save() </code>\n",
    "  \n",
    "Donde:\n",
    "  - format: formato a escribir el archivo\n",
    "  - option: opciones para la escritura (ejemplo: en CSV guardar con este tipo de separador, en parquet este tipo de comprensión)\n",
    "  - partitionBy:  particion del archivo\n",
    "  - save: ruta a guardar el archivo\n",
    "  \n",
    "Tambien se establecen los siguiente modos de escritura:\n",
    "\n",
    "| Write Mode     \t| Description                                                                                       \t|\n",
    "|---------------\t|---------------------------------------------------------------------------------------------------\t|\n",
    "| append        \t| Agrega los archivos de salida a la lista de archivos  que ya existen en esa ubicación             \t|\n",
    "| overwrite     \t| Sobrescribirá por completo cualquier dato que ya  exista en la ruta especificada                  \t|\n",
    "| errorIfExists \t|  Lanza un error y falla la escritura si ya existen datos  o archivos en la ubicación especificada \t|"
   ]
  },
  {
   "cell_type": "markdown",
   "metadata": {
    "application/vnd.databricks.v1+cell": {
     "inputWidgets": {},
     "nuid": "5797b5b5-6ded-460f-a253-30638a1db84d",
     "showTitle": false,
     "title": ""
    },
    "id": "DHTF5X2V-asr"
   },
   "source": [
    "#### 3.1 Escribiendo archivo CSV"
   ]
  },
  {
   "cell_type": "code",
   "execution_count": null,
   "metadata": {
    "application/vnd.databricks.v1+cell": {
     "inputWidgets": {},
     "nuid": "1c3c9d44-40ef-471f-87e7-7a7244488dd2",
     "showTitle": false,
     "title": ""
    },
    "id": "IukpS30a-ass"
   },
   "outputs": [],
   "source": [
    "path_out = 'path/nameFolder'\n",
    "\n",
    "(df.write.format(\"csv\")\n",
    "   .mode(\"overwrite\")\n",
    "   .option(\"sep\", \"\\t\")\n",
    "   .save(path_out)\n",
    ")"
   ]
  },
  {
   "cell_type": "markdown",
   "metadata": {
    "application/vnd.databricks.v1+cell": {
     "inputWidgets": {},
     "nuid": "235e1da9-156a-4d48-a05b-9f8bb8c03059",
     "showTitle": false,
     "title": ""
    },
    "id": "kqABfwNQ-ass"
   },
   "source": [
    "#### 3.2 Escribiendo archivo Avro"
   ]
  },
  {
   "cell_type": "code",
   "execution_count": null,
   "metadata": {
    "application/vnd.databricks.v1+cell": {
     "inputWidgets": {},
     "nuid": "16d7ec05-0da6-439e-bd2b-9488b5731c03",
     "showTitle": false,
     "title": ""
    },
    "id": "A9PFIbPU-ast"
   },
   "outputs": [],
   "source": [
    "# El formato de archivo AVRO está asociado al sistema de serialización de datos de Apache Hadoop llamado Apache Avro\n",
    "path = \"Folder1/Data_Avro\"\n",
    "\n",
    "df.write.format(\"avro\").save(path)"
   ]
  },
  {
   "cell_type": "markdown",
   "metadata": {
    "application/vnd.databricks.v1+cell": {
     "inputWidgets": {},
     "nuid": "bf82b42b-c607-48ff-be00-e459d8ec12dd",
     "showTitle": false,
     "title": ""
    },
    "id": "5RHvuay7-asu"
   },
   "source": [
    "#### 3.3 Escribiendo archivo Parquet"
   ]
  },
  {
   "cell_type": "code",
   "execution_count": null,
   "metadata": {
    "application/vnd.databricks.v1+cell": {
     "inputWidgets": {},
     "nuid": "722121ff-18c0-44c8-84fe-fc8d78be8e89",
     "showTitle": false,
     "title": ""
    },
    "id": "AKyQtbJO-asu"
   },
   "outputs": [],
   "source": [
    "# Parquet es el formato de almacenamiento en columnas principal en el ecosistema Hadoop.\n",
    "usersOutputPath = ''\n",
    "\n",
    "(df.write\n",
    "  .option(\"compression\", \"snappy\")\n",
    "  .mode(\"overwrite\")\n",
    "  .parquet(usersOutputPath)\n",
    ")"
   ]
  },
  {
   "cell_type": "markdown",
   "metadata": {
    "application/vnd.databricks.v1+cell": {
     "inputWidgets": {},
     "nuid": "01b03b17-b770-49a8-bb20-b2d7bb45859f",
     "showTitle": false,
     "title": ""
    },
    "id": "4bqpGr_k-asu"
   },
   "source": [
    "# EJERCICIOS\n",
    "------------------"
   ]
  },
  {
   "cell_type": "markdown",
   "metadata": {
    "application/vnd.databricks.v1+cell": {
     "inputWidgets": {},
     "nuid": "587b4dc2-fb01-428b-b441-8bf8ae0c4a37",
     "showTitle": false,
     "title": ""
    },
    "id": "z7QxS7MC-asv"
   },
   "source": [
    "### 1. Lectura con inferencia de Esquema\n",
    "- Cargue el archivo <code>.csv</code> \n",
    "- Cree `productsDF` leyendo el archivo CSV recien cargado\n",
    "- Configure las opciones para tomar la primera linea como cafecera e infiera el esquema\n",
    "- Muestre algunos datos básicos del Df"
   ]
  },
  {
   "cell_type": "code",
   "execution_count": 3,
   "metadata": {
    "executionInfo": {
     "elapsed": 1231,
     "status": "ok",
     "timestamp": 1643579739813,
     "user": {
      "displayName": "GONZALO ANTONIO DELGADO RUBIO",
      "photoUrl": "https://lh3.googleusercontent.com/a/default-user=s64",
      "userId": "00000985560413717597"
     },
     "user_tz": 300
    },
    "id": "lVm3zlLX_HnP"
   },
   "outputs": [],
   "source": [
    "import os\n",
    "import shutil\n",
    "\n",
    "# solo google colab\n",
    "import io\n",
    "from google.colab import files"
   ]
  },
  {
   "cell_type": "code",
   "execution_count": 4,
   "metadata": {
    "colab": {
     "base_uri": "https://localhost:8080/",
     "height": 73,
     "resources": {
      "http://localhost:8080/nbextensions/google.colab/files.js": {
       "data": "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",
       "headers": [
        [
         "content-type",
         "application/javascript"
        ]
       ],
       "ok": true,
       "status": 200,
       "status_text": ""
      }
     }
    },
    "executionInfo": {
     "elapsed": 13610,
     "status": "ok",
     "timestamp": 1643579768743,
     "user": {
      "displayName": "GONZALO ANTONIO DELGADO RUBIO",
      "photoUrl": "https://lh3.googleusercontent.com/a/default-user=s64",
      "userId": "00000985560413717597"
     },
     "user_tz": 300
    },
    "id": "Fr2Djr9I_JjX",
    "outputId": "87744970-016c-4844-ee36-9c4b099342bd"
   },
   "outputs": [
    {
     "data": {
      "text/html": [
       "\n",
       "     <input type=\"file\" id=\"files-df7e62ed-a4e2-4d8f-b49b-6ab5d90aa833\" name=\"files[]\" multiple disabled\n",
       "        style=\"border:none\" />\n",
       "     <output id=\"result-df7e62ed-a4e2-4d8f-b49b-6ab5d90aa833\">\n",
       "      Upload widget is only available when the cell has been executed in the\n",
       "      current browser session. Please rerun this cell to enable.\n",
       "      </output>\n",
       "      <script src=\"/nbextensions/google.colab/files.js\"></script> "
      ],
      "text/plain": [
       "<IPython.core.display.HTML object>"
      ]
     },
     "metadata": {},
     "output_type": "display_data"
    },
    {
     "name": "stdout",
     "output_type": "stream",
     "text": [
      "Saving 201508_station_data.csv to 201508_station_data.csv\n"
     ]
    }
   ],
   "source": [
    "# Cargando data Google Colab\n",
    "uploaded = files.upload()"
   ]
  },
  {
   "cell_type": "code",
   "execution_count": 5,
   "metadata": {
    "colab": {
     "base_uri": "https://localhost:8080/"
    },
    "executionInfo": {
     "elapsed": 6,
     "status": "ok",
     "timestamp": 1643579800757,
     "user": {
      "displayName": "GONZALO ANTONIO DELGADO RUBIO",
      "photoUrl": "https://lh3.googleusercontent.com/a/default-user=s64",
      "userId": "00000985560413717597"
     },
     "user_tz": 300
    },
    "id": "UKbbvw2k_Vlp",
    "outputId": "95af47d1-3197-4c0b-eee2-269466c6cd74"
   },
   "outputs": [
    {
     "data": {
      "text/plain": [
       "['.config', '201508_station_data.csv', 'sample_data']"
      ]
     },
     "execution_count": 5,
     "metadata": {},
     "output_type": "execute_result"
    }
   ],
   "source": [
    "os.listdir()"
   ]
  },
  {
   "cell_type": "code",
   "execution_count": 7,
   "metadata": {
    "application/vnd.databricks.v1+cell": {
     "inputWidgets": {},
     "nuid": "8908eda2-adff-4795-be8b-1fbf283e0e84",
     "showTitle": false,
     "title": ""
    },
    "colab": {
     "base_uri": "https://localhost:8080/"
    },
    "executionInfo": {
     "elapsed": 2064,
     "status": "ok",
     "timestamp": 1643579959337,
     "user": {
      "displayName": "GONZALO ANTONIO DELGADO RUBIO",
      "photoUrl": "https://lh3.googleusercontent.com/a/default-user=s64",
      "userId": "00000985560413717597"
     },
     "user_tz": 300
    },
    "id": "3e9RWP0Y-asw",
    "outputId": "1a3cae32-73ca-4c70-9c38-35916a8db996"
   },
   "outputs": [
    {
     "name": "stdout",
     "output_type": "stream",
     "text": [
      "+----------+--------------------+---------+-----------+---------+--------+------------+\n",
      "|station_id|                name|      lat|       long|dockcount|landmark|installation|\n",
      "+----------+--------------------+---------+-----------+---------+--------+------------+\n",
      "|         2|San Jose Diridon ...|37.329732|-121.901782|       27|San Jose|    8/6/2013|\n",
      "|         3|San Jose Civic Ce...|37.330698|-121.888979|       15|San Jose|    8/5/2013|\n",
      "+----------+--------------------+---------+-----------+---------+--------+------------+\n",
      "only showing top 2 rows\n",
      "\n"
     ]
    }
   ],
   "source": [
    "# TODO\n",
    "bikeStationPath = \"201508_station_data.csv\"\n",
    "\n",
    "options = {\n",
    "    'header': True,\n",
    "    'inferSchema': True,\n",
    "    'sep': ','\n",
    "}\n",
    "\n",
    "df = spark.read.options(**options).csv(bikeStationPath)\n",
    "\n",
    "df.show(2)"
   ]
  },
  {
   "cell_type": "code",
   "execution_count": 8,
   "metadata": {
    "colab": {
     "base_uri": "https://localhost:8080/"
    },
    "executionInfo": {
     "elapsed": 302,
     "status": "ok",
     "timestamp": 1643580006402,
     "user": {
      "displayName": "GONZALO ANTONIO DELGADO RUBIO",
      "photoUrl": "https://lh3.googleusercontent.com/a/default-user=s64",
      "userId": "00000985560413717597"
     },
     "user_tz": 300
    },
    "id": "WDJ2ffjtAIEJ",
    "outputId": "d5ac17d3-bdd1-4d8d-d88a-465384ae6d52"
   },
   "outputs": [
    {
     "name": "stdout",
     "output_type": "stream",
     "text": [
      "root\n",
      " |-- station_id: integer (nullable = true)\n",
      " |-- name: string (nullable = true)\n",
      " |-- lat: double (nullable = true)\n",
      " |-- long: double (nullable = true)\n",
      " |-- dockcount: integer (nullable = true)\n",
      " |-- landmark: string (nullable = true)\n",
      " |-- installation: string (nullable = true)\n",
      "\n"
     ]
    }
   ],
   "source": [
    "df.printSchema()"
   ]
  },
  {
   "cell_type": "code",
   "execution_count": 9,
   "metadata": {
    "colab": {
     "base_uri": "https://localhost:8080/"
    },
    "executionInfo": {
     "elapsed": 13,
     "status": "ok",
     "timestamp": 1643580433503,
     "user": {
      "displayName": "GONZALO ANTONIO DELGADO RUBIO",
      "photoUrl": "https://lh3.googleusercontent.com/a/default-user=s64",
      "userId": "00000985560413717597"
     },
     "user_tz": 300
    },
    "id": "on1VMQN5Bw4n",
    "outputId": "c67a8e15-6ecb-4ca6-b9b1-cf00c6c640c3"
   },
   "outputs": [
    {
     "data": {
      "text/plain": [
       "['station_id', 'name', 'lat', 'long', 'dockcount', 'landmark', 'installation']"
      ]
     },
     "execution_count": 9,
     "metadata": {},
     "output_type": "execute_result"
    }
   ],
   "source": [
    "df.columns"
   ]
  },
  {
   "cell_type": "markdown",
   "metadata": {
    "application/vnd.databricks.v1+cell": {
     "inputWidgets": {},
     "nuid": "7db05ccc-aaaa-4733-b86d-e8ca9786e163",
     "showTitle": false,
     "title": ""
    },
    "id": "OFp9c85W-asx"
   },
   "source": [
    "### 2. Lectura con Esquema\n",
    "\n",
    "- Cargue archivo <code>.csv</code> con el esquema apropiado\n",
    "- Generar `df` \n",
    "- Configure opciones faltantes\n",
    "- Realice la exploración de datos del DF"
   ]
  },
  {
   "cell_type": "code",
   "execution_count": 13,
   "metadata": {
    "application/vnd.databricks.v1+cell": {
     "inputWidgets": {},
     "nuid": "4e68e61a-0eb6-40aa-b130-fd36a77de4aa",
     "showTitle": false,
     "title": ""
    },
    "colab": {
     "base_uri": "https://localhost:8080/"
    },
    "executionInfo": {
     "elapsed": 323,
     "status": "ok",
     "timestamp": 1643580626010,
     "user": {
      "displayName": "GONZALO ANTONIO DELGADO RUBIO",
      "photoUrl": "https://lh3.googleusercontent.com/a/default-user=s64",
      "userId": "00000985560413717597"
     },
     "user_tz": 300
    },
    "id": "ltTjoxZt-asy",
    "outputId": "d99322c5-d63c-4196-8eac-2df022bbdb58"
   },
   "outputs": [
    {
     "name": "stdout",
     "output_type": "stream",
     "text": [
      "+----------+--------------------+---------+-----------+---------+--------+------------+\n",
      "|station_id|                name|      lat|       long|dockcount|landmark|installation|\n",
      "+----------+--------------------+---------+-----------+---------+--------+------------+\n",
      "|         2|San Jose Diridon ...| 37.32973| -121.90178|       27|San Jose|    8/6/2013|\n",
      "|         3|San Jose Civic Ce...|37.330696| -121.88898|       15|San Jose|    8/5/2013|\n",
      "|         4|Santa Clara at Al...| 37.33399|-121.894905|       11|San Jose|    8/6/2013|\n",
      "+----------+--------------------+---------+-----------+---------+--------+------------+\n",
      "only showing top 3 rows\n",
      "\n"
     ]
    }
   ],
   "source": [
    "ddl = 'station_id integer, name string, lat float, long float, dockcount integer, landmark string, installation string'\n",
    "\n",
    "options = {\n",
    "    'header': True,\n",
    "    'sep': ','\n",
    "}\n",
    "\n",
    "df_schema = spark.read.options(**options).schema(ddl).csv(bikeStationPath)\n",
    "\n",
    "df_schema.show(3)\n"
   ]
  },
  {
   "cell_type": "markdown",
   "metadata": {
    "application/vnd.databricks.v1+cell": {
     "inputWidgets": {},
     "nuid": "0cea1422-e074-43ce-bd12-6fe4bcdbb613",
     "showTitle": false,
     "title": ""
    },
    "id": "ivIt_VZ0-asy"
   },
   "source": [
    "### 3. Escritura de DF\n",
    "\n",
    "- Guarde el dataframe <code>productsDF</code>:\n",
    " - formato `parquet`\n",
    " - formato `csv`\n",
    " - formato `avro`"
   ]
  },
  {
   "cell_type": "code",
   "execution_count": 14,
   "metadata": {
    "colab": {
     "base_uri": "https://localhost:8080/",
     "height": 35
    },
    "executionInfo": {
     "elapsed": 275,
     "status": "ok",
     "timestamp": 1643580710428,
     "user": {
      "displayName": "GONZALO ANTONIO DELGADO RUBIO",
      "photoUrl": "https://lh3.googleusercontent.com/a/default-user=s64",
      "userId": "00000985560413717597"
     },
     "user_tz": 300
    },
    "id": "JpwkaDeLCxf2",
    "outputId": "456185f7-3c02-491d-ca30-bace28da6e29"
   },
   "outputs": [
    {
     "data": {
      "application/vnd.google.colaboratory.intrinsic+json": {
       "type": "string"
      },
      "text/plain": [
       "'/content'"
      ]
     },
     "execution_count": 14,
     "metadata": {},
     "output_type": "execute_result"
    }
   ],
   "source": [
    "os.getcwd()"
   ]
  },
  {
   "cell_type": "code",
   "execution_count": 15,
   "metadata": {
    "application/vnd.databricks.v1+cell": {
     "inputWidgets": {},
     "nuid": "78bc4a60-b197-4d73-87d9-98ce324ae126",
     "showTitle": false,
     "title": ""
    },
    "executionInfo": {
     "elapsed": 1579,
     "status": "ok",
     "timestamp": 1643580766110,
     "user": {
      "displayName": "GONZALO ANTONIO DELGADO RUBIO",
      "photoUrl": "https://lh3.googleusercontent.com/a/default-user=s64",
      "userId": "00000985560413717597"
     },
     "user_tz": 300
    },
    "id": "iEnOOO6R-asz"
   },
   "outputs": [],
   "source": [
    "\n",
    "path = '/content/bike_csv'\n",
    "\n",
    "options = {\n",
    "    'header': True,\n",
    "    'sep': ','\n",
    "}\n",
    "\n",
    "df_schema.write.mode('overwrite').options(**options).csv(path)"
   ]
  },
  {
   "cell_type": "code",
   "execution_count": 16,
   "metadata": {
    "colab": {
     "base_uri": "https://localhost:8080/"
    },
    "executionInfo": {
     "elapsed": 313,
     "status": "ok",
     "timestamp": 1643580783640,
     "user": {
      "displayName": "GONZALO ANTONIO DELGADO RUBIO",
      "photoUrl": "https://lh3.googleusercontent.com/a/default-user=s64",
      "userId": "00000985560413717597"
     },
     "user_tz": 300
    },
    "id": "Qp2JK2c1DEec",
    "outputId": "cceae2b0-f45b-4d6c-921f-b75b8bcf587d"
   },
   "outputs": [
    {
     "data": {
      "text/plain": [
       "['._SUCCESS.crc',\n",
       " 'part-00000-7112ae43-6ec6-4d7d-a65d-06cdc47d5fed-c000.csv',\n",
       " '.part-00000-7112ae43-6ec6-4d7d-a65d-06cdc47d5fed-c000.csv.crc',\n",
       " '_SUCCESS']"
      ]
     },
     "execution_count": 16,
     "metadata": {},
     "output_type": "execute_result"
    }
   ],
   "source": [
    "os.listdir(path)"
   ]
  },
  {
   "cell_type": "code",
   "execution_count": 17,
   "metadata": {
    "colab": {
     "base_uri": "https://localhost:8080/",
     "height": 17
    },
    "executionInfo": {
     "elapsed": 297,
     "status": "ok",
     "timestamp": 1643580901230,
     "user": {
      "displayName": "GONZALO ANTONIO DELGADO RUBIO",
      "photoUrl": "https://lh3.googleusercontent.com/a/default-user=s64",
      "userId": "00000985560413717597"
     },
     "user_tz": 300
    },
    "id": "JXd60XQSDZUo",
    "outputId": "6ce4dfd9-9ae5-4dd6-9c77-7511a7becab6"
   },
   "outputs": [
    {
     "data": {
      "application/javascript": [
       "\n",
       "    async function download(id, filename, size) {\n",
       "      if (!google.colab.kernel.accessAllowed) {\n",
       "        return;\n",
       "      }\n",
       "      const div = document.createElement('div');\n",
       "      const label = document.createElement('label');\n",
       "      label.textContent = `Downloading \"${filename}\": `;\n",
       "      div.appendChild(label);\n",
       "      const progress = document.createElement('progress');\n",
       "      progress.max = size;\n",
       "      div.appendChild(progress);\n",
       "      document.body.appendChild(div);\n",
       "\n",
       "      const buffers = [];\n",
       "      let downloaded = 0;\n",
       "\n",
       "      const channel = await google.colab.kernel.comms.open(id);\n",
       "      // Send a message to notify the kernel that we're ready.\n",
       "      channel.send({})\n",
       "\n",
       "      for await (const message of channel.messages) {\n",
       "        // Send a message to notify the kernel that we're ready.\n",
       "        channel.send({})\n",
       "        if (message.buffers) {\n",
       "          for (const buffer of message.buffers) {\n",
       "            buffers.push(buffer);\n",
       "            downloaded += buffer.byteLength;\n",
       "            progress.value = downloaded;\n",
       "          }\n",
       "        }\n",
       "      }\n",
       "      const blob = new Blob(buffers, {type: 'application/binary'});\n",
       "      const a = document.createElement('a');\n",
       "      a.href = window.URL.createObjectURL(blob);\n",
       "      a.download = filename;\n",
       "      div.appendChild(a);\n",
       "      a.click();\n",
       "      div.remove();\n",
       "    }\n",
       "  "
      ],
      "text/plain": [
       "<IPython.core.display.Javascript object>"
      ]
     },
     "metadata": {},
     "output_type": "display_data"
    },
    {
     "data": {
      "application/javascript": [
       "download(\"download_fc52686f-c835-4390-b185-6510c5f3ab53\", \"part-00000-7112ae43-6ec6-4d7d-a65d-06cdc47d5fed-c000.csv\", 5119)"
      ],
      "text/plain": [
       "<IPython.core.display.Javascript object>"
      ]
     },
     "metadata": {},
     "output_type": "display_data"
    }
   ],
   "source": [
    "files.download(path + '/part-00000-7112ae43-6ec6-4d7d-a65d-06cdc47d5fed-c000.csv')"
   ]
  },
  {
   "cell_type": "markdown",
   "metadata": {
    "application/vnd.databricks.v1+cell": {
     "inputWidgets": {},
     "nuid": "3f797f6b-268f-4ad7-9bc7-20c3198b0b71",
     "showTitle": false,
     "title": ""
    },
    "id": "DHFMTOzB-asz"
   },
   "source": [
    "###  ARTICULOS\n",
    "-------------------------\n",
    "\n",
    "- [Mostrar Primeras Filas del Df](https://sparkbyexamples.com/spark/show-top-n-rows-in-spark-pyspark/)"
   ]
  }
 ],
 "metadata": {
  "application/vnd.databricks.v1+notebook": {
   "dashboards": [],
   "language": "python",
   "notebookMetadata": {
    "pythonIndentUnit": 2
   },
   "notebookName": "2.1 Ingesta Datos Estructurados",
   "notebookOrigID": 3757038398169087,
   "widgets": {}
  },
  "colab": {
   "name": "2.1 Ingesta Datos Estructurados.ipynb",
   "provenance": []
  },
  "kernelspec": {
   "display_name": "Python 3 (ipykernel)",
   "language": "python",
   "name": "python3"
  },
  "language_info": {
   "codemirror_mode": {
    "name": "ipython",
    "version": 3
   },
   "file_extension": ".py",
   "mimetype": "text/x-python",
   "name": "python",
   "nbconvert_exporter": "python",
   "pygments_lexer": "ipython3",
   "version": "3.7.11"
  }
 },
 "nbformat": 4,
 "nbformat_minor": 1
}
